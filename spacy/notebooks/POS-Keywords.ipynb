{
 "cells": [
  {
   "cell_type": "markdown",
   "metadata": {},
   "source": [
    "# Part-of-Speech Tagging & Keyword Extraction"
   ]
  },
  {
   "cell_type": "markdown",
   "metadata": {},
   "source": [
    "[Download relevant files](https://melaniewalsh.org/spacy.zip)"
   ]
  },
  {
   "cell_type": "markdown",
   "metadata": {},
   "source": [
    "In this lesson, we're going to learn about the textual analysis methods **part-of-speech tagging** and **keyword extraction**. These methods will help us computationally parse sentences and better understand words in context."
   ]
  },
  {
   "cell_type": "markdown",
   "metadata": {},
   "source": [
    "<img src=\"../images/Ada-dep-parse.png\" width=\"100%\">"
   ]
  },
  {
   "cell_type": "markdown",
   "metadata": {},
   "source": [
    "# Why is Part-of-Speech Tagging Useful?"
   ]
  },
  {
   "cell_type": "markdown",
   "metadata": {},
   "source": [
    "I don't mean to go all [Language Nerd](https://xkcd.com/1443/) on you, but parts of speech are important. Even if they seem kind of boring. As you may have learned in an English class at some point in your life, \"parts of speech\" are the grammatical units of language — such as (in English) nouns, verbs, adjectives, adverbs, pronouns, and prepositions. Each of these parts of speech plays a different role in a sentence."
   ]
  },
  {
   "cell_type": "markdown",
   "metadata": {},
   "source": [
    "<img src=\"https://imgs.xkcd.com/comics/language_nerd.png\">\n",
    "\n",
    "<center><a href=\"https://xkcd.com/1443/\">\"Language Nerd\" by xkcd</a><center>"
   ]
  },
  {
   "cell_type": "markdown",
   "metadata": {},
   "source": [
    "By computationally identifying parts of speech, we can start computationally exploring *syntax*, the relationship between words — rather than only focusing on words in isolation, as we did with tf-idf. Though parts of speech may seem pedantic, they help computers (and us) crack at that ever-elusive abstract noun: *meaning*. "
   ]
  },
  {
   "cell_type": "markdown",
   "metadata": {},
   "source": [
    "# spaCy and Natural Language Processing (NLP)"
   ]
  },
  {
   "cell_type": "markdown",
   "metadata": {},
   "source": [
    "To computationally identify parts of speech, we're going to use the natural language processing library spaCy. For a more extensive introduction to NLP and spaCy, see the previous lesson.\n",
    "\n",
    "To parse sentences, spaCy relies on machine learning models that were trained on large amounts of labeled text data. The English-language spaCy model that we're going to use in this lesson was trained on an annotated corpus called [\"OntoNotes\"](https://catalog.ldc.upenn.edu/docs/LDC2013T19/OntoNotes-Release-5.0.pdf): 2 million+ words drawn from \"news, broadcast, talk shows, weblogs, usenet newsgroups, and conversational telephone speech,\" which were meticulously tagged by a group of researchers and professionals for people's names and places, for nouns and verbs, for subjects and objects, and much more."
   ]
  },
  {
   "cell_type": "markdown",
   "metadata": {},
   "source": [
    "# Install spaCy"
   ]
  },
  {
   "cell_type": "markdown",
   "metadata": {},
   "source": [
    "To use spaCy, we first need to install the library."
   ]
  },
  {
   "cell_type": "code",
   "execution_count": null,
   "metadata": {},
   "outputs": [],
   "source": [
    "!pip install -U spacy"
   ]
  },
  {
   "cell_type": "markdown",
   "metadata": {},
   "source": [
    "# Import Libraries"
   ]
  },
  {
   "cell_type": "markdown",
   "metadata": {},
   "source": [
    "Then we're going to import `spacy` and `displacy`, a special spaCy module for visualization."
   ]
  },
  {
   "cell_type": "code",
   "execution_count": 2,
   "metadata": {},
   "outputs": [],
   "source": [
    "import spacy\n",
    "from spacy import displacy"
   ]
  },
  {
   "cell_type": "markdown",
   "metadata": {},
   "source": [
    "We're also going to import the `Counter` module for counting nouns, verbs, adjectives, etc., and the `pandas` library for organizing and displaying data (we're also changing the pandas default max row and column width display setting)."
   ]
  },
  {
   "cell_type": "code",
   "execution_count": 3,
   "metadata": {},
   "outputs": [],
   "source": [
    "from collections import Counter"
   ]
  },
  {
   "cell_type": "code",
   "execution_count": 4,
   "metadata": {},
   "outputs": [],
   "source": [
    "import pandas as pd\n",
    "pd.set_option(\"max_rows\", 400)\n",
    "pd.set_option(\"max_colwidth\", 400)"
   ]
  },
  {
   "cell_type": "markdown",
   "metadata": {},
   "source": [
    "# Download Language Model"
   ]
  },
  {
   "cell_type": "markdown",
   "metadata": {},
   "source": [
    "Next we need to download the English-language model (`en_core_web_sm`), which will be processing and making predictions about our texts. This is the model that was trained on the annotated \"OntoNotes\" corpus. You can download the `en_core_web_sm` model by running the cell below:"
   ]
  },
  {
   "cell_type": "code",
   "execution_count": 6,
   "metadata": {},
   "outputs": [
    {
     "name": "stdout",
     "output_type": "stream",
     "text": [
      "Requirement already satisfied: en_core_web_sm==2.1.0 from https://github.com/explosion/spacy-models/releases/download/en_core_web_sm-2.1.0/en_core_web_sm-2.1.0.tar.gz#egg=en_core_web_sm==2.1.0 in /Users/melaniewalsh/anaconda3/lib/python3.7/site-packages (2.1.0)\n",
      "\u001b[38;5;2m✔ Download and installation successful\u001b[0m\n",
      "You can now load the model via spacy.load('en_core_web_sm')\n"
     ]
    }
   ],
   "source": [
    "!python -m spacy download en_core_web_sm"
   ]
  },
  {
   "cell_type": "markdown",
   "metadata": {},
   "source": [
    "*Note: spaCy offers [models for other languages](https://spacy.io/usage/models#languages) including German, French, Spanish, Portuguese, Italian, Dutch, Greek, Norwegian, and Lithuanian. Languages such as Russian, Ukrainian, Thai, Chinese, Japanese, Korean and Vietnamese don't currently have their own NLP models. However, spaCy offers language and tokenization support for many of these language with external dependencies — such as [PyviKonlpy](https://github.com/konlpy/konlpy) for Korean or [Jieba](https://github.com/fxsjy/jieba) for Chinese.*"
   ]
  },
  {
   "cell_type": "markdown",
   "metadata": {},
   "source": [
    "# Load Language Model"
   ]
  },
  {
   "cell_type": "markdown",
   "metadata": {},
   "source": [
    "Once the model is downloaded, we need to load it with `spacy.load()` and assign it to the variable `nlp`."
   ]
  },
  {
   "cell_type": "code",
   "execution_count": 6,
   "metadata": {},
   "outputs": [],
   "source": [
    "nlp = spacy.load('en_core_web_sm')"
   ]
  },
  {
   "cell_type": "markdown",
   "metadata": {},
   "source": [
    "# Create a Processed spaCy Document"
   ]
  },
  {
   "cell_type": "markdown",
   "metadata": {},
   "source": [
    "Whenever we use spaCy, our first step will be to create a processed spaCy `document` with the loaded NLP model `nlp()`. Most of the heavy NLP lifting is done in this line of code. After processing, the `document` object will contain tons of juicy language data — named entities, sentence boundaries, parts of speech — and the rest of our work will be devoted to accessing this information.\n",
    "\n",
    "To test out spaCy's part-of-speech tagging, we'll begin by processing a sample sentence from Ada Lovelace's obituary:"
   ]
  },
  {
   "cell_type": "markdown",
   "metadata": {},
   "source": [
    "> \"[Charles] Babbage, who called [Ada Lovelace] the “enchantress of numbers,” once wrote that\n",
    "she “has thrown her magical **spell** around the most **abstract** of Sciences and has grasped\n",
    "it with a **force** which few masculine intellects (in our own country at least) could have exerted over it."
   ]
  },
  {
   "cell_type": "markdown",
   "metadata": {},
   "source": [
    "This sentence makes for an interesting example because it is syntactically complex and because it includes contains difficultly ambiguous words such as \"spell,\" \"abstract,\" and \"force.\""
   ]
  },
  {
   "cell_type": "code",
   "execution_count": 1669,
   "metadata": {},
   "outputs": [],
   "source": [
    "sample = \"\"\"She “has thrown her magical spell around the most abstract of Sciences and has grasped\n",
    "it with a force which few masculine intellects (in our own country at least) could have exerted over it.\"\"\""
   ]
  },
  {
   "cell_type": "code",
   "execution_count": 1670,
   "metadata": {},
   "outputs": [],
   "source": [
    "document = nlp(sample)"
   ]
  },
  {
   "cell_type": "markdown",
   "metadata": {},
   "source": [
    "# spaCy Part-of-Speech Tagging"
   ]
  },
  {
   "cell_type": "markdown",
   "metadata": {},
   "source": [
    "| POS   | Description               | Examples                                      |\n",
    "|:-----:|:-------------------------:|:---------------------------------------------:|\n",
    "| ADJ   | adjective                 | big, old, green, incomprehensible, first      |\n",
    "| ADP   | adposition                | in, to, during                                |\n",
    "| ADV   | adverb                    | very, tomorrow, down, where, there            |\n",
    "| AUX   | auxiliary                 | is, has (done), will (do), should (do)        |\n",
    "| CONJ  | conjunction               | and, or, but                                  |\n",
    "| CCONJ | coordinating conjunction  | and, or, but                                  |\n",
    "| DET   | determiner                | a, an, the                                    |\n",
    "| INTJ  | interjection              | psst, ouch, bravo, hello                      |\n",
    "| NOUN  | noun                      | girl, cat, tree, air, beauty                  |\n",
    "| NUM   | numeral                   | 1, 2017, one, seventy-seven, IV, MMXIV        |\n",
    "| PART  | particle                  | ’s, not,                                      |\n",
    "| PRON  | pronoun                   | I, you, he, she, myself, themselves, somebody |\n",
    "| PROPN | proper noun               | Mary, John, London, NATO, HBO                 |\n",
    "| PUNCT | punctuation               | ., (, ), ?                                    |\n",
    "| SCONJ | subordinating conjunction | if, while, that                               |\n",
    "| SYM   | symbol                    | $, %, §, ©, +, −, ×, ÷, =, :), 😝             |\n",
    "| VERB  | verb                      | run, runs, running, eat, ate, eating          |\n",
    "| X     | other                     | sfpksdpsxmsa                                  |\n",
    "| SPACE | space                     |                                               |\n"
   ]
  },
  {
   "cell_type": "markdown",
   "metadata": {},
   "source": [
    "Above is a POS chart taken from [spaCy's website](https://spacy.io/api/annotation#named-entities), which shows the different parts of speech that spaCy can identify as well as their corresponding labels. To quickly see spaCy's POS tagging in action, we can use the [spaCy module `displacy`](https://spacy.io/usage/visualizers#ent) on our sample `document` with the `style=` parameter set to \"dep\" (short for dependency parsing):"
   ]
  },
  {
   "cell_type": "code",
   "execution_count": 1657,
   "metadata": {
    "scrolled": true,
    "tags": [
     "output_scroll"
    ]
   },
   "outputs": [
    {
     "data": {
      "text/html": [
       "<svg xmlns=\"http://www.w3.org/2000/svg\" xmlns:xlink=\"http://www.w3.org/1999/xlink\" xml:lang=\"en\" id=\"42df934084024c90a75367355ee457a0-0\" class=\"displacy\" width=\"3200\" height=\"542.0\" direction=\"ltr\" style=\"max-width: none; height: 542.0px; color: yellow; background: black; font-family: Gill Sans; direction: ltr\">\n",
       "<text class=\"displacy-token\" fill=\"currentColor\" text-anchor=\"middle\" y=\"452.0\">\n",
       "    <tspan class=\"displacy-word\" fill=\"currentColor\" x=\"50\">She “</tspan>\n",
       "    <tspan class=\"displacy-tag\" dy=\"2em\" fill=\"currentColor\" x=\"50\">PRON</tspan>\n",
       "</text>\n",
       "\n",
       "<text class=\"displacy-token\" fill=\"currentColor\" text-anchor=\"middle\" y=\"452.0\">\n",
       "    <tspan class=\"displacy-word\" fill=\"currentColor\" x=\"140\">has</tspan>\n",
       "    <tspan class=\"displacy-tag\" dy=\"2em\" fill=\"currentColor\" x=\"140\">VERB</tspan>\n",
       "</text>\n",
       "\n",
       "<text class=\"displacy-token\" fill=\"currentColor\" text-anchor=\"middle\" y=\"452.0\">\n",
       "    <tspan class=\"displacy-word\" fill=\"currentColor\" x=\"230\">thrown</tspan>\n",
       "    <tspan class=\"displacy-tag\" dy=\"2em\" fill=\"currentColor\" x=\"230\">VERB</tspan>\n",
       "</text>\n",
       "\n",
       "<text class=\"displacy-token\" fill=\"currentColor\" text-anchor=\"middle\" y=\"452.0\">\n",
       "    <tspan class=\"displacy-word\" fill=\"currentColor\" x=\"320\">her</tspan>\n",
       "    <tspan class=\"displacy-tag\" dy=\"2em\" fill=\"currentColor\" x=\"320\">DET</tspan>\n",
       "</text>\n",
       "\n",
       "<text class=\"displacy-token\" fill=\"currentColor\" text-anchor=\"middle\" y=\"452.0\">\n",
       "    <tspan class=\"displacy-word\" fill=\"currentColor\" x=\"410\">magical</tspan>\n",
       "    <tspan class=\"displacy-tag\" dy=\"2em\" fill=\"currentColor\" x=\"410\">ADJ</tspan>\n",
       "</text>\n",
       "\n",
       "<text class=\"displacy-token\" fill=\"currentColor\" text-anchor=\"middle\" y=\"452.0\">\n",
       "    <tspan class=\"displacy-word\" fill=\"currentColor\" x=\"500\">spell</tspan>\n",
       "    <tspan class=\"displacy-tag\" dy=\"2em\" fill=\"currentColor\" x=\"500\">NOUN</tspan>\n",
       "</text>\n",
       "\n",
       "<text class=\"displacy-token\" fill=\"currentColor\" text-anchor=\"middle\" y=\"452.0\">\n",
       "    <tspan class=\"displacy-word\" fill=\"currentColor\" x=\"590\">around</tspan>\n",
       "    <tspan class=\"displacy-tag\" dy=\"2em\" fill=\"currentColor\" x=\"590\">ADP</tspan>\n",
       "</text>\n",
       "\n",
       "<text class=\"displacy-token\" fill=\"currentColor\" text-anchor=\"middle\" y=\"452.0\">\n",
       "    <tspan class=\"displacy-word\" fill=\"currentColor\" x=\"680\">the</tspan>\n",
       "    <tspan class=\"displacy-tag\" dy=\"2em\" fill=\"currentColor\" x=\"680\">DET</tspan>\n",
       "</text>\n",
       "\n",
       "<text class=\"displacy-token\" fill=\"currentColor\" text-anchor=\"middle\" y=\"452.0\">\n",
       "    <tspan class=\"displacy-word\" fill=\"currentColor\" x=\"770\">most</tspan>\n",
       "    <tspan class=\"displacy-tag\" dy=\"2em\" fill=\"currentColor\" x=\"770\">ADV</tspan>\n",
       "</text>\n",
       "\n",
       "<text class=\"displacy-token\" fill=\"currentColor\" text-anchor=\"middle\" y=\"452.0\">\n",
       "    <tspan class=\"displacy-word\" fill=\"currentColor\" x=\"860\">abstract</tspan>\n",
       "    <tspan class=\"displacy-tag\" dy=\"2em\" fill=\"currentColor\" x=\"860\">ADJ</tspan>\n",
       "</text>\n",
       "\n",
       "<text class=\"displacy-token\" fill=\"currentColor\" text-anchor=\"middle\" y=\"452.0\">\n",
       "    <tspan class=\"displacy-word\" fill=\"currentColor\" x=\"950\">of</tspan>\n",
       "    <tspan class=\"displacy-tag\" dy=\"2em\" fill=\"currentColor\" x=\"950\">ADP</tspan>\n",
       "</text>\n",
       "\n",
       "<text class=\"displacy-token\" fill=\"currentColor\" text-anchor=\"middle\" y=\"452.0\">\n",
       "    <tspan class=\"displacy-word\" fill=\"currentColor\" x=\"1040\">Sciences</tspan>\n",
       "    <tspan class=\"displacy-tag\" dy=\"2em\" fill=\"currentColor\" x=\"1040\">PROPN</tspan>\n",
       "</text>\n",
       "\n",
       "<text class=\"displacy-token\" fill=\"currentColor\" text-anchor=\"middle\" y=\"452.0\">\n",
       "    <tspan class=\"displacy-word\" fill=\"currentColor\" x=\"1130\">and</tspan>\n",
       "    <tspan class=\"displacy-tag\" dy=\"2em\" fill=\"currentColor\" x=\"1130\">CCONJ</tspan>\n",
       "</text>\n",
       "\n",
       "<text class=\"displacy-token\" fill=\"currentColor\" text-anchor=\"middle\" y=\"452.0\">\n",
       "    <tspan class=\"displacy-word\" fill=\"currentColor\" x=\"1220\">has</tspan>\n",
       "    <tspan class=\"displacy-tag\" dy=\"2em\" fill=\"currentColor\" x=\"1220\">VERB</tspan>\n",
       "</text>\n",
       "\n",
       "<text class=\"displacy-token\" fill=\"currentColor\" text-anchor=\"middle\" y=\"452.0\">\n",
       "    <tspan class=\"displacy-word\" fill=\"currentColor\" x=\"1310\">grasped</tspan>\n",
       "    <tspan class=\"displacy-tag\" dy=\"2em\" fill=\"currentColor\" x=\"1310\">VERB</tspan>\n",
       "</text>\n",
       "\n",
       "<text class=\"displacy-token\" fill=\"currentColor\" text-anchor=\"middle\" y=\"452.0\">\n",
       "    <tspan class=\"displacy-word\" fill=\"currentColor\" x=\"1400\">\n",
       "</tspan>\n",
       "    <tspan class=\"displacy-tag\" dy=\"2em\" fill=\"currentColor\" x=\"1400\">SPACE</tspan>\n",
       "</text>\n",
       "\n",
       "<text class=\"displacy-token\" fill=\"currentColor\" text-anchor=\"middle\" y=\"452.0\">\n",
       "    <tspan class=\"displacy-word\" fill=\"currentColor\" x=\"1490\">it</tspan>\n",
       "    <tspan class=\"displacy-tag\" dy=\"2em\" fill=\"currentColor\" x=\"1490\">PRON</tspan>\n",
       "</text>\n",
       "\n",
       "<text class=\"displacy-token\" fill=\"currentColor\" text-anchor=\"middle\" y=\"452.0\">\n",
       "    <tspan class=\"displacy-word\" fill=\"currentColor\" x=\"1580\">with</tspan>\n",
       "    <tspan class=\"displacy-tag\" dy=\"2em\" fill=\"currentColor\" x=\"1580\">ADP</tspan>\n",
       "</text>\n",
       "\n",
       "<text class=\"displacy-token\" fill=\"currentColor\" text-anchor=\"middle\" y=\"452.0\">\n",
       "    <tspan class=\"displacy-word\" fill=\"currentColor\" x=\"1670\">a</tspan>\n",
       "    <tspan class=\"displacy-tag\" dy=\"2em\" fill=\"currentColor\" x=\"1670\">DET</tspan>\n",
       "</text>\n",
       "\n",
       "<text class=\"displacy-token\" fill=\"currentColor\" text-anchor=\"middle\" y=\"452.0\">\n",
       "    <tspan class=\"displacy-word\" fill=\"currentColor\" x=\"1760\">force</tspan>\n",
       "    <tspan class=\"displacy-tag\" dy=\"2em\" fill=\"currentColor\" x=\"1760\">NOUN</tspan>\n",
       "</text>\n",
       "\n",
       "<text class=\"displacy-token\" fill=\"currentColor\" text-anchor=\"middle\" y=\"452.0\">\n",
       "    <tspan class=\"displacy-word\" fill=\"currentColor\" x=\"1850\">which</tspan>\n",
       "    <tspan class=\"displacy-tag\" dy=\"2em\" fill=\"currentColor\" x=\"1850\">DET</tspan>\n",
       "</text>\n",
       "\n",
       "<text class=\"displacy-token\" fill=\"currentColor\" text-anchor=\"middle\" y=\"452.0\">\n",
       "    <tspan class=\"displacy-word\" fill=\"currentColor\" x=\"1940\">few</tspan>\n",
       "    <tspan class=\"displacy-tag\" dy=\"2em\" fill=\"currentColor\" x=\"1940\">ADJ</tspan>\n",
       "</text>\n",
       "\n",
       "<text class=\"displacy-token\" fill=\"currentColor\" text-anchor=\"middle\" y=\"452.0\">\n",
       "    <tspan class=\"displacy-word\" fill=\"currentColor\" x=\"2030\">masculine</tspan>\n",
       "    <tspan class=\"displacy-tag\" dy=\"2em\" fill=\"currentColor\" x=\"2030\">ADJ</tspan>\n",
       "</text>\n",
       "\n",
       "<text class=\"displacy-token\" fill=\"currentColor\" text-anchor=\"middle\" y=\"452.0\">\n",
       "    <tspan class=\"displacy-word\" fill=\"currentColor\" x=\"2120\">intellects (</tspan>\n",
       "    <tspan class=\"displacy-tag\" dy=\"2em\" fill=\"currentColor\" x=\"2120\">NOUN</tspan>\n",
       "</text>\n",
       "\n",
       "<text class=\"displacy-token\" fill=\"currentColor\" text-anchor=\"middle\" y=\"452.0\">\n",
       "    <tspan class=\"displacy-word\" fill=\"currentColor\" x=\"2210\">in</tspan>\n",
       "    <tspan class=\"displacy-tag\" dy=\"2em\" fill=\"currentColor\" x=\"2210\">ADP</tspan>\n",
       "</text>\n",
       "\n",
       "<text class=\"displacy-token\" fill=\"currentColor\" text-anchor=\"middle\" y=\"452.0\">\n",
       "    <tspan class=\"displacy-word\" fill=\"currentColor\" x=\"2300\">our</tspan>\n",
       "    <tspan class=\"displacy-tag\" dy=\"2em\" fill=\"currentColor\" x=\"2300\">DET</tspan>\n",
       "</text>\n",
       "\n",
       "<text class=\"displacy-token\" fill=\"currentColor\" text-anchor=\"middle\" y=\"452.0\">\n",
       "    <tspan class=\"displacy-word\" fill=\"currentColor\" x=\"2390\">own</tspan>\n",
       "    <tspan class=\"displacy-tag\" dy=\"2em\" fill=\"currentColor\" x=\"2390\">ADJ</tspan>\n",
       "</text>\n",
       "\n",
       "<text class=\"displacy-token\" fill=\"currentColor\" text-anchor=\"middle\" y=\"452.0\">\n",
       "    <tspan class=\"displacy-word\" fill=\"currentColor\" x=\"2480\">country</tspan>\n",
       "    <tspan class=\"displacy-tag\" dy=\"2em\" fill=\"currentColor\" x=\"2480\">NOUN</tspan>\n",
       "</text>\n",
       "\n",
       "<text class=\"displacy-token\" fill=\"currentColor\" text-anchor=\"middle\" y=\"452.0\">\n",
       "    <tspan class=\"displacy-word\" fill=\"currentColor\" x=\"2570\">at</tspan>\n",
       "    <tspan class=\"displacy-tag\" dy=\"2em\" fill=\"currentColor\" x=\"2570\">ADP</tspan>\n",
       "</text>\n",
       "\n",
       "<text class=\"displacy-token\" fill=\"currentColor\" text-anchor=\"middle\" y=\"452.0\">\n",
       "    <tspan class=\"displacy-word\" fill=\"currentColor\" x=\"2660\">least)</tspan>\n",
       "    <tspan class=\"displacy-tag\" dy=\"2em\" fill=\"currentColor\" x=\"2660\">ADV</tspan>\n",
       "</text>\n",
       "\n",
       "<text class=\"displacy-token\" fill=\"currentColor\" text-anchor=\"middle\" y=\"452.0\">\n",
       "    <tspan class=\"displacy-word\" fill=\"currentColor\" x=\"2750\">could</tspan>\n",
       "    <tspan class=\"displacy-tag\" dy=\"2em\" fill=\"currentColor\" x=\"2750\">VERB</tspan>\n",
       "</text>\n",
       "\n",
       "<text class=\"displacy-token\" fill=\"currentColor\" text-anchor=\"middle\" y=\"452.0\">\n",
       "    <tspan class=\"displacy-word\" fill=\"currentColor\" x=\"2840\">have</tspan>\n",
       "    <tspan class=\"displacy-tag\" dy=\"2em\" fill=\"currentColor\" x=\"2840\">VERB</tspan>\n",
       "</text>\n",
       "\n",
       "<text class=\"displacy-token\" fill=\"currentColor\" text-anchor=\"middle\" y=\"452.0\">\n",
       "    <tspan class=\"displacy-word\" fill=\"currentColor\" x=\"2930\">exerted</tspan>\n",
       "    <tspan class=\"displacy-tag\" dy=\"2em\" fill=\"currentColor\" x=\"2930\">VERB</tspan>\n",
       "</text>\n",
       "\n",
       "<text class=\"displacy-token\" fill=\"currentColor\" text-anchor=\"middle\" y=\"452.0\">\n",
       "    <tspan class=\"displacy-word\" fill=\"currentColor\" x=\"3020\">over</tspan>\n",
       "    <tspan class=\"displacy-tag\" dy=\"2em\" fill=\"currentColor\" x=\"3020\">ADP</tspan>\n",
       "</text>\n",
       "\n",
       "<text class=\"displacy-token\" fill=\"currentColor\" text-anchor=\"middle\" y=\"452.0\">\n",
       "    <tspan class=\"displacy-word\" fill=\"currentColor\" x=\"3110\">it.</tspan>\n",
       "    <tspan class=\"displacy-tag\" dy=\"2em\" fill=\"currentColor\" x=\"3110\">PRON</tspan>\n",
       "</text>\n",
       "\n",
       "<g class=\"displacy-arrow\">\n",
       "    <path class=\"displacy-arc\" id=\"arrow-42df934084024c90a75367355ee457a0-0-0\" stroke-width=\"2px\" d=\"M62,407.0 62,377.0 209.0,377.0 209.0,407.0\" fill=\"none\" stroke=\"currentColor\"/>\n",
       "    <text dy=\"1.25em\" style=\"font-size: 0.8em; letter-spacing: 1px\">\n",
       "        <textPath xlink:href=\"#arrow-42df934084024c90a75367355ee457a0-0-0\" class=\"displacy-label\" startOffset=\"50%\" side=\"left\" fill=\"currentColor\" text-anchor=\"middle\">nsubj</textPath>\n",
       "    </text>\n",
       "    <path class=\"displacy-arrowhead\" d=\"M62,409.0 L58,401.0 66,401.0\" fill=\"currentColor\"/>\n",
       "</g>\n",
       "\n",
       "<g class=\"displacy-arrow\">\n",
       "    <path class=\"displacy-arc\" id=\"arrow-42df934084024c90a75367355ee457a0-0-1\" stroke-width=\"2px\" d=\"M152,407.0 152,392.0 206.0,392.0 206.0,407.0\" fill=\"none\" stroke=\"currentColor\"/>\n",
       "    <text dy=\"1.25em\" style=\"font-size: 0.8em; letter-spacing: 1px\">\n",
       "        <textPath xlink:href=\"#arrow-42df934084024c90a75367355ee457a0-0-1\" class=\"displacy-label\" startOffset=\"50%\" side=\"left\" fill=\"currentColor\" text-anchor=\"middle\">aux</textPath>\n",
       "    </text>\n",
       "    <path class=\"displacy-arrowhead\" d=\"M152,409.0 L148,401.0 156,401.0\" fill=\"currentColor\"/>\n",
       "</g>\n",
       "\n",
       "<g class=\"displacy-arrow\">\n",
       "    <path class=\"displacy-arc\" id=\"arrow-42df934084024c90a75367355ee457a0-0-2\" stroke-width=\"2px\" d=\"M242,407.0 242,272.0 2930.0,272.0 2930.0,407.0\" fill=\"none\" stroke=\"currentColor\"/>\n",
       "    <text dy=\"1.25em\" style=\"font-size: 0.8em; letter-spacing: 1px\">\n",
       "        <textPath xlink:href=\"#arrow-42df934084024c90a75367355ee457a0-0-2\" class=\"displacy-label\" startOffset=\"50%\" side=\"left\" fill=\"currentColor\" text-anchor=\"middle\">ccomp</textPath>\n",
       "    </text>\n",
       "    <path class=\"displacy-arrowhead\" d=\"M242,409.0 L238,401.0 246,401.0\" fill=\"currentColor\"/>\n",
       "</g>\n",
       "\n",
       "<g class=\"displacy-arrow\">\n",
       "    <path class=\"displacy-arc\" id=\"arrow-42df934084024c90a75367355ee457a0-0-3\" stroke-width=\"2px\" d=\"M332,407.0 332,377.0 479.0,377.0 479.0,407.0\" fill=\"none\" stroke=\"currentColor\"/>\n",
       "    <text dy=\"1.25em\" style=\"font-size: 0.8em; letter-spacing: 1px\">\n",
       "        <textPath xlink:href=\"#arrow-42df934084024c90a75367355ee457a0-0-3\" class=\"displacy-label\" startOffset=\"50%\" side=\"left\" fill=\"currentColor\" text-anchor=\"middle\">poss</textPath>\n",
       "    </text>\n",
       "    <path class=\"displacy-arrowhead\" d=\"M332,409.0 L328,401.0 336,401.0\" fill=\"currentColor\"/>\n",
       "</g>\n",
       "\n",
       "<g class=\"displacy-arrow\">\n",
       "    <path class=\"displacy-arc\" id=\"arrow-42df934084024c90a75367355ee457a0-0-4\" stroke-width=\"2px\" d=\"M422,407.0 422,392.0 476.0,392.0 476.0,407.0\" fill=\"none\" stroke=\"currentColor\"/>\n",
       "    <text dy=\"1.25em\" style=\"font-size: 0.8em; letter-spacing: 1px\">\n",
       "        <textPath xlink:href=\"#arrow-42df934084024c90a75367355ee457a0-0-4\" class=\"displacy-label\" startOffset=\"50%\" side=\"left\" fill=\"currentColor\" text-anchor=\"middle\">amod</textPath>\n",
       "    </text>\n",
       "    <path class=\"displacy-arrowhead\" d=\"M422,409.0 L418,401.0 426,401.0\" fill=\"currentColor\"/>\n",
       "</g>\n",
       "\n",
       "<g class=\"displacy-arrow\">\n",
       "    <path class=\"displacy-arc\" id=\"arrow-42df934084024c90a75367355ee457a0-0-5\" stroke-width=\"2px\" d=\"M242,407.0 242,362.0 482.0,362.0 482.0,407.0\" fill=\"none\" stroke=\"currentColor\"/>\n",
       "    <text dy=\"1.25em\" style=\"font-size: 0.8em; letter-spacing: 1px\">\n",
       "        <textPath xlink:href=\"#arrow-42df934084024c90a75367355ee457a0-0-5\" class=\"displacy-label\" startOffset=\"50%\" side=\"left\" fill=\"currentColor\" text-anchor=\"middle\">dobj</textPath>\n",
       "    </text>\n",
       "    <path class=\"displacy-arrowhead\" d=\"M482.0,409.0 L486.0,401.0 478.0,401.0\" fill=\"currentColor\"/>\n",
       "</g>\n",
       "\n",
       "<g class=\"displacy-arrow\">\n",
       "    <path class=\"displacy-arc\" id=\"arrow-42df934084024c90a75367355ee457a0-0-6\" stroke-width=\"2px\" d=\"M242,407.0 242,347.0 575.0,347.0 575.0,407.0\" fill=\"none\" stroke=\"currentColor\"/>\n",
       "    <text dy=\"1.25em\" style=\"font-size: 0.8em; letter-spacing: 1px\">\n",
       "        <textPath xlink:href=\"#arrow-42df934084024c90a75367355ee457a0-0-6\" class=\"displacy-label\" startOffset=\"50%\" side=\"left\" fill=\"currentColor\" text-anchor=\"middle\">prep</textPath>\n",
       "    </text>\n",
       "    <path class=\"displacy-arrowhead\" d=\"M575.0,409.0 L579.0,401.0 571.0,401.0\" fill=\"currentColor\"/>\n",
       "</g>\n",
       "\n",
       "<g class=\"displacy-arrow\">\n",
       "    <path class=\"displacy-arc\" id=\"arrow-42df934084024c90a75367355ee457a0-0-7\" stroke-width=\"2px\" d=\"M692,407.0 692,377.0 839.0,377.0 839.0,407.0\" fill=\"none\" stroke=\"currentColor\"/>\n",
       "    <text dy=\"1.25em\" style=\"font-size: 0.8em; letter-spacing: 1px\">\n",
       "        <textPath xlink:href=\"#arrow-42df934084024c90a75367355ee457a0-0-7\" class=\"displacy-label\" startOffset=\"50%\" side=\"left\" fill=\"currentColor\" text-anchor=\"middle\">det</textPath>\n",
       "    </text>\n",
       "    <path class=\"displacy-arrowhead\" d=\"M692,409.0 L688,401.0 696,401.0\" fill=\"currentColor\"/>\n",
       "</g>\n",
       "\n",
       "<g class=\"displacy-arrow\">\n",
       "    <path class=\"displacy-arc\" id=\"arrow-42df934084024c90a75367355ee457a0-0-8\" stroke-width=\"2px\" d=\"M782,407.0 782,392.0 836.0,392.0 836.0,407.0\" fill=\"none\" stroke=\"currentColor\"/>\n",
       "    <text dy=\"1.25em\" style=\"font-size: 0.8em; letter-spacing: 1px\">\n",
       "        <textPath xlink:href=\"#arrow-42df934084024c90a75367355ee457a0-0-8\" class=\"displacy-label\" startOffset=\"50%\" side=\"left\" fill=\"currentColor\" text-anchor=\"middle\">amod</textPath>\n",
       "    </text>\n",
       "    <path class=\"displacy-arrowhead\" d=\"M782,409.0 L778,401.0 786,401.0\" fill=\"currentColor\"/>\n",
       "</g>\n",
       "\n",
       "<g class=\"displacy-arrow\">\n",
       "    <path class=\"displacy-arc\" id=\"arrow-42df934084024c90a75367355ee457a0-0-9\" stroke-width=\"2px\" d=\"M602,407.0 602,362.0 842.0,362.0 842.0,407.0\" fill=\"none\" stroke=\"currentColor\"/>\n",
       "    <text dy=\"1.25em\" style=\"font-size: 0.8em; letter-spacing: 1px\">\n",
       "        <textPath xlink:href=\"#arrow-42df934084024c90a75367355ee457a0-0-9\" class=\"displacy-label\" startOffset=\"50%\" side=\"left\" fill=\"currentColor\" text-anchor=\"middle\">pobj</textPath>\n",
       "    </text>\n",
       "    <path class=\"displacy-arrowhead\" d=\"M842.0,409.0 L846.0,401.0 838.0,401.0\" fill=\"currentColor\"/>\n",
       "</g>\n",
       "\n",
       "<g class=\"displacy-arrow\">\n",
       "    <path class=\"displacy-arc\" id=\"arrow-42df934084024c90a75367355ee457a0-0-10\" stroke-width=\"2px\" d=\"M872,407.0 872,392.0 926.0,392.0 926.0,407.0\" fill=\"none\" stroke=\"currentColor\"/>\n",
       "    <text dy=\"1.25em\" style=\"font-size: 0.8em; letter-spacing: 1px\">\n",
       "        <textPath xlink:href=\"#arrow-42df934084024c90a75367355ee457a0-0-10\" class=\"displacy-label\" startOffset=\"50%\" side=\"left\" fill=\"currentColor\" text-anchor=\"middle\">prep</textPath>\n",
       "    </text>\n",
       "    <path class=\"displacy-arrowhead\" d=\"M926.0,409.0 L930.0,401.0 922.0,401.0\" fill=\"currentColor\"/>\n",
       "</g>\n",
       "\n",
       "<g class=\"displacy-arrow\">\n",
       "    <path class=\"displacy-arc\" id=\"arrow-42df934084024c90a75367355ee457a0-0-11\" stroke-width=\"2px\" d=\"M962,407.0 962,392.0 1016.0,392.0 1016.0,407.0\" fill=\"none\" stroke=\"currentColor\"/>\n",
       "    <text dy=\"1.25em\" style=\"font-size: 0.8em; letter-spacing: 1px\">\n",
       "        <textPath xlink:href=\"#arrow-42df934084024c90a75367355ee457a0-0-11\" class=\"displacy-label\" startOffset=\"50%\" side=\"left\" fill=\"currentColor\" text-anchor=\"middle\">pobj</textPath>\n",
       "    </text>\n",
       "    <path class=\"displacy-arrowhead\" d=\"M1016.0,409.0 L1020.0,401.0 1012.0,401.0\" fill=\"currentColor\"/>\n",
       "</g>\n",
       "\n",
       "<g class=\"displacy-arrow\">\n",
       "    <path class=\"displacy-arc\" id=\"arrow-42df934084024c90a75367355ee457a0-0-12\" stroke-width=\"2px\" d=\"M242,407.0 242,302.0 1124.0,302.0 1124.0,407.0\" fill=\"none\" stroke=\"currentColor\"/>\n",
       "    <text dy=\"1.25em\" style=\"font-size: 0.8em; letter-spacing: 1px\">\n",
       "        <textPath xlink:href=\"#arrow-42df934084024c90a75367355ee457a0-0-12\" class=\"displacy-label\" startOffset=\"50%\" side=\"left\" fill=\"currentColor\" text-anchor=\"middle\">cc</textPath>\n",
       "    </text>\n",
       "    <path class=\"displacy-arrowhead\" d=\"M1124.0,409.0 L1128.0,401.0 1120.0,401.0\" fill=\"currentColor\"/>\n",
       "</g>\n",
       "\n",
       "<g class=\"displacy-arrow\">\n",
       "    <path class=\"displacy-arc\" id=\"arrow-42df934084024c90a75367355ee457a0-0-13\" stroke-width=\"2px\" d=\"M1232,407.0 1232,392.0 1286.0,392.0 1286.0,407.0\" fill=\"none\" stroke=\"currentColor\"/>\n",
       "    <text dy=\"1.25em\" style=\"font-size: 0.8em; letter-spacing: 1px\">\n",
       "        <textPath xlink:href=\"#arrow-42df934084024c90a75367355ee457a0-0-13\" class=\"displacy-label\" startOffset=\"50%\" side=\"left\" fill=\"currentColor\" text-anchor=\"middle\">aux</textPath>\n",
       "    </text>\n",
       "    <path class=\"displacy-arrowhead\" d=\"M1232,409.0 L1228,401.0 1236,401.0\" fill=\"currentColor\"/>\n",
       "</g>\n",
       "\n",
       "<g class=\"displacy-arrow\">\n",
       "    <path class=\"displacy-arc\" id=\"arrow-42df934084024c90a75367355ee457a0-0-14\" stroke-width=\"2px\" d=\"M242,407.0 242,287.0 1307.0,287.0 1307.0,407.0\" fill=\"none\" stroke=\"currentColor\"/>\n",
       "    <text dy=\"1.25em\" style=\"font-size: 0.8em; letter-spacing: 1px\">\n",
       "        <textPath xlink:href=\"#arrow-42df934084024c90a75367355ee457a0-0-14\" class=\"displacy-label\" startOffset=\"50%\" side=\"left\" fill=\"currentColor\" text-anchor=\"middle\">conj</textPath>\n",
       "    </text>\n",
       "    <path class=\"displacy-arrowhead\" d=\"M1307.0,409.0 L1311.0,401.0 1303.0,401.0\" fill=\"currentColor\"/>\n",
       "</g>\n",
       "\n",
       "<g class=\"displacy-arrow\">\n",
       "    <path class=\"displacy-arc\" id=\"arrow-42df934084024c90a75367355ee457a0-0-15\" stroke-width=\"2px\" d=\"M1322,407.0 1322,392.0 1376.0,392.0 1376.0,407.0\" fill=\"none\" stroke=\"currentColor\"/>\n",
       "    <text dy=\"1.25em\" style=\"font-size: 0.8em; letter-spacing: 1px\">\n",
       "        <textPath xlink:href=\"#arrow-42df934084024c90a75367355ee457a0-0-15\" class=\"displacy-label\" startOffset=\"50%\" side=\"left\" fill=\"currentColor\" text-anchor=\"middle\"></textPath>\n",
       "    </text>\n",
       "    <path class=\"displacy-arrowhead\" d=\"M1376.0,409.0 L1380.0,401.0 1372.0,401.0\" fill=\"currentColor\"/>\n",
       "</g>\n",
       "\n",
       "<g class=\"displacy-arrow\">\n",
       "    <path class=\"displacy-arc\" id=\"arrow-42df934084024c90a75367355ee457a0-0-16\" stroke-width=\"2px\" d=\"M1322,407.0 1322,377.0 1469.0,377.0 1469.0,407.0\" fill=\"none\" stroke=\"currentColor\"/>\n",
       "    <text dy=\"1.25em\" style=\"font-size: 0.8em; letter-spacing: 1px\">\n",
       "        <textPath xlink:href=\"#arrow-42df934084024c90a75367355ee457a0-0-16\" class=\"displacy-label\" startOffset=\"50%\" side=\"left\" fill=\"currentColor\" text-anchor=\"middle\">dobj</textPath>\n",
       "    </text>\n",
       "    <path class=\"displacy-arrowhead\" d=\"M1469.0,409.0 L1473.0,401.0 1465.0,401.0\" fill=\"currentColor\"/>\n",
       "</g>\n",
       "\n",
       "<g class=\"displacy-arrow\">\n",
       "    <path class=\"displacy-arc\" id=\"arrow-42df934084024c90a75367355ee457a0-0-17\" stroke-width=\"2px\" d=\"M1322,407.0 1322,362.0 1562.0,362.0 1562.0,407.0\" fill=\"none\" stroke=\"currentColor\"/>\n",
       "    <text dy=\"1.25em\" style=\"font-size: 0.8em; letter-spacing: 1px\">\n",
       "        <textPath xlink:href=\"#arrow-42df934084024c90a75367355ee457a0-0-17\" class=\"displacy-label\" startOffset=\"50%\" side=\"left\" fill=\"currentColor\" text-anchor=\"middle\">prep</textPath>\n",
       "    </text>\n",
       "    <path class=\"displacy-arrowhead\" d=\"M1562.0,409.0 L1566.0,401.0 1558.0,401.0\" fill=\"currentColor\"/>\n",
       "</g>\n",
       "\n",
       "<g class=\"displacy-arrow\">\n",
       "    <path class=\"displacy-arc\" id=\"arrow-42df934084024c90a75367355ee457a0-0-18\" stroke-width=\"2px\" d=\"M1682,407.0 1682,392.0 1736.0,392.0 1736.0,407.0\" fill=\"none\" stroke=\"currentColor\"/>\n",
       "    <text dy=\"1.25em\" style=\"font-size: 0.8em; letter-spacing: 1px\">\n",
       "        <textPath xlink:href=\"#arrow-42df934084024c90a75367355ee457a0-0-18\" class=\"displacy-label\" startOffset=\"50%\" side=\"left\" fill=\"currentColor\" text-anchor=\"middle\">det</textPath>\n",
       "    </text>\n",
       "    <path class=\"displacy-arrowhead\" d=\"M1682,409.0 L1678,401.0 1686,401.0\" fill=\"currentColor\"/>\n",
       "</g>\n",
       "\n",
       "<g class=\"displacy-arrow\">\n",
       "    <path class=\"displacy-arc\" id=\"arrow-42df934084024c90a75367355ee457a0-0-19\" stroke-width=\"2px\" d=\"M1592,407.0 1592,377.0 1739.0,377.0 1739.0,407.0\" fill=\"none\" stroke=\"currentColor\"/>\n",
       "    <text dy=\"1.25em\" style=\"font-size: 0.8em; letter-spacing: 1px\">\n",
       "        <textPath xlink:href=\"#arrow-42df934084024c90a75367355ee457a0-0-19\" class=\"displacy-label\" startOffset=\"50%\" side=\"left\" fill=\"currentColor\" text-anchor=\"middle\">pobj</textPath>\n",
       "    </text>\n",
       "    <path class=\"displacy-arrowhead\" d=\"M1739.0,409.0 L1743.0,401.0 1735.0,401.0\" fill=\"currentColor\"/>\n",
       "</g>\n",
       "\n",
       "<g class=\"displacy-arrow\">\n",
       "    <path class=\"displacy-arc\" id=\"arrow-42df934084024c90a75367355ee457a0-0-20\" stroke-width=\"2px\" d=\"M1862,407.0 1862,362.0 2102.0,362.0 2102.0,407.0\" fill=\"none\" stroke=\"currentColor\"/>\n",
       "    <text dy=\"1.25em\" style=\"font-size: 0.8em; letter-spacing: 1px\">\n",
       "        <textPath xlink:href=\"#arrow-42df934084024c90a75367355ee457a0-0-20\" class=\"displacy-label\" startOffset=\"50%\" side=\"left\" fill=\"currentColor\" text-anchor=\"middle\">det</textPath>\n",
       "    </text>\n",
       "    <path class=\"displacy-arrowhead\" d=\"M1862,409.0 L1858,401.0 1866,401.0\" fill=\"currentColor\"/>\n",
       "</g>\n",
       "\n",
       "<g class=\"displacy-arrow\">\n",
       "    <path class=\"displacy-arc\" id=\"arrow-42df934084024c90a75367355ee457a0-0-21\" stroke-width=\"2px\" d=\"M1952,407.0 1952,377.0 2099.0,377.0 2099.0,407.0\" fill=\"none\" stroke=\"currentColor\"/>\n",
       "    <text dy=\"1.25em\" style=\"font-size: 0.8em; letter-spacing: 1px\">\n",
       "        <textPath xlink:href=\"#arrow-42df934084024c90a75367355ee457a0-0-21\" class=\"displacy-label\" startOffset=\"50%\" side=\"left\" fill=\"currentColor\" text-anchor=\"middle\">amod</textPath>\n",
       "    </text>\n",
       "    <path class=\"displacy-arrowhead\" d=\"M1952,409.0 L1948,401.0 1956,401.0\" fill=\"currentColor\"/>\n",
       "</g>\n",
       "\n",
       "<g class=\"displacy-arrow\">\n",
       "    <path class=\"displacy-arc\" id=\"arrow-42df934084024c90a75367355ee457a0-0-22\" stroke-width=\"2px\" d=\"M2042,407.0 2042,392.0 2096.0,392.0 2096.0,407.0\" fill=\"none\" stroke=\"currentColor\"/>\n",
       "    <text dy=\"1.25em\" style=\"font-size: 0.8em; letter-spacing: 1px\">\n",
       "        <textPath xlink:href=\"#arrow-42df934084024c90a75367355ee457a0-0-22\" class=\"displacy-label\" startOffset=\"50%\" side=\"left\" fill=\"currentColor\" text-anchor=\"middle\">amod</textPath>\n",
       "    </text>\n",
       "    <path class=\"displacy-arrowhead\" d=\"M2042,409.0 L2038,401.0 2046,401.0\" fill=\"currentColor\"/>\n",
       "</g>\n",
       "\n",
       "<g class=\"displacy-arrow\">\n",
       "    <path class=\"displacy-arc\" id=\"arrow-42df934084024c90a75367355ee457a0-0-23\" stroke-width=\"2px\" d=\"M1772,407.0 1772,347.0 2105.0,347.0 2105.0,407.0\" fill=\"none\" stroke=\"currentColor\"/>\n",
       "    <text dy=\"1.25em\" style=\"font-size: 0.8em; letter-spacing: 1px\">\n",
       "        <textPath xlink:href=\"#arrow-42df934084024c90a75367355ee457a0-0-23\" class=\"displacy-label\" startOffset=\"50%\" side=\"left\" fill=\"currentColor\" text-anchor=\"middle\">relcl</textPath>\n",
       "    </text>\n",
       "    <path class=\"displacy-arrowhead\" d=\"M2105.0,409.0 L2109.0,401.0 2101.0,401.0\" fill=\"currentColor\"/>\n",
       "</g>\n",
       "\n",
       "<g class=\"displacy-arrow\">\n",
       "    <path class=\"displacy-arc\" id=\"arrow-42df934084024c90a75367355ee457a0-0-24\" stroke-width=\"2px\" d=\"M2222,407.0 2222,317.0 2921.0,317.0 2921.0,407.0\" fill=\"none\" stroke=\"currentColor\"/>\n",
       "    <text dy=\"1.25em\" style=\"font-size: 0.8em; letter-spacing: 1px\">\n",
       "        <textPath xlink:href=\"#arrow-42df934084024c90a75367355ee457a0-0-24\" class=\"displacy-label\" startOffset=\"50%\" side=\"left\" fill=\"currentColor\" text-anchor=\"middle\">prep</textPath>\n",
       "    </text>\n",
       "    <path class=\"displacy-arrowhead\" d=\"M2222,409.0 L2218,401.0 2226,401.0\" fill=\"currentColor\"/>\n",
       "</g>\n",
       "\n",
       "<g class=\"displacy-arrow\">\n",
       "    <path class=\"displacy-arc\" id=\"arrow-42df934084024c90a75367355ee457a0-0-25\" stroke-width=\"2px\" d=\"M2312,407.0 2312,377.0 2459.0,377.0 2459.0,407.0\" fill=\"none\" stroke=\"currentColor\"/>\n",
       "    <text dy=\"1.25em\" style=\"font-size: 0.8em; letter-spacing: 1px\">\n",
       "        <textPath xlink:href=\"#arrow-42df934084024c90a75367355ee457a0-0-25\" class=\"displacy-label\" startOffset=\"50%\" side=\"left\" fill=\"currentColor\" text-anchor=\"middle\">poss</textPath>\n",
       "    </text>\n",
       "    <path class=\"displacy-arrowhead\" d=\"M2312,409.0 L2308,401.0 2316,401.0\" fill=\"currentColor\"/>\n",
       "</g>\n",
       "\n",
       "<g class=\"displacy-arrow\">\n",
       "    <path class=\"displacy-arc\" id=\"arrow-42df934084024c90a75367355ee457a0-0-26\" stroke-width=\"2px\" d=\"M2402,407.0 2402,392.0 2456.0,392.0 2456.0,407.0\" fill=\"none\" stroke=\"currentColor\"/>\n",
       "    <text dy=\"1.25em\" style=\"font-size: 0.8em; letter-spacing: 1px\">\n",
       "        <textPath xlink:href=\"#arrow-42df934084024c90a75367355ee457a0-0-26\" class=\"displacy-label\" startOffset=\"50%\" side=\"left\" fill=\"currentColor\" text-anchor=\"middle\">amod</textPath>\n",
       "    </text>\n",
       "    <path class=\"displacy-arrowhead\" d=\"M2402,409.0 L2398,401.0 2406,401.0\" fill=\"currentColor\"/>\n",
       "</g>\n",
       "\n",
       "<g class=\"displacy-arrow\">\n",
       "    <path class=\"displacy-arc\" id=\"arrow-42df934084024c90a75367355ee457a0-0-27\" stroke-width=\"2px\" d=\"M2222,407.0 2222,362.0 2462.0,362.0 2462.0,407.0\" fill=\"none\" stroke=\"currentColor\"/>\n",
       "    <text dy=\"1.25em\" style=\"font-size: 0.8em; letter-spacing: 1px\">\n",
       "        <textPath xlink:href=\"#arrow-42df934084024c90a75367355ee457a0-0-27\" class=\"displacy-label\" startOffset=\"50%\" side=\"left\" fill=\"currentColor\" text-anchor=\"middle\">pobj</textPath>\n",
       "    </text>\n",
       "    <path class=\"displacy-arrowhead\" d=\"M2462.0,409.0 L2466.0,401.0 2458.0,401.0\" fill=\"currentColor\"/>\n",
       "</g>\n",
       "\n",
       "<g class=\"displacy-arrow\">\n",
       "    <path class=\"displacy-arc\" id=\"arrow-42df934084024c90a75367355ee457a0-0-28\" stroke-width=\"2px\" d=\"M2582,407.0 2582,392.0 2636.0,392.0 2636.0,407.0\" fill=\"none\" stroke=\"currentColor\"/>\n",
       "    <text dy=\"1.25em\" style=\"font-size: 0.8em; letter-spacing: 1px\">\n",
       "        <textPath xlink:href=\"#arrow-42df934084024c90a75367355ee457a0-0-28\" class=\"displacy-label\" startOffset=\"50%\" side=\"left\" fill=\"currentColor\" text-anchor=\"middle\">advmod</textPath>\n",
       "    </text>\n",
       "    <path class=\"displacy-arrowhead\" d=\"M2582,409.0 L2578,401.0 2586,401.0\" fill=\"currentColor\"/>\n",
       "</g>\n",
       "\n",
       "<g class=\"displacy-arrow\">\n",
       "    <path class=\"displacy-arc\" id=\"arrow-42df934084024c90a75367355ee457a0-0-29\" stroke-width=\"2px\" d=\"M2222,407.0 2222,332.0 2648.0,332.0 2648.0,407.0\" fill=\"none\" stroke=\"currentColor\"/>\n",
       "    <text dy=\"1.25em\" style=\"font-size: 0.8em; letter-spacing: 1px\">\n",
       "        <textPath xlink:href=\"#arrow-42df934084024c90a75367355ee457a0-0-29\" class=\"displacy-label\" startOffset=\"50%\" side=\"left\" fill=\"currentColor\" text-anchor=\"middle\">advmod</textPath>\n",
       "    </text>\n",
       "    <path class=\"displacy-arrowhead\" d=\"M2648.0,409.0 L2652.0,401.0 2644.0,401.0\" fill=\"currentColor\"/>\n",
       "</g>\n",
       "\n",
       "<g class=\"displacy-arrow\">\n",
       "    <path class=\"displacy-arc\" id=\"arrow-42df934084024c90a75367355ee457a0-0-30\" stroke-width=\"2px\" d=\"M2762,407.0 2762,377.0 2909.0,377.0 2909.0,407.0\" fill=\"none\" stroke=\"currentColor\"/>\n",
       "    <text dy=\"1.25em\" style=\"font-size: 0.8em; letter-spacing: 1px\">\n",
       "        <textPath xlink:href=\"#arrow-42df934084024c90a75367355ee457a0-0-30\" class=\"displacy-label\" startOffset=\"50%\" side=\"left\" fill=\"currentColor\" text-anchor=\"middle\">aux</textPath>\n",
       "    </text>\n",
       "    <path class=\"displacy-arrowhead\" d=\"M2762,409.0 L2758,401.0 2766,401.0\" fill=\"currentColor\"/>\n",
       "</g>\n",
       "\n",
       "<g class=\"displacy-arrow\">\n",
       "    <path class=\"displacy-arc\" id=\"arrow-42df934084024c90a75367355ee457a0-0-31\" stroke-width=\"2px\" d=\"M2852,407.0 2852,392.0 2906.0,392.0 2906.0,407.0\" fill=\"none\" stroke=\"currentColor\"/>\n",
       "    <text dy=\"1.25em\" style=\"font-size: 0.8em; letter-spacing: 1px\">\n",
       "        <textPath xlink:href=\"#arrow-42df934084024c90a75367355ee457a0-0-31\" class=\"displacy-label\" startOffset=\"50%\" side=\"left\" fill=\"currentColor\" text-anchor=\"middle\">aux</textPath>\n",
       "    </text>\n",
       "    <path class=\"displacy-arrowhead\" d=\"M2852,409.0 L2848,401.0 2856,401.0\" fill=\"currentColor\"/>\n",
       "</g>\n",
       "\n",
       "<g class=\"displacy-arrow\">\n",
       "    <path class=\"displacy-arc\" id=\"arrow-42df934084024c90a75367355ee457a0-0-32\" stroke-width=\"2px\" d=\"M2942,407.0 2942,392.0 2996.0,392.0 2996.0,407.0\" fill=\"none\" stroke=\"currentColor\"/>\n",
       "    <text dy=\"1.25em\" style=\"font-size: 0.8em; letter-spacing: 1px\">\n",
       "        <textPath xlink:href=\"#arrow-42df934084024c90a75367355ee457a0-0-32\" class=\"displacy-label\" startOffset=\"50%\" side=\"left\" fill=\"currentColor\" text-anchor=\"middle\">prep</textPath>\n",
       "    </text>\n",
       "    <path class=\"displacy-arrowhead\" d=\"M2996.0,409.0 L3000.0,401.0 2992.0,401.0\" fill=\"currentColor\"/>\n",
       "</g>\n",
       "\n",
       "<g class=\"displacy-arrow\">\n",
       "    <path class=\"displacy-arc\" id=\"arrow-42df934084024c90a75367355ee457a0-0-33\" stroke-width=\"2px\" d=\"M3032,407.0 3032,392.0 3086.0,392.0 3086.0,407.0\" fill=\"none\" stroke=\"currentColor\"/>\n",
       "    <text dy=\"1.25em\" style=\"font-size: 0.8em; letter-spacing: 1px\">\n",
       "        <textPath xlink:href=\"#arrow-42df934084024c90a75367355ee457a0-0-33\" class=\"displacy-label\" startOffset=\"50%\" side=\"left\" fill=\"currentColor\" text-anchor=\"middle\">pobj</textPath>\n",
       "    </text>\n",
       "    <path class=\"displacy-arrowhead\" d=\"M3086.0,409.0 L3090.0,401.0 3082.0,401.0\" fill=\"currentColor\"/>\n",
       "</g>\n",
       "</svg>"
      ],
      "text/plain": [
       "<IPython.core.display.HTML object>"
      ]
     },
     "metadata": {},
     "output_type": "display_data"
    }
   ],
   "source": [
    "#Set some display options for the visualizer\n",
    "options = {\"compact\": True, \"distance\": 90, \"color\": \"yellow\", \"bg\": \"black\", \"font\": \"Gill Sans\"}\n",
    "\n",
    "displacy.render(document, style=\"dep\", options=options)"
   ]
  },
  {
   "cell_type": "markdown",
   "metadata": {},
   "source": [
    "As you can see, spaCy has correctly identified that \"spell\" and \"force\" are nouns in our sample sentence:"
   ]
  },
  {
   "cell_type": "code",
   "execution_count": 1667,
   "metadata": {},
   "outputs": [
    {
     "name": "stdout",
     "output_type": "stream",
     "text": [
      "spell NOUN\n",
      "force NOUN\n",
      "intellects NOUN\n",
      "country NOUN\n"
     ]
    }
   ],
   "source": [
    "for token in document:\n",
    "    if token.pos_ == \"NOUN\":\n",
    "        print(token, token.pos_)"
   ]
  },
  {
   "cell_type": "markdown",
   "metadata": {},
   "source": [
    "But if we look at the same words in a different context — in a sentence that I made up — spaCy can identify when these words have changed  grammatical roles and meanings."
   ]
  },
  {
   "cell_type": "markdown",
   "metadata": {},
   "source": [
    "> You shouldn't **force** someone to learn how to **spell** Babbage. They just need practice. You can't **abstract** it."
   ]
  },
  {
   "cell_type": "code",
   "execution_count": 1671,
   "metadata": {},
   "outputs": [],
   "source": [
    "document = nlp(\"You shouldn't force someone to learn how to spell Babbage. They just need practice. You can't abstract it.\")"
   ]
  },
  {
   "cell_type": "code",
   "execution_count": 1672,
   "metadata": {},
   "outputs": [
    {
     "name": "stdout",
     "output_type": "stream",
     "text": [
      "force VERB\n",
      "learn VERB\n",
      "spell VERB\n",
      "need VERB\n",
      "abstract VERB\n"
     ]
    }
   ],
   "source": [
    "for token in document:\n",
    "    if token.pos_ == \"VERB\":\n",
    "        print(token, token.pos_)"
   ]
  },
  {
   "cell_type": "markdown",
   "metadata": {},
   "source": [
    "Where previously spaCy had identified \"force\" and \"spell\" as nouns, here spaCy correctly identifies the words \"force,\" \"spell,\" and \"abstract\" as verbs."
   ]
  },
  {
   "cell_type": "markdown",
   "metadata": {},
   "source": [
    "# Get Part-Of-Speech Tags"
   ]
  },
  {
   "cell_type": "markdown",
   "metadata": {},
   "source": [
    "To get part of speech tags for every word in a document, we have to iterate through all the tokens in the document and pull out the `.pos_` attribute for each token. We can get even finer-grained dependency information with the attribute `.dep_`.\n"
   ]
  },
  {
   "cell_type": "code",
   "execution_count": 1674,
   "metadata": {
    "scrolled": true,
    "tags": [
     "output_scroll"
    ]
   },
   "outputs": [
    {
     "name": "stdout",
     "output_type": "stream",
     "text": [
      "You PRON nsubj\n",
      "should AUX aux\n",
      "n't ADV neg\n",
      "force VERB ROOT\n",
      "someone NOUN dobj\n",
      "to PART aux\n",
      "learn VERB xcomp\n",
      "how ADV advmod\n",
      "to PART aux\n",
      "spell VERB xcomp\n",
      "Babbage PROPN dobj\n",
      ". PUNCT punct\n",
      "They PRON nsubj\n",
      "just ADV advmod\n",
      "need VERB ROOT\n",
      "practice NOUN dobj\n",
      ". PUNCT punct\n",
      "You PRON nsubj\n",
      "ca AUX aux\n",
      "n't ADV neg\n",
      "abstract VERB ROOT\n",
      "it PRON dobj\n",
      ". PUNCT punct\n"
     ]
    }
   ],
   "source": [
    "for token in document:\n",
    "    print(token.text, token.pos_, token.dep_)"
   ]
  },
  {
   "cell_type": "markdown",
   "metadata": {},
   "source": [
    "# Practicing with *Lost in the City*"
   ]
  },
  {
   "cell_type": "markdown",
   "metadata": {},
   "source": [
    "For the rest of this lesson, we're going to explore Edward P. Jones's short story collection *Lost in the City*."
   ]
  },
  {
   "cell_type": "markdown",
   "metadata": {},
   "source": [
    "<img src=\"https://mybinder.org/static/images/logo_social.png\" width=\"150\" align=\"left\"> *If you're using this Jupyter notebook in Binder (in the cloud), please uncomment the cell below and work with only the first story from _Lost in the City_. The Binder notebook is currently having issues loading the entire collection.*"
   ]
  },
  {
   "cell_type": "code",
   "execution_count": null,
   "metadata": {},
   "outputs": [],
   "source": [
    "#file = \"../texts/literature/Lost-in-the-City_Stories/01-The-Girl-Who-Raised-Pigeons.txt\"\n",
    "#document = nlp(open(file).read())"
   ]
  },
  {
   "cell_type": "code",
   "execution_count": 1677,
   "metadata": {},
   "outputs": [],
   "source": [
    "filepath = \"../texts/literature/Jones-Lost-in-The-City.txt\"\n",
    "document = nlp(open(filepath, encoding=\"utf-8\").read())"
   ]
  },
  {
   "cell_type": "markdown",
   "metadata": {},
   "source": [
    "# Get Adjectives"
   ]
  },
  {
   "cell_type": "markdown",
   "metadata": {},
   "source": [
    "| POS   | Description               | Examples                                      |\n",
    "|:-----:|:-------------------------:|:---------------------------------------------:|\n",
    "| ADJ   | adjective                 | big, old, green, incomprehensible, first      |"
   ]
  },
  {
   "cell_type": "markdown",
   "metadata": {},
   "source": [
    "To extract and count the adjectives in *Lost in the City*, we will follow the same model as above, except we'll add an `if` statement that will pull out words only if their POS label matches \"ADJ.\""
   ]
  },
  {
   "cell_type": "markdown",
   "metadata": {},
   "source": [
    "> 🐍 **Python Review** 🐍\n",
    "\n",
    ">*While we demonstrate how to extract parts of speech in the sections below, we're also going to reinforce some integral Python skills. Notice how we use `for` loops and `if` statements to `.append()` specific words to a list. Then we count the words in the list and make a pandas dataframe from the list.*"
   ]
  },
  {
   "cell_type": "markdown",
   "metadata": {},
   "source": [
    "Here we make a list of the adjectives identified in *Lost in the City*:"
   ]
  },
  {
   "cell_type": "code",
   "execution_count": 1468,
   "metadata": {
    "scrolled": true
   },
   "outputs": [],
   "source": [
    "adjs = []\n",
    "for token in document:\n",
    "    if token.pos_ == 'ADJ':\n",
    "        adjs.append(token.text)"
   ]
  },
  {
   "cell_type": "code",
   "execution_count": 1469,
   "metadata": {
    "scrolled": true,
    "tags": [
     "output_scroll"
    ]
   },
   "outputs": [
    {
     "data": {
      "text/plain": [
       "['many',\n",
       " 'vivid',\n",
       " 'simple',\n",
       " 'front',\n",
       " 'few',\n",
       " 'most',\n",
       " 'least',\n",
       " 'wooden',\n",
       " 'few',\n",
       " 'brown',\n",
       " 'old',\n",
       " 'few',\n",
       " 'old',\n",
       " 'eager',\n",
       " 'same',\n",
       " 'frightened',\n",
       " 'furious',\n",
       " 'colorful',\n",
       " 'thick',\n",
       " 'extended',\n",
       " 'old',\n",
       " 'same',\n",
       " 'gray',\n",
       " 'dead',\n",
       " 'different',\n",
       " 'radiant',\n",
       " 'black',\n",
       " 'impossible',\n",
       " 'old',\n",
       " 'most',\n",
       " 'more',\n",
       " 'own',\n",
       " 'great',\n",
       " 'such',\n",
       " 'such',\n",
       " 'difficult',\n",
       " 'old',\n",
       " 'few',\n",
       " 'good',\n",
       " 'obedient',\n",
       " 'good',\n",
       " 'most',\n",
       " 'dead',\n",
       " 'first',\n",
       " 'long',\n",
       " 'hopeful',\n",
       " 'long',\n",
       " 'half',\n",
       " 'asleep',\n",
       " 'most',\n",
       " 'more',\n",
       " 'welcome',\n",
       " 'dead',\n",
       " 'dead',\n",
       " 'such',\n",
       " 'little',\n",
       " 'more',\n",
       " 'good',\n",
       " 'young',\n",
       " 'blue',\n",
       " 'crazy',\n",
       " 'young',\n",
       " 'wet',\n",
       " 'own',\n",
       " 'close',\n",
       " 'certain',\n",
       " 'clear',\n",
       " 'uttered',\n",
       " 'double',\n",
       " 'next',\n",
       " 'vacant',\n",
       " 'front',\n",
       " 'last',\n",
       " 'rainy',\n",
       " 'bigger',\n",
       " 'much',\n",
       " 'glad',\n",
       " 'small',\n",
       " 'top',\n",
       " 'other',\n",
       " 'most',\n",
       " 'first',\n",
       " 'pretty',\n",
       " 'last',\n",
       " 'third',\n",
       " 'other',\n",
       " 'other',\n",
       " 'other',\n",
       " 'other',\n",
       " 'small',\n",
       " 'old',\n",
       " 'last',\n",
       " 'old',\n",
       " 'few',\n",
       " 'right',\n",
       " 'young',\n",
       " 'whole',\n",
       " 'lighter',\n",
       " 'fluttering',\n",
       " 'good',\n",
       " 'good',\n",
       " 'good',\n",
       " 'young',\n",
       " 'first',\n",
       " 'front',\n",
       " 'old',\n",
       " 'next',\n",
       " 'yellow',\n",
       " 'yellow',\n",
       " 'next',\n",
       " 'light',\n",
       " 'green',\n",
       " 'enough',\n",
       " 'blue',\n",
       " 'only',\n",
       " 'uncomfortable',\n",
       " 'helpless',\n",
       " 'few',\n",
       " '1st',\n",
       " 'particular',\n",
       " 'damn',\n",
       " '1st',\n",
       " 'warm',\n",
       " 'narrow',\n",
       " 'oblivious',\n",
       " 'own',\n",
       " 'easy',\n",
       " 'soundless',\n",
       " 'pink',\n",
       " 'much',\n",
       " 'clear',\n",
       " 'least',\n",
       " 'few',\n",
       " 'More',\n",
       " 'best',\n",
       " 'nice',\n",
       " 'haired',\n",
       " 'old',\n",
       " 'easy',\n",
       " 'younger',\n",
       " 'top',\n",
       " 'dull',\n",
       " 'white',\n",
       " 'black',\n",
       " 'red',\n",
       " 'several',\n",
       " 'forlorn',\n",
       " 'old',\n",
       " 'first',\n",
       " 'second',\n",
       " 'same',\n",
       " 'first',\n",
       " 'other',\n",
       " 'sure',\n",
       " 'inseparable',\n",
       " 'new',\n",
       " 'gotdamn',\n",
       " 'puppy',\n",
       " 'puppy',\n",
       " 'gotdamn',\n",
       " 'puppy',\n",
       " 'gettin',\n",
       " 'older',\n",
       " 'taller',\n",
       " 'big',\n",
       " 'big',\n",
       " 'oldest',\n",
       " 'very',\n",
       " 'overwhelming',\n",
       " 'fresh',\n",
       " 'open',\n",
       " 'such',\n",
       " 'contented',\n",
       " 'unhappy',\n",
       " 'ready',\n",
       " 'strutted',\n",
       " 'oblivious',\n",
       " 'right',\n",
       " 'aware',\n",
       " 'stupid',\n",
       " 'long',\n",
       " 'high',\n",
       " 'medieval',\n",
       " 'like',\n",
       " '1st',\n",
       " 'high',\n",
       " 'white',\n",
       " 'white',\n",
       " 'colored',\n",
       " 'high',\n",
       " 'same',\n",
       " 'same',\n",
       " 'late',\n",
       " 'entire',\n",
       " 'special',\n",
       " 'crude',\n",
       " 'dead',\n",
       " 'other',\n",
       " 'uncertain',\n",
       " 'hapless',\n",
       " 'long',\n",
       " 'first',\n",
       " 'solid',\n",
       " 'about',\n",
       " 'weekly',\n",
       " 'entire',\n",
       " 'small',\n",
       " 'perfect',\n",
       " 'male',\n",
       " 'few',\n",
       " 'bored',\n",
       " 'female',\n",
       " 'male',\n",
       " 'dead',\n",
       " 'hideous',\n",
       " 'eyed',\n",
       " 'dirty',\n",
       " 'responsible',\n",
       " 'first',\n",
       " 'unsettling',\n",
       " 'little',\n",
       " 'predictable',\n",
       " 'afraid',\n",
       " 'first',\n",
       " 'dead',\n",
       " 'less',\n",
       " 'various',\n",
       " 'lower',\n",
       " 'few',\n",
       " 'submissive',\n",
       " 'entire',\n",
       " 'little',\n",
       " 'ragged',\n",
       " 'left',\n",
       " 'additional',\n",
       " 'small',\n",
       " 'dead',\n",
       " 'full',\n",
       " 'dead',\n",
       " 'stupid',\n",
       " 'few',\n",
       " 'various',\n",
       " 'dead',\n",
       " 'grassy',\n",
       " 'medieval',\n",
       " 'large',\n",
       " 'preacher',\n",
       " 'dead',\n",
       " 'good',\n",
       " 'sleepin',\n",
       " 'cold',\n",
       " 'cold',\n",
       " 'open',\n",
       " 'cold',\n",
       " 'funny',\n",
       " 'late',\n",
       " 'mere',\n",
       " 'akin',\n",
       " 'double',\n",
       " 'new',\n",
       " 'thick',\n",
       " 'old',\n",
       " 'first',\n",
       " 'few',\n",
       " 'pleasurable',\n",
       " 'less',\n",
       " 'rainy',\n",
       " 'early',\n",
       " 'long',\n",
       " 'loose',\n",
       " 'lighthearted',\n",
       " 'standard',\n",
       " 'other',\n",
       " 'true',\n",
       " 'true',\n",
       " 'other',\n",
       " 'comfortable',\n",
       " 'other',\n",
       " 'secret',\n",
       " 'hard',\n",
       " 'second',\n",
       " 'long',\n",
       " 'other',\n",
       " 'small',\n",
       " 'other',\n",
       " 'seventh',\n",
       " 'secure',\n",
       " 'first',\n",
       " 'colored',\n",
       " 'own',\n",
       " 'asthmatic',\n",
       " 'more',\n",
       " 'back',\n",
       " 'large',\n",
       " 'enormous',\n",
       " 'much',\n",
       " 'electric',\n",
       " 'more',\n",
       " 'square',\n",
       " 'marvelous',\n",
       " 'complete',\n",
       " 'simple',\n",
       " 'such',\n",
       " 'floppy',\n",
       " 'real',\n",
       " 'microscopic',\n",
       " 'several',\n",
       " 'absolute',\n",
       " 'small',\n",
       " 'other',\n",
       " 'other',\n",
       " 'first',\n",
       " 'populated',\n",
       " 'large',\n",
       " 'light',\n",
       " 'blue',\n",
       " 'several',\n",
       " 'tiny',\n",
       " 'many',\n",
       " 'invisible',\n",
       " 'enormous',\n",
       " 'puppy',\n",
       " 'little',\n",
       " 'puppy',\n",
       " 'part',\n",
       " 'more',\n",
       " 'attractive',\n",
       " 'difficult',\n",
       " 'mean',\n",
       " 'impatient',\n",
       " 'other',\n",
       " 'stupid',\n",
       " 'stupidest',\n",
       " 'whole',\n",
       " 'wide',\n",
       " 'necessary',\n",
       " 'clean',\n",
       " 'bad',\n",
       " 'best',\n",
       " 'farthest',\n",
       " 'other',\n",
       " 'fast',\n",
       " 'last',\n",
       " 'assistant',\n",
       " 'last',\n",
       " 'same',\n",
       " 'little',\n",
       " 'hussy',\n",
       " 'assistant',\n",
       " 'about',\n",
       " 'oldest',\n",
       " 'old',\n",
       " 'assistant',\n",
       " 'able',\n",
       " 'higher',\n",
       " 'better',\n",
       " 'old',\n",
       " 'assistant',\n",
       " 'assistant',\n",
       " 'old',\n",
       " 'evil',\n",
       " 'next',\n",
       " 'good',\n",
       " 'little',\n",
       " 'same',\n",
       " 'damn',\n",
       " 'first',\n",
       " 'few',\n",
       " 'several',\n",
       " 'back',\n",
       " 'most',\n",
       " 'good',\n",
       " 'old',\n",
       " 'blue',\n",
       " 'most',\n",
       " 'deliberate',\n",
       " 'old',\n",
       " 'back',\n",
       " 'Little',\n",
       " 'little',\n",
       " 'other',\n",
       " 'free',\n",
       " 'clean',\n",
       " 'other',\n",
       " 'old',\n",
       " 'screenless',\n",
       " 'naked',\n",
       " 'clean',\n",
       " 'first',\n",
       " 'small',\n",
       " 'alien',\n",
       " 'tall',\n",
       " 'wild',\n",
       " 'good',\n",
       " 'normal',\n",
       " 'possible',\n",
       " 'last',\n",
       " 'light',\n",
       " 'nuisance',\n",
       " 'thick',\n",
       " 'beautiful',\n",
       " 'enough',\n",
       " 'first',\n",
       " 'tiny',\n",
       " 'intermittent',\n",
       " 'next',\n",
       " 'empty',\n",
       " 'more',\n",
       " 'more',\n",
       " 'various',\n",
       " 'dead',\n",
       " 'last',\n",
       " 'lower',\n",
       " 'own',\n",
       " 'white',\n",
       " 'more',\n",
       " 'brighter',\n",
       " 'alone',\n",
       " 'dead',\n",
       " 'left',\n",
       " 'able',\n",
       " 'farthest',\n",
       " 'logical',\n",
       " 'surprised',\n",
       " 'ragged',\n",
       " 'amazed',\n",
       " 'Most',\n",
       " 'front',\n",
       " 'awake',\n",
       " 'burlap',\n",
       " 'new',\n",
       " 'few',\n",
       " 'only',\n",
       " 'unharmed',\n",
       " 'upper',\n",
       " 'old',\n",
       " 'barefoot',\n",
       " 'more',\n",
       " 'many',\n",
       " 'nasty',\n",
       " 'favorite',\n",
       " 'same',\n",
       " 'warm',\n",
       " 'many',\n",
       " 'back',\n",
       " 'typical',\n",
       " 'empty',\n",
       " 'few',\n",
       " 'very',\n",
       " 'much',\n",
       " 'next',\n",
       " 'last',\n",
       " 'cold',\n",
       " 'last',\n",
       " 'final',\n",
       " 'high',\n",
       " 'empty',\n",
       " 'FIRST',\n",
       " 'unremarkable',\n",
       " 'ashamed',\n",
       " 'first',\n",
       " 'blue',\n",
       " 'green',\n",
       " 'yellow',\n",
       " 'white',\n",
       " 'brown',\n",
       " 'faint',\n",
       " 'blue',\n",
       " 'uncommon',\n",
       " 'full',\n",
       " 'brown',\n",
       " 'pale',\n",
       " 'green',\n",
       " 'new',\n",
       " 'little',\n",
       " 'stingiest',\n",
       " 'gardenia',\n",
       " 'last',\n",
       " 'yellow',\n",
       " 'thin',\n",
       " 'black',\n",
       " 'white',\n",
       " 'greatest',\n",
       " 'black',\n",
       " 'small',\n",
       " 'black',\n",
       " 'white',\n",
       " 'speckled',\n",
       " 'such',\n",
       " 'younger',\n",
       " 'precious',\n",
       " 'older',\n",
       " 'new',\n",
       " 'many',\n",
       " 'sad',\n",
       " 'faced',\n",
       " 'front',\n",
       " 'other',\n",
       " 'thick',\n",
       " 'jumbo',\n",
       " 'gardenia',\n",
       " 'wrong',\n",
       " 'several',\n",
       " 'more',\n",
       " 'many',\n",
       " 'whole',\n",
       " 'higher',\n",
       " '—',\n",
       " 'high',\n",
       " 'less',\n",
       " 'liable',\n",
       " 'larger',\n",
       " 'newer',\n",
       " 'crowded',\n",
       " 'gray',\n",
       " 'left',\n",
       " 'other',\n",
       " 'buzz',\n",
       " 'many',\n",
       " 'white',\n",
       " 'afraid',\n",
       " 'tiny',\n",
       " 'small',\n",
       " 'happy',\n",
       " 'large',\n",
       " 'worthy',\n",
       " 'high',\n",
       " 'other',\n",
       " 'several',\n",
       " 'thick',\n",
       " 'additional',\n",
       " 'few',\n",
       " 'new',\n",
       " 'sure',\n",
       " 'happier',\n",
       " 'satisfied',\n",
       " 'better',\n",
       " 'last',\n",
       " 'first',\n",
       " 'middle',\n",
       " 'more',\n",
       " 'other',\n",
       " 'baptismal',\n",
       " 'public',\n",
       " 'single',\n",
       " 'old',\n",
       " 'Few',\n",
       " 'long',\n",
       " 'last',\n",
       " 'white',\n",
       " 'old',\n",
       " 'old',\n",
       " 'loud',\n",
       " 'loud',\n",
       " 'low',\n",
       " 'old',\n",
       " 'seventh',\n",
       " 'bored',\n",
       " 'small',\n",
       " 'other',\n",
       " 'second',\n",
       " 'second',\n",
       " 'English',\n",
       " 'more',\n",
       " 'goddamn',\n",
       " 'second',\n",
       " 'green',\n",
       " 'drunken',\n",
       " 'old',\n",
       " 'last',\n",
       " 'first',\n",
       " 'same',\n",
       " 'wrong',\n",
       " 'old',\n",
       " 'cold',\n",
       " 'seventh',\n",
       " 'final',\n",
       " 'second',\n",
       " 'fine',\n",
       " 'other',\n",
       " 'small',\n",
       " 'several',\n",
       " 'brown',\n",
       " 'thicker',\n",
       " 'real',\n",
       " 'more',\n",
       " 'real',\n",
       " 'personal',\n",
       " 'personal',\n",
       " 'enough',\n",
       " 'other',\n",
       " 'potential',\n",
       " 'blah',\n",
       " 'blah',\n",
       " 'able',\n",
       " 'last',\n",
       " 'large',\n",
       " 'stayin',\n",
       " 'willya',\n",
       " 'youngest',\n",
       " 'only',\n",
       " 'other',\n",
       " 'older',\n",
       " 'thick',\n",
       " 'more',\n",
       " 'right',\n",
       " 'enthusiastic',\n",
       " 'small',\n",
       " 'late',\n",
       " 'full',\n",
       " 'nice',\n",
       " 'several',\n",
       " 'static',\n",
       " 'friendly',\n",
       " 'new',\n",
       " 'new',\n",
       " 'truest',\n",
       " 'other',\n",
       " 'good',\n",
       " 'long',\n",
       " 'second',\n",
       " 'other',\n",
       " 'quiet',\n",
       " 'grandfather',\n",
       " 'final',\n",
       " 'chump',\n",
       " 'real',\n",
       " 'cheaper',\n",
       " 'sendin',\n",
       " 'alone',\n",
       " 'few',\n",
       " 'small',\n",
       " 'strange',\n",
       " 'best',\n",
       " 'few',\n",
       " 'possible',\n",
       " 'more',\n",
       " 'short',\n",
       " 'immaculate',\n",
       " 'Such',\n",
       " 'nervous',\n",
       " 'other',\n",
       " 'surprised',\n",
       " 'pleasant',\n",
       " 'early',\n",
       " 'last',\n",
       " 'good',\n",
       " 'full',\n",
       " 'little',\n",
       " 'usual',\n",
       " 'small',\n",
       " 'larger',\n",
       " 'last',\n",
       " 'decent',\n",
       " 'alone',\n",
       " 'own',\n",
       " 'damn',\n",
       " 'hearse',\n",
       " 'bad',\n",
       " 'first',\n",
       " 'right',\n",
       " 'sorry',\n",
       " 'other',\n",
       " 'good',\n",
       " 'clear',\n",
       " 'famous',\n",
       " 'able',\n",
       " 'same',\n",
       " 'round',\n",
       " 'white',\n",
       " 'right',\n",
       " 'sorry',\n",
       " 'quiet',\n",
       " 'right',\n",
       " 'front',\n",
       " 'second',\n",
       " 'empty',\n",
       " 'naked',\n",
       " 'light',\n",
       " 'pregnant',\n",
       " 'best',\n",
       " 'damn',\n",
       " 'other',\n",
       " 'empty',\n",
       " 'empty',\n",
       " 'gettin',\n",
       " 'feelin',\n",
       " 'better',\n",
       " 'full',\n",
       " 'other',\n",
       " 'curtainless',\n",
       " 'right',\n",
       " 'sorry',\n",
       " 'other',\n",
       " 'slow',\n",
       " 'young',\n",
       " 'sooo',\n",
       " 'cute',\n",
       " 'cute',\n",
       " 'good',\n",
       " 'right',\n",
       " 'heavy',\n",
       " 'much',\n",
       " 'small',\n",
       " 'giant',\n",
       " 'good',\n",
       " 'close',\n",
       " 'small',\n",
       " 'larger',\n",
       " 'front',\n",
       " 'other',\n",
       " 'young',\n",
       " 'first',\n",
       " 'much',\n",
       " 'best',\n",
       " 'whole',\n",
       " 'many',\n",
       " 'next',\n",
       " 'only',\n",
       " 'other',\n",
       " 'weaker',\n",
       " 'less',\n",
       " 'more',\n",
       " 'few',\n",
       " 'close',\n",
       " 'next',\n",
       " 'second',\n",
       " 'glad',\n",
       " 'outta',\n",
       " 'nice',\n",
       " 'cute',\n",
       " 'worse',\n",
       " 'other',\n",
       " 'little',\n",
       " 'next',\n",
       " 'many',\n",
       " 'whole',\n",
       " 'little',\n",
       " 'sure',\n",
       " 'sure',\n",
       " 'flicted',\n",
       " 'damn',\n",
       " 'better',\n",
       " 'damn',\n",
       " 'good',\n",
       " '8th',\n",
       " 'few',\n",
       " 'different',\n",
       " 'same',\n",
       " 'quiet',\n",
       " 'few',\n",
       " 'older',\n",
       " 'Most',\n",
       " 'hi',\n",
       " 'hi',\n",
       " 'small',\n",
       " 'back',\n",
       " 'little',\n",
       " 'young',\n",
       " 'more',\n",
       " 'dramatic',\n",
       " 'oily',\n",
       " 'small',\n",
       " 'interested',\n",
       " 'hi',\n",
       " 'funny',\n",
       " 'unreal',\n",
       " 'little',\n",
       " 'Several',\n",
       " 'much',\n",
       " 'tiny',\n",
       " 'comfortable',\n",
       " 'endearing',\n",
       " 'hard',\n",
       " 'other',\n",
       " 'little',\n",
       " 'right',\n",
       " 'certain',\n",
       " 'beautiful',\n",
       " 'much',\n",
       " 'poor',\n",
       " 'little',\n",
       " 'music—“my',\n",
       " 'few',\n",
       " 'back',\n",
       " 'asleep',\n",
       " 'front',\n",
       " 'back',\n",
       " 'rough',\n",
       " 'young',\n",
       " 'able',\n",
       " 'drinkin',\n",
       " 'rough',\n",
       " 'rough',\n",
       " 'back',\n",
       " 'back',\n",
       " 'little',\n",
       " 'first',\n",
       " 'good',\n",
       " 'close',\n",
       " 'few',\n",
       " 'real',\n",
       " 'nice',\n",
       " 'rough',\n",
       " 'cute',\n",
       " 'tired',\n",
       " 'cute',\n",
       " 'damn',\n",
       " 'next',\n",
       " 'many',\n",
       " 'cute',\n",
       " 'shitty',\n",
       " 'good',\n",
       " 'best',\n",
       " 'whole',\n",
       " 'damn',\n",
       " 'more',\n",
       " 'dumb',\n",
       " 'cute',\n",
       " 'sick',\n",
       " 'tired',\n",
       " 'dumbest',\n",
       " 'sooooo',\n",
       " 'cute',\n",
       " 'whole',\n",
       " 'bad',\n",
       " 'whole',\n",
       " 'open',\n",
       " 'other',\n",
       " '8th',\n",
       " 'Little',\n",
       " 'little',\n",
       " '8th',\n",
       " 'about',\n",
       " 'little',\n",
       " 'drunk',\n",
       " 'other',\n",
       " 'first',\n",
       " 'thinkin',\n",
       " 'left',\n",
       " 'good',\n",
       " 'same',\n",
       " 'blew',\n",
       " 'plastic',\n",
       " 'few',\n",
       " 'bout',\n",
       " 'only',\n",
       " 'sure',\n",
       " 'few',\n",
       " '13th',\n",
       " 'little',\n",
       " 'particular',\n",
       " 'biggest',\n",
       " 'worse',\n",
       " '13th',\n",
       " 'low',\n",
       " 'few',\n",
       " 'important',\n",
       " 'entire',\n",
       " 'middle',\n",
       " 'strange',\n",
       " 'first',\n",
       " 'real',\n",
       " 'true',\n",
       " 'middle',\n",
       " 'angry',\n",
       " 'best',\n",
       " 'thrifty',\n",
       " 'alive',\n",
       " 'other',\n",
       " 'old',\n",
       " 'loudest',\n",
       " 'third',\n",
       " 'fourth',\n",
       " 'goin',\n",
       " 'foreign',\n",
       " 'sleep',\n",
       " 'Sometime',\n",
       " 'alone',\n",
       " 'naked',\n",
       " 'open',\n",
       " 'last',\n",
       " 'half',\n",
       " 'such',\n",
       " 'asleep',\n",
       " 'undisturbed',\n",
       " 'gold',\n",
       " 'key',\n",
       " 'expensive',\n",
       " 'more',\n",
       " 'last',\n",
       " 'high',\n",
       " 'anxious',\n",
       " 'empty',\n",
       " 'fourth',\n",
       " 'retarded',\n",
       " 'such',\n",
       " 'good',\n",
       " 'only',\n",
       " 'splintered',\n",
       " 'foreign',\n",
       " 'retarded',\n",
       " 'tall',\n",
       " 'feeble',\n",
       " 'minded',\n",
       " 'naked',\n",
       " 'about',\n",
       " 'obscene',\n",
       " 'other',\n",
       " 'bad',\n",
       " 'little',\n",
       " 'less',\n",
       " '“',\n",
       " 'Good',\n",
       " 'sure',\n",
       " 'available',\n",
       " 'inappropriate',\n",
       " 'whole',\n",
       " 'funny',\n",
       " 'last',\n",
       " 'retarded',\n",
       " 'first',\n",
       " 'old',\n",
       " 'good',\n",
       " 'second',\n",
       " 'better',\n",
       " 'more',\n",
       " 'free',\n",
       " 'few',\n",
       " 'brown',\n",
       " 'colder',\n",
       " 'opulent',\n",
       " 'certain',\n",
       " 'much',\n",
       " 'few',\n",
       " 'male',\n",
       " 'last',\n",
       " 'few',\n",
       " 'proper',\n",
       " 'cheap',\n",
       " 'proper',\n",
       " 'nice',\n",
       " 'retarded',\n",
       " 'quick',\n",
       " 'only',\n",
       " 'first',\n",
       " 'first',\n",
       " 'cheap',\n",
       " 'impressive',\n",
       " 'locked',\n",
       " 'most',\n",
       " 'Hawaiian',\n",
       " 'special',\n",
       " 'wild',\n",
       " 'eyed',\n",
       " 'very',\n",
       " 'irredeemable',\n",
       " 'Most',\n",
       " 'drunk',\n",
       " 'enough',\n",
       " 'goddamn',\n",
       " 'alone',\n",
       " 'unseen',\n",
       " 'alone',\n",
       " 'happy',\n",
       " 'whole',\n",
       " 'dark',\n",
       " 'tiny',\n",
       " 'small',\n",
       " 'wrong',\n",
       " 'little',\n",
       " 'Hawaiian',\n",
       " 'expensive',\n",
       " 'loud',\n",
       " 'tiny',\n",
       " 'green',\n",
       " 'thin',\n",
       " 'more',\n",
       " 'retarded',\n",
       " 'little',\n",
       " 'more',\n",
       " 'closer',\n",
       " 'Manny',\n",
       " 'more',\n",
       " 'little',\n",
       " 'last',\n",
       " 'small',\n",
       " 'functional',\n",
       " 'special',\n",
       " 'off',\n",
       " 'small',\n",
       " 'few',\n",
       " 'fine',\n",
       " 'more',\n",
       " 'more',\n",
       " 'far',\n",
       " 'dead',\n",
       " 'dead',\n",
       " 'satisfied',\n",
       " 'interested',\n",
       " ...]"
      ]
     },
     "execution_count": 1469,
     "metadata": {},
     "output_type": "execute_result"
    }
   ],
   "source": [
    "adjs"
   ]
  },
  {
   "cell_type": "markdown",
   "metadata": {},
   "source": [
    "Then we count the unique adjectives in this list with the `Counter()` module:"
   ]
  },
  {
   "cell_type": "code",
   "execution_count": 1470,
   "metadata": {
    "scrolled": true
   },
   "outputs": [],
   "source": [
    "adjs_tally = Counter(adjs)"
   ]
  },
  {
   "cell_type": "code",
   "execution_count": 1471,
   "metadata": {
    "scrolled": true,
    "tags": [
     "output_scroll"
    ]
   },
   "outputs": [
    {
     "data": {
      "text/plain": [
       "[('other', 150),\n",
       " ('old', 142),\n",
       " ('more', 131),\n",
       " ('first', 106),\n",
       " ('good', 103),\n",
       " ('few', 101),\n",
       " ('little', 94),\n",
       " ('next', 66),\n",
       " ('small', 65),\n",
       " ('last', 64),\n",
       " ('white', 57),\n",
       " ('same', 52),\n",
       " ('second', 50),\n",
       " ('long', 49),\n",
       " ('much', 49),\n",
       " ('own', 48),\n",
       " ('new', 46),\n",
       " ('right', 44),\n",
       " ('whole', 42),\n",
       " ('dead', 41),\n",
       " ('most', 36),\n",
       " ('young', 34),\n",
       " ('only', 34),\n",
       " ('many', 32),\n",
       " ('several', 31),\n",
       " ('big', 31),\n",
       " ('bad', 30),\n",
       " ('such', 28),\n",
       " ('front', 26),\n",
       " ('black', 26),\n",
       " ('retarded', 26),\n",
       " ('dark', 25),\n",
       " ('late', 22),\n",
       " ('blue', 21),\n",
       " ('nice', 21),\n",
       " ('older', 21),\n",
       " ('high', 21),\n",
       " ('alone', 21),\n",
       " ('sorry', 21),\n",
       " ('best', 20),\n",
       " ('large', 20),\n",
       " ('back', 20),\n",
       " ('real', 20),\n",
       " ('able', 20),\n",
       " ('empty', 19),\n",
       " ('enough', 18),\n",
       " ('ready', 18),\n",
       " ('less', 18),\n",
       " ('surprised', 18),\n",
       " ('asleep', 17),\n",
       " ('green', 17),\n",
       " ('better', 17),\n",
       " ('loud', 17),\n",
       " ('damn', 16),\n",
       " ('afraid', 16),\n",
       " ('full', 16),\n",
       " ('open', 15),\n",
       " ('tiny', 15),\n",
       " ('happy', 15),\n",
       " ('5th', 15),\n",
       " ('least', 14),\n",
       " ('close', 14),\n",
       " ('easy', 14),\n",
       " ('quiet', 14),\n",
       " ('thick', 13),\n",
       " ('different', 13),\n",
       " ('wrong', 13),\n",
       " ('about', 12),\n",
       " ('left', 12),\n",
       " ('cold', 12),\n",
       " ('naked', 12),\n",
       " ('orange', 12),\n",
       " ('half', 11),\n",
       " ('glad', 11),\n",
       " ('light', 11),\n",
       " ('sure', 11),\n",
       " ('Most', 11),\n",
       " ('tired', 11),\n",
       " ('third', 10),\n",
       " ('red', 10),\n",
       " ('oldest', 10),\n",
       " ('early', 10),\n",
       " ('true', 10),\n",
       " ('tall', 10),\n",
       " ('entire', 9),\n",
       " ('assistant', 9),\n",
       " ('thin', 9),\n",
       " ('foreign', 9),\n",
       " ('skinned', 9),\n",
       " ('sittin', 9),\n",
       " ('clean', 8),\n",
       " ('beautiful', 8),\n",
       " ('final', 8),\n",
       " ('cute', 8),\n",
       " ('silent', 8),\n",
       " ('wooden', 7),\n",
       " ('brown', 7),\n",
       " ('certain', 7),\n",
       " ('clear', 7),\n",
       " ('younger', 7),\n",
       " ('gettin', 7),\n",
       " ('very', 7),\n",
       " ('stupid', 7),\n",
       " ('colored', 7),\n",
       " ('special', 7),\n",
       " ('perfect', 7),\n",
       " ('possible', 7),\n",
       " ('youngest', 7),\n",
       " ('usual', 7),\n",
       " ('pregnant', 7),\n",
       " ('giant', 7),\n",
       " ('interested', 7),\n",
       " ('drunk', 7),\n",
       " ('important', 7),\n",
       " ('cheap', 7),\n",
       " ('hungry', 7),\n",
       " ('10th', 7),\n",
       " ('crazy', 6),\n",
       " ('dirty', 6),\n",
       " ('wild', 6),\n",
       " ('awake', 6),\n",
       " ('larger', 6),\n",
       " ('low', 6),\n",
       " ('fine', 6),\n",
       " ('sick', 6),\n",
       " ('13th', 6),\n",
       " ('alive', 6),\n",
       " ('expensive', 6),\n",
       " ('“', 6),\n",
       " ('bright', 6),\n",
       " ('huge', 6),\n",
       " ('married', 6),\n",
       " ('gray', 5),\n",
       " ('difficult', 5),\n",
       " ('double', 5),\n",
       " ('top', 5),\n",
       " ('pretty', 5),\n",
       " ('yellow', 5),\n",
       " ('particular', 5),\n",
       " ('puppy', 5),\n",
       " ('aware', 5),\n",
       " ('various', 5),\n",
       " ('funny', 5),\n",
       " ('comfortable', 5),\n",
       " ('hard', 5),\n",
       " ('favorite', 5),\n",
       " ('—', 5),\n",
       " ('poor', 5),\n",
       " ('plastic', 5),\n",
       " ('biggest', 5),\n",
       " ('Good', 5),\n",
       " ('proper', 5),\n",
       " ('closer', 5),\n",
       " ('safe', 5),\n",
       " ('bald', 5),\n",
       " ('proud', 5),\n",
       " ('sweet', 5),\n",
       " ('past', 5),\n",
       " ('familiar', 5),\n",
       " ('blind', 5),\n",
       " ('simple', 4),\n",
       " ('eager', 4),\n",
       " ('great', 4),\n",
       " ('warm', 4),\n",
       " ('gotdamn', 4),\n",
       " ('fresh', 4),\n",
       " ('like', 4),\n",
       " ('male', 4),\n",
       " ('sleepin', 4),\n",
       " ('seventh', 4),\n",
       " ('brighter', 4),\n",
       " ('greatest', 4),\n",
       " ('precious', 4),\n",
       " ('crowded', 4),\n",
       " ('satisfied', 4),\n",
       " ('personal', 4),\n",
       " ('short', 4),\n",
       " ('heavy', 4),\n",
       " ('worse', 4),\n",
       " ('Several', 4),\n",
       " ('rough', 4),\n",
       " ('drinkin', 4),\n",
       " ('fourth', 4),\n",
       " ('colder', 4),\n",
       " ('quick', 4),\n",
       " ('federal', 4),\n",
       " ('capable', 4),\n",
       " ('worth', 4),\n",
       " ('regular', 4),\n",
       " ('fewer', 4),\n",
       " ('14th', 4),\n",
       " ('wonderful', 4),\n",
       " ('upset', 4),\n",
       " ('talkin', 4),\n",
       " ('lucky', 4),\n",
       " ('somethin', 4),\n",
       " ('common', 4),\n",
       " ('steady', 4),\n",
       " ('wet', 3),\n",
       " ('1st', 3),\n",
       " ('dull', 3),\n",
       " ('loose', 3),\n",
       " ('standard', 3),\n",
       " ('complete', 3),\n",
       " ('invisible', 3),\n",
       " ('wide', 3),\n",
       " ('necessary', 3),\n",
       " ('higher', 3),\n",
       " ('free', 3),\n",
       " ('middle', 3),\n",
       " ('public', 3),\n",
       " ('single', 3),\n",
       " ('goddamn', 3),\n",
       " ('thicker', 3),\n",
       " ('strange', 3),\n",
       " ('pleasant', 3),\n",
       " ('decent', 3),\n",
       " ('slow', 3),\n",
       " ('8th', 3),\n",
       " ('hi', 3),\n",
       " ('angry', 3),\n",
       " ('loudest', 3),\n",
       " ('Hawaiian', 3),\n",
       " ('far', 3),\n",
       " ('shiny', 3),\n",
       " ('okay', 3),\n",
       " ('Next', 3),\n",
       " ('bottom', 3),\n",
       " ('smaller', 3),\n",
       " ('longest', 3),\n",
       " ('human', 3),\n",
       " ('dressed', 3),\n",
       " ('horrible', 3),\n",
       " ('peculiar', 3),\n",
       " ('strong', 3),\n",
       " ('painful', 3),\n",
       " ('playful', 3),\n",
       " ('sized', 3),\n",
       " ('ill', 3),\n",
       " ('similar', 3),\n",
       " ('infirmary', 3),\n",
       " ('closest', 3),\n",
       " ('wobbly', 3),\n",
       " ('sickly', 3),\n",
       " ('unable', 3),\n",
       " ('kind', 3),\n",
       " ('handsome', 3),\n",
       " ('greasy', 3),\n",
       " ('senior', 3),\n",
       " ('utter', 3),\n",
       " ('general', 3),\n",
       " ('soft', 3),\n",
       " ('furious', 2),\n",
       " ('radiant', 2),\n",
       " ('welcome', 2),\n",
       " ('rainy', 2),\n",
       " ('bigger', 2),\n",
       " ('lighter', 2),\n",
       " ('uncomfortable', 2),\n",
       " ('narrow', 2),\n",
       " ('oblivious', 2),\n",
       " ('pink', 2),\n",
       " ('forlorn', 2),\n",
       " ('taller', 2),\n",
       " ('overwhelming', 2),\n",
       " ('medieval', 2),\n",
       " ('bored', 2),\n",
       " ('hideous', 2),\n",
       " ('eyed', 2),\n",
       " ('responsible', 2),\n",
       " ('lower', 2),\n",
       " ('ragged', 2),\n",
       " ('additional', 2),\n",
       " ('secret', 2),\n",
       " ('enormous', 2),\n",
       " ('square', 2),\n",
       " ('part', 2),\n",
       " ('attractive', 2),\n",
       " ('mean', 2),\n",
       " ('farthest', 2),\n",
       " ('fast', 2),\n",
       " ('evil', 2),\n",
       " ('Little', 2),\n",
       " ('normal', 2),\n",
       " ('logical', 2),\n",
       " ('nasty', 2),\n",
       " ('gardenia', 2),\n",
       " ('sad', 2),\n",
       " ('Few', 2),\n",
       " ('English', 2),\n",
       " ('blah', 2),\n",
       " ('friendly', 2),\n",
       " ('grandfather', 2),\n",
       " ('Such', 2),\n",
       " ('nervous', 2),\n",
       " ('outta', 2),\n",
       " ('oily', 2),\n",
       " ('dumb', 2),\n",
       " ('goin', 2),\n",
       " ('gold', 2),\n",
       " ('key', 2),\n",
       " ('feeble', 2),\n",
       " ('Manny', 2),\n",
       " ('curious', 2),\n",
       " ('smart', 2),\n",
       " ('Indian', 2),\n",
       " ('overweight', 2),\n",
       " ('funeral', 2),\n",
       " ('upstairs', 2),\n",
       " ('cool', 2),\n",
       " ('9th', 2),\n",
       " ('closed', 2),\n",
       " ('15th', 2),\n",
       " ('natural', 2),\n",
       " ('longtime', 2),\n",
       " ('calm', 2),\n",
       " ('grown', 2),\n",
       " ('flat', 2),\n",
       " ('chief', 2),\n",
       " ('worst', 2),\n",
       " ('skeptical', 2),\n",
       " ('lazy', 2),\n",
       " ('mad', 2),\n",
       " ('current', 2),\n",
       " ('longer', 2),\n",
       " ('fond', 2),\n",
       " ('passionate', 2),\n",
       " ('easier', 2),\n",
       " ('junior', 2),\n",
       " ('fair', 2),\n",
       " ('Many', 2),\n",
       " ('sunny', 2),\n",
       " ('hot', 2),\n",
       " ('legal', 2),\n",
       " ('bruised', 2),\n",
       " ('separate', 2),\n",
       " ('permanent', 2),\n",
       " ('shorter', 2),\n",
       " ('scary', 2),\n",
       " ('12th', 2),\n",
       " ('19th', 2),\n",
       " ('fit', 2),\n",
       " ('tabloid', 2),\n",
       " ('moody', 2),\n",
       " ('brotha', 2),\n",
       " ('nonanswer', 2),\n",
       " ('21st', 2),\n",
       " ('careful', 2),\n",
       " ('fifth', 2),\n",
       " ('tenth', 2),\n",
       " ('wealthy', 2),\n",
       " ('wondrous', 2),\n",
       " ('medical', 2),\n",
       " ('scared', 2),\n",
       " ('false', 2),\n",
       " ('careless', 2),\n",
       " ('kinda', 2),\n",
       " ('fashioned', 2),\n",
       " ('disabled', 2),\n",
       " ('sportin', 2),\n",
       " ('plain', 2),\n",
       " ('original', 2),\n",
       " ('willing', 2),\n",
       " ('sighted', 2),\n",
       " ('busy', 2),\n",
       " ('legitimate', 2),\n",
       " ('unfamiliar', 2),\n",
       " ('actin', 2),\n",
       " ('greater', 2),\n",
       " ('fellow', 2),\n",
       " ('frozen', 2),\n",
       " ('anough', 2),\n",
       " ('rainin', 2),\n",
       " ('darkest', 2),\n",
       " ('dear', 2),\n",
       " ('vivid', 1),\n",
       " ('frightened', 1),\n",
       " ('colorful', 1),\n",
       " ('extended', 1),\n",
       " ('impossible', 1),\n",
       " ('obedient', 1),\n",
       " ('hopeful', 1),\n",
       " ('uttered', 1),\n",
       " ('vacant', 1),\n",
       " ('fluttering', 1),\n",
       " ('helpless', 1),\n",
       " ('soundless', 1),\n",
       " ('More', 1),\n",
       " ('haired', 1),\n",
       " ('inseparable', 1),\n",
       " ('contented', 1),\n",
       " ('unhappy', 1),\n",
       " ('strutted', 1),\n",
       " ('crude', 1),\n",
       " ('uncertain', 1),\n",
       " ('hapless', 1),\n",
       " ('solid', 1),\n",
       " ('weekly', 1),\n",
       " ('female', 1),\n",
       " ('unsettling', 1),\n",
       " ('predictable', 1),\n",
       " ('submissive', 1),\n",
       " ('grassy', 1),\n",
       " ('preacher', 1),\n",
       " ('mere', 1),\n",
       " ('akin', 1),\n",
       " ('pleasurable', 1),\n",
       " ('lighthearted', 1),\n",
       " ('secure', 1),\n",
       " ('asthmatic', 1),\n",
       " ('electric', 1),\n",
       " ('marvelous', 1),\n",
       " ('floppy', 1),\n",
       " ('microscopic', 1),\n",
       " ('absolute', 1),\n",
       " ('populated', 1),\n",
       " ('impatient', 1),\n",
       " ('stupidest', 1),\n",
       " ('hussy', 1),\n",
       " ('deliberate', 1),\n",
       " ('screenless', 1),\n",
       " ('alien', 1),\n",
       " ('nuisance', 1),\n",
       " ('intermittent', 1),\n",
       " ('amazed', 1),\n",
       " ('burlap', 1),\n",
       " ('unharmed', 1),\n",
       " ('upper', 1),\n",
       " ('barefoot', 1),\n",
       " ('typical', 1),\n",
       " ('FIRST', 1),\n",
       " ('unremarkable', 1),\n",
       " ('ashamed', 1),\n",
       " ('faint', 1),\n",
       " ('uncommon', 1),\n",
       " ('pale', 1),\n",
       " ('stingiest', 1),\n",
       " ('speckled', 1),\n",
       " ('faced', 1),\n",
       " ('jumbo', 1),\n",
       " ('liable', 1),\n",
       " ('newer', 1),\n",
       " ('buzz', 1),\n",
       " ('worthy', 1),\n",
       " ('happier', 1),\n",
       " ('baptismal', 1),\n",
       " ('drunken', 1),\n",
       " ('potential', 1),\n",
       " ('stayin', 1),\n",
       " ('willya', 1),\n",
       " ('enthusiastic', 1),\n",
       " ('static', 1),\n",
       " ('truest', 1),\n",
       " ('chump', 1),\n",
       " ('cheaper', 1),\n",
       " ('sendin', 1),\n",
       " ('immaculate', 1),\n",
       " ('hearse', 1),\n",
       " ('famous', 1),\n",
       " ('round', 1),\n",
       " ('feelin', 1),\n",
       " ('curtainless', 1),\n",
       " ('sooo', 1),\n",
       " ('weaker', 1),\n",
       " ('flicted', 1),\n",
       " ('dramatic', 1),\n",
       " ('unreal', 1),\n",
       " ('endearing', 1),\n",
       " ('music—“my', 1),\n",
       " ('shitty', 1),\n",
       " ('dumbest', 1),\n",
       " ('sooooo', 1),\n",
       " ('thinkin', 1),\n",
       " ('blew', 1),\n",
       " ('bout', 1),\n",
       " ('thrifty', 1),\n",
       " ('sleep', 1),\n",
       " ('Sometime', 1),\n",
       " ('undisturbed', 1),\n",
       " ('anxious', 1),\n",
       " ('splintered', 1),\n",
       " ('minded', 1),\n",
       " ('obscene', 1),\n",
       " ('available', 1),\n",
       " ('inappropriate', 1),\n",
       " ('opulent', 1),\n",
       " ('impressive', 1),\n",
       " ('locked', 1),\n",
       " ('irredeemable', 1),\n",
       " ('unseen', 1),\n",
       " ('functional', 1),\n",
       " ('off', 1),\n",
       " ('average', 1),\n",
       " ('mellowest', 1),\n",
       " ('Real', 1),\n",
       " ('movin', 1),\n",
       " ('weakest', 1),\n",
       " ('easiest', 1),\n",
       " ('French', 1),\n",
       " ('scuffed', 1),\n",
       " ('copier', 1),\n",
       " ('skittish', 1),\n",
       " ('16th', 1),\n",
       " ('darkened', 1),\n",
       " ('inner', 1),\n",
       " ('outer', 1),\n",
       " ('joint', 1),\n",
       " ('outdoor', 1),\n",
       " ('disappointed', 1),\n",
       " ('bare', 1),\n",
       " ('due', 1),\n",
       " ('cooler', 1),\n",
       " ('soothin', 1),\n",
       " ('pro', 1),\n",
       " ('Satisfied', 1),\n",
       " ('roomful', 1),\n",
       " ('18th', 1),\n",
       " ('bench', 1),\n",
       " ('ohh', 1),\n",
       " ('17th', 1),\n",
       " ('excellent', 1),\n",
       " ('silly', 1),\n",
       " ('shot', 1),\n",
       " ('total', 1),\n",
       " ('straight', 1),\n",
       " ('chubby', 1),\n",
       " ('someplace', 1),\n",
       " ('interviewin', 1),\n",
       " ('skinny', 1),\n",
       " ('spiteful', 1),\n",
       " ('sore', 1),\n",
       " ('depressed', 1),\n",
       " ('prepared', 1),\n",
       " ('Wrong', 1),\n",
       " ('irresistible', 1),\n",
       " ('fucking', 1),\n",
       " ('nonmeat', 1),\n",
       " ('reeaal', 1),\n",
       " ('reckless', 1),\n",
       " ('terrible', 1),\n",
       " ('unusual', 1),\n",
       " ('mischievous', 1),\n",
       " ('hogshead', 1),\n",
       " ('Jewish', 1),\n",
       " ('main', 1),\n",
       " ('tiredness', 1),\n",
       " ('humid', 1),\n",
       " ('homemade', 1),\n",
       " ('hysterical', 1),\n",
       " ('rolling', 1),\n",
       " ('fuckin', 1),\n",
       " ('simplest', 1),\n",
       " ('me—“my', 1),\n",
       " ('talkative', 1),\n",
       " ('healthy', 1),\n",
       " ('exhausted', 1),\n",
       " ('hooed', 1),\n",
       " ('trustworthy', 1),\n",
       " ('executive', 1),\n",
       " ('halfway', 1),\n",
       " ('Clean', 1),\n",
       " ('cocky', 1),\n",
       " ('Alone', 1),\n",
       " ('rare', 1),\n",
       " ('flush', 1),\n",
       " ('imaginary', 1),\n",
       " ('West', 1),\n",
       " ('granny', 1),\n",
       " ('neva', 1),\n",
       " ('impressed', 1),\n",
       " ('Smithsonian', 1),\n",
       " ('inane', 1),\n",
       " ('compatible', 1),\n",
       " ('following', 1),\n",
       " ('Orange', 1),\n",
       " ('deeper', 1),\n",
       " ('fat', 1),\n",
       " ('conscious', 1),\n",
       " ('obvious', 1),\n",
       " ('near', 1),\n",
       " ('preoccupied', 1),\n",
       " ('horrendous', 1),\n",
       " ('towering', 1),\n",
       " ('judicial', 1),\n",
       " ('drafty', 1),\n",
       " ('affectionate', 1),\n",
       " ('loyal', 1),\n",
       " ('smallest', 1),\n",
       " ('crossed', 1),\n",
       " ('culpable', 1),\n",
       " ('writin', 1),\n",
       " ('precocious', 1),\n",
       " ('adorable', 1),\n",
       " ('energetic', 1),\n",
       " ('African', 1),\n",
       " ('unsuccessful', 1),\n",
       " ('superstitious', 1),\n",
       " ('relevant', 1),\n",
       " ('25th', 1),\n",
       " ('trophy', 1),\n",
       " ('Fine', 1),\n",
       " ('orangeicing', 1),\n",
       " ('plural', 1),\n",
       " ('luxurious', 1),\n",
       " ('keloid', 1),\n",
       " ('fireproof', 1),\n",
       " ('dutiful', 1),\n",
       " ('confused', 1),\n",
       " ('spected', 1),\n",
       " ('commencin', 1),\n",
       " ('stylish', 1),\n",
       " ('smoky', 1),\n",
       " ('ancient', 1),\n",
       " ('unoccupied', 1),\n",
       " ('makeshift', 1),\n",
       " ('paved', 1),\n",
       " ('lye', 1),\n",
       " ('eternal', 1),\n",
       " ('unreliable', 1),\n",
       " ('White', 1),\n",
       " ('upright', 1),\n",
       " ('fifteenth', 1),\n",
       " ('exemplary', 1),\n",
       " ('bulb', 1),\n",
       " ('lowest', 1),\n",
       " ('popular', 1),\n",
       " ('conveyed', 1),\n",
       " ('22nd', 1),\n",
       " ('religious', 1),\n",
       " ('preachin', 1),\n",
       " ('grateful', 1),\n",
       " ('audible', 1),\n",
       " ('exquisite', 1),\n",
       " ('m’appelle', 1),\n",
       " ('deceptive', 1),\n",
       " ('sixth', 1),\n",
       " ('uncomplaining', 1),\n",
       " ('cavernous', 1),\n",
       " ('Egyptian', 1),\n",
       " ('louder', 1),\n",
       " ('lost', 1),\n",
       " ('grammatical', 1),\n",
       " ('farther', 1),\n",
       " ('downstairs', 1),\n",
       " ('reddest', 1),\n",
       " ('twentieth', 1),\n",
       " ('scolding', 1),\n",
       " ('oaken', 1),\n",
       " ('safer', 1),\n",
       " ('midway', 1),\n",
       " ('convinced', 1),\n",
       " ('splendid', 1),\n",
       " ('vital', 1),\n",
       " ('later', 1),\n",
       " ('unobtrusive', 1),\n",
       " ('unguarded', 1),\n",
       " ('talking', 1),\n",
       " ('dopey', 1),\n",
       " ('invitin', 1),\n",
       " ('lighted', 1),\n",
       " ('countin', 1),\n",
       " ('synthetic', 1),\n",
       " ('patient', 1),\n",
       " ('righthand', 1),\n",
       " ('practicin', 1),\n",
       " ('High', 1),\n",
       " ('purple', 1),\n",
       " ('cheapest', 1),\n",
       " ('celebratory', 1),\n",
       " ('tight', 1),\n",
       " ('initial', 1),\n",
       " ('musky', 1),\n",
       " ('blonde', 1),\n",
       " ('generous', 1),\n",
       " ('untied', 1),\n",
       " ('whininess', 1),\n",
       " ('indestructible', 1),\n",
       " ('prehistoric', 1),\n",
       " ('virtual', 1),\n",
       " ('furlike', 1),\n",
       " ('cruel', 1),\n",
       " ('golden', 1),\n",
       " ('lifeless', 1),\n",
       " ('fragile', 1),\n",
       " ('Swiss', 1),\n",
       " ('neat', 1),\n",
       " ('downtown', 1),\n",
       " ('darker', 1),\n",
       " ('definite', 1),\n",
       " ('pronounced', 1),\n",
       " ('well', 1),\n",
       " ('overhead', 1),\n",
       " ('fragrant', 1),\n",
       " ('extreme', 1),\n",
       " ('magnificent', 1),\n",
       " ('positive', 1),\n",
       " ('elementary', 1),\n",
       " ('combative', 1),\n",
       " ('uncontrollable', 1),\n",
       " ('tolerable', 1),\n",
       " ('charming', 1),\n",
       " ('ugly', 1),\n",
       " ('respectable', 1),\n",
       " ('bold', 1),\n",
       " ('unflinching', 1),\n",
       " ('weary', 1),\n",
       " ('ivory', 1),\n",
       " ('Vivian', 1),\n",
       " ('thankful', 1),\n",
       " ('understandin', 1),\n",
       " ('concerned', 1),\n",
       " ('droopy', 1),\n",
       " ('newest', 1),\n",
       " ('gentle', 1),\n",
       " ('vague', 1),\n",
       " ('undeniable', 1),\n",
       " ('boastful', 1),\n",
       " ('spiritual', 1),\n",
       " ('goose', 1),\n",
       " ('recent', 1),\n",
       " ('pasture', 1),\n",
       " ('solo', 1),\n",
       " ('absurd', 1),\n",
       " ('elusive', 1),\n",
       " ('Higher', 1),\n",
       " ('Amazing', 1),\n",
       " ('satisfying', 1),\n",
       " ('lean', 1),\n",
       " ('unkind', 1),\n",
       " ('playin', 1),\n",
       " ('dotted', 1),\n",
       " ('unblemished', 1),\n",
       " ('occasional', 1),\n",
       " ('fullest', 1),\n",
       " ('respectful', 1),\n",
       " ('shadiest', 1),\n",
       " ('unpalatable', 1),\n",
       " ('childlike', 1),\n",
       " ('misspelled', 1),\n",
       " ('liquid', 1),\n",
       " ('garble', 1),\n",
       " ('NEW', 1),\n",
       " ('conscientious', 1),\n",
       " ('upside', 1),\n",
       " ('deceitful', 1),\n",
       " ('stale', 1),\n",
       " ('fallen', 1),\n",
       " ('civilized', 1),\n",
       " ('relaxed', 1),\n",
       " ('unnatural', 1),\n",
       " ('unmarried', 1),\n",
       " ('mild', 1),\n",
       " ('babble', 1),\n",
       " ('unpronounceable', 1),\n",
       " ('runaway', 1),\n",
       " ('confident', 1),\n",
       " ('eerie', 1),\n",
       " ('hospitable', 1),\n",
       " ('bedtime', 1),\n",
       " ('countless', 1),\n",
       " ('perfunctory', 1),\n",
       " ('sour', 1),\n",
       " ('hardest', 1),\n",
       " ('unrelated', 1),\n",
       " ('distinct', 1),\n",
       " ('heaviest', 1),\n",
       " ('scarred', 1),\n",
       " ('passin', 1),\n",
       " ('silklike', 1),\n",
       " ('everyday', 1),\n",
       " ('huh', 1),\n",
       " ('unnoticed', 1),\n",
       " ('havin', 1),\n",
       " ('babiest', 1),\n",
       " ('varied', 1),\n",
       " ('sympathetic', 1),\n",
       " ('stickin', 1),\n",
       " ('burnin', 1),\n",
       " ('barbed', 1),\n",
       " ('rockin', 1),\n",
       " ('everlastin', 1),\n",
       " ('sudden', 1),\n",
       " ('weak', 1),\n",
       " ('mysterious', 1),\n",
       " ('itinerant', 1),\n",
       " ('docile', 1),\n",
       " ('outside', 1),\n",
       " ('windowless', 1),\n",
       " ('quickest', 1),\n",
       " ('monotonous', 1),\n",
       " ('stampless', 1),\n",
       " ('deceased', 1),\n",
       " ('unpleasant', 1),\n",
       " ('innocent', 1),\n",
       " ('bloody', 1),\n",
       " ('oatmeal', 1),\n",
       " ('dripping', 1),\n",
       " ('tighter', 1),\n",
       " ('awful', 1),\n",
       " ('here', 1),\n",
       " ('True', 1),\n",
       " ('risky', 1),\n",
       " ('unforgiving', 1),\n",
       " ('unfair', 1),\n",
       " ('polite', 1),\n",
       " ('satisfactory', 1),\n",
       " ('mechanic', 1),\n",
       " ('holstered', 1),\n",
       " ('flustered', 1),\n",
       " ('purplish', 1),\n",
       " ('delicate', 1),\n",
       " ('stunning', 1),\n",
       " ('serrated', 1),\n",
       " ('alert', 1),\n",
       " ('unforced', 1),\n",
       " ('embarrassing', 1),\n",
       " ('understandable', 1),\n",
       " ('venetian', 1),\n",
       " ('lovesick', 1),\n",
       " ('thirsty', 1),\n",
       " ('humiliating', 1),\n",
       " ('valuable', 1)]"
      ]
     },
     "execution_count": 1471,
     "metadata": {},
     "output_type": "execute_result"
    }
   ],
   "source": [
    "adjs_tally.most_common()"
   ]
  },
  {
   "cell_type": "markdown",
   "metadata": {},
   "source": [
    "Then we make a dataframe from this list:"
   ]
  },
  {
   "cell_type": "code",
   "execution_count": 1476,
   "metadata": {
    "scrolled": true,
    "tags": [
     "output_scroll"
    ]
   },
   "outputs": [
    {
     "data": {
      "text/html": [
       "<div>\n",
       "<style scoped>\n",
       "    .dataframe tbody tr th:only-of-type {\n",
       "        vertical-align: middle;\n",
       "    }\n",
       "\n",
       "    .dataframe tbody tr th {\n",
       "        vertical-align: top;\n",
       "    }\n",
       "\n",
       "    .dataframe thead th {\n",
       "        text-align: right;\n",
       "    }\n",
       "</style>\n",
       "<table border=\"1\" class=\"dataframe\">\n",
       "  <thead>\n",
       "    <tr style=\"text-align: right;\">\n",
       "      <th></th>\n",
       "      <th>character</th>\n",
       "      <th>count</th>\n",
       "    </tr>\n",
       "  </thead>\n",
       "  <tbody>\n",
       "    <tr>\n",
       "      <th>0</th>\n",
       "      <td>other</td>\n",
       "      <td>150</td>\n",
       "    </tr>\n",
       "    <tr>\n",
       "      <th>1</th>\n",
       "      <td>old</td>\n",
       "      <td>142</td>\n",
       "    </tr>\n",
       "    <tr>\n",
       "      <th>2</th>\n",
       "      <td>more</td>\n",
       "      <td>131</td>\n",
       "    </tr>\n",
       "    <tr>\n",
       "      <th>3</th>\n",
       "      <td>first</td>\n",
       "      <td>106</td>\n",
       "    </tr>\n",
       "    <tr>\n",
       "      <th>4</th>\n",
       "      <td>good</td>\n",
       "      <td>103</td>\n",
       "    </tr>\n",
       "    <tr>\n",
       "      <th>5</th>\n",
       "      <td>few</td>\n",
       "      <td>101</td>\n",
       "    </tr>\n",
       "    <tr>\n",
       "      <th>6</th>\n",
       "      <td>little</td>\n",
       "      <td>94</td>\n",
       "    </tr>\n",
       "    <tr>\n",
       "      <th>7</th>\n",
       "      <td>next</td>\n",
       "      <td>66</td>\n",
       "    </tr>\n",
       "    <tr>\n",
       "      <th>8</th>\n",
       "      <td>small</td>\n",
       "      <td>65</td>\n",
       "    </tr>\n",
       "    <tr>\n",
       "      <th>9</th>\n",
       "      <td>last</td>\n",
       "      <td>64</td>\n",
       "    </tr>\n",
       "    <tr>\n",
       "      <th>10</th>\n",
       "      <td>white</td>\n",
       "      <td>57</td>\n",
       "    </tr>\n",
       "    <tr>\n",
       "      <th>11</th>\n",
       "      <td>same</td>\n",
       "      <td>52</td>\n",
       "    </tr>\n",
       "    <tr>\n",
       "      <th>12</th>\n",
       "      <td>second</td>\n",
       "      <td>50</td>\n",
       "    </tr>\n",
       "    <tr>\n",
       "      <th>13</th>\n",
       "      <td>long</td>\n",
       "      <td>49</td>\n",
       "    </tr>\n",
       "    <tr>\n",
       "      <th>14</th>\n",
       "      <td>much</td>\n",
       "      <td>49</td>\n",
       "    </tr>\n",
       "    <tr>\n",
       "      <th>15</th>\n",
       "      <td>own</td>\n",
       "      <td>48</td>\n",
       "    </tr>\n",
       "    <tr>\n",
       "      <th>16</th>\n",
       "      <td>new</td>\n",
       "      <td>46</td>\n",
       "    </tr>\n",
       "    <tr>\n",
       "      <th>17</th>\n",
       "      <td>right</td>\n",
       "      <td>44</td>\n",
       "    </tr>\n",
       "    <tr>\n",
       "      <th>18</th>\n",
       "      <td>whole</td>\n",
       "      <td>42</td>\n",
       "    </tr>\n",
       "    <tr>\n",
       "      <th>19</th>\n",
       "      <td>dead</td>\n",
       "      <td>41</td>\n",
       "    </tr>\n",
       "    <tr>\n",
       "      <th>20</th>\n",
       "      <td>most</td>\n",
       "      <td>36</td>\n",
       "    </tr>\n",
       "    <tr>\n",
       "      <th>21</th>\n",
       "      <td>young</td>\n",
       "      <td>34</td>\n",
       "    </tr>\n",
       "    <tr>\n",
       "      <th>22</th>\n",
       "      <td>only</td>\n",
       "      <td>34</td>\n",
       "    </tr>\n",
       "    <tr>\n",
       "      <th>23</th>\n",
       "      <td>many</td>\n",
       "      <td>32</td>\n",
       "    </tr>\n",
       "    <tr>\n",
       "      <th>24</th>\n",
       "      <td>several</td>\n",
       "      <td>31</td>\n",
       "    </tr>\n",
       "    <tr>\n",
       "      <th>25</th>\n",
       "      <td>big</td>\n",
       "      <td>31</td>\n",
       "    </tr>\n",
       "    <tr>\n",
       "      <th>26</th>\n",
       "      <td>bad</td>\n",
       "      <td>30</td>\n",
       "    </tr>\n",
       "    <tr>\n",
       "      <th>27</th>\n",
       "      <td>such</td>\n",
       "      <td>28</td>\n",
       "    </tr>\n",
       "    <tr>\n",
       "      <th>28</th>\n",
       "      <td>front</td>\n",
       "      <td>26</td>\n",
       "    </tr>\n",
       "    <tr>\n",
       "      <th>29</th>\n",
       "      <td>black</td>\n",
       "      <td>26</td>\n",
       "    </tr>\n",
       "    <tr>\n",
       "      <th>30</th>\n",
       "      <td>retarded</td>\n",
       "      <td>26</td>\n",
       "    </tr>\n",
       "    <tr>\n",
       "      <th>31</th>\n",
       "      <td>dark</td>\n",
       "      <td>25</td>\n",
       "    </tr>\n",
       "    <tr>\n",
       "      <th>32</th>\n",
       "      <td>late</td>\n",
       "      <td>22</td>\n",
       "    </tr>\n",
       "    <tr>\n",
       "      <th>33</th>\n",
       "      <td>blue</td>\n",
       "      <td>21</td>\n",
       "    </tr>\n",
       "    <tr>\n",
       "      <th>34</th>\n",
       "      <td>nice</td>\n",
       "      <td>21</td>\n",
       "    </tr>\n",
       "    <tr>\n",
       "      <th>35</th>\n",
       "      <td>older</td>\n",
       "      <td>21</td>\n",
       "    </tr>\n",
       "    <tr>\n",
       "      <th>36</th>\n",
       "      <td>high</td>\n",
       "      <td>21</td>\n",
       "    </tr>\n",
       "    <tr>\n",
       "      <th>37</th>\n",
       "      <td>alone</td>\n",
       "      <td>21</td>\n",
       "    </tr>\n",
       "    <tr>\n",
       "      <th>38</th>\n",
       "      <td>sorry</td>\n",
       "      <td>21</td>\n",
       "    </tr>\n",
       "    <tr>\n",
       "      <th>39</th>\n",
       "      <td>best</td>\n",
       "      <td>20</td>\n",
       "    </tr>\n",
       "    <tr>\n",
       "      <th>40</th>\n",
       "      <td>large</td>\n",
       "      <td>20</td>\n",
       "    </tr>\n",
       "    <tr>\n",
       "      <th>41</th>\n",
       "      <td>back</td>\n",
       "      <td>20</td>\n",
       "    </tr>\n",
       "    <tr>\n",
       "      <th>42</th>\n",
       "      <td>real</td>\n",
       "      <td>20</td>\n",
       "    </tr>\n",
       "    <tr>\n",
       "      <th>43</th>\n",
       "      <td>able</td>\n",
       "      <td>20</td>\n",
       "    </tr>\n",
       "    <tr>\n",
       "      <th>44</th>\n",
       "      <td>empty</td>\n",
       "      <td>19</td>\n",
       "    </tr>\n",
       "    <tr>\n",
       "      <th>45</th>\n",
       "      <td>enough</td>\n",
       "      <td>18</td>\n",
       "    </tr>\n",
       "    <tr>\n",
       "      <th>46</th>\n",
       "      <td>ready</td>\n",
       "      <td>18</td>\n",
       "    </tr>\n",
       "    <tr>\n",
       "      <th>47</th>\n",
       "      <td>less</td>\n",
       "      <td>18</td>\n",
       "    </tr>\n",
       "    <tr>\n",
       "      <th>48</th>\n",
       "      <td>surprised</td>\n",
       "      <td>18</td>\n",
       "    </tr>\n",
       "    <tr>\n",
       "      <th>49</th>\n",
       "      <td>asleep</td>\n",
       "      <td>17</td>\n",
       "    </tr>\n",
       "    <tr>\n",
       "      <th>50</th>\n",
       "      <td>green</td>\n",
       "      <td>17</td>\n",
       "    </tr>\n",
       "    <tr>\n",
       "      <th>51</th>\n",
       "      <td>better</td>\n",
       "      <td>17</td>\n",
       "    </tr>\n",
       "    <tr>\n",
       "      <th>52</th>\n",
       "      <td>loud</td>\n",
       "      <td>17</td>\n",
       "    </tr>\n",
       "    <tr>\n",
       "      <th>53</th>\n",
       "      <td>damn</td>\n",
       "      <td>16</td>\n",
       "    </tr>\n",
       "    <tr>\n",
       "      <th>54</th>\n",
       "      <td>afraid</td>\n",
       "      <td>16</td>\n",
       "    </tr>\n",
       "    <tr>\n",
       "      <th>55</th>\n",
       "      <td>full</td>\n",
       "      <td>16</td>\n",
       "    </tr>\n",
       "    <tr>\n",
       "      <th>56</th>\n",
       "      <td>open</td>\n",
       "      <td>15</td>\n",
       "    </tr>\n",
       "    <tr>\n",
       "      <th>57</th>\n",
       "      <td>tiny</td>\n",
       "      <td>15</td>\n",
       "    </tr>\n",
       "    <tr>\n",
       "      <th>58</th>\n",
       "      <td>happy</td>\n",
       "      <td>15</td>\n",
       "    </tr>\n",
       "    <tr>\n",
       "      <th>59</th>\n",
       "      <td>5th</td>\n",
       "      <td>15</td>\n",
       "    </tr>\n",
       "    <tr>\n",
       "      <th>60</th>\n",
       "      <td>least</td>\n",
       "      <td>14</td>\n",
       "    </tr>\n",
       "    <tr>\n",
       "      <th>61</th>\n",
       "      <td>close</td>\n",
       "      <td>14</td>\n",
       "    </tr>\n",
       "    <tr>\n",
       "      <th>62</th>\n",
       "      <td>easy</td>\n",
       "      <td>14</td>\n",
       "    </tr>\n",
       "    <tr>\n",
       "      <th>63</th>\n",
       "      <td>quiet</td>\n",
       "      <td>14</td>\n",
       "    </tr>\n",
       "    <tr>\n",
       "      <th>64</th>\n",
       "      <td>thick</td>\n",
       "      <td>13</td>\n",
       "    </tr>\n",
       "    <tr>\n",
       "      <th>65</th>\n",
       "      <td>different</td>\n",
       "      <td>13</td>\n",
       "    </tr>\n",
       "    <tr>\n",
       "      <th>66</th>\n",
       "      <td>wrong</td>\n",
       "      <td>13</td>\n",
       "    </tr>\n",
       "    <tr>\n",
       "      <th>67</th>\n",
       "      <td>about</td>\n",
       "      <td>12</td>\n",
       "    </tr>\n",
       "    <tr>\n",
       "      <th>68</th>\n",
       "      <td>left</td>\n",
       "      <td>12</td>\n",
       "    </tr>\n",
       "    <tr>\n",
       "      <th>69</th>\n",
       "      <td>cold</td>\n",
       "      <td>12</td>\n",
       "    </tr>\n",
       "    <tr>\n",
       "      <th>70</th>\n",
       "      <td>naked</td>\n",
       "      <td>12</td>\n",
       "    </tr>\n",
       "    <tr>\n",
       "      <th>71</th>\n",
       "      <td>orange</td>\n",
       "      <td>12</td>\n",
       "    </tr>\n",
       "    <tr>\n",
       "      <th>72</th>\n",
       "      <td>half</td>\n",
       "      <td>11</td>\n",
       "    </tr>\n",
       "    <tr>\n",
       "      <th>73</th>\n",
       "      <td>glad</td>\n",
       "      <td>11</td>\n",
       "    </tr>\n",
       "    <tr>\n",
       "      <th>74</th>\n",
       "      <td>light</td>\n",
       "      <td>11</td>\n",
       "    </tr>\n",
       "    <tr>\n",
       "      <th>75</th>\n",
       "      <td>sure</td>\n",
       "      <td>11</td>\n",
       "    </tr>\n",
       "    <tr>\n",
       "      <th>76</th>\n",
       "      <td>Most</td>\n",
       "      <td>11</td>\n",
       "    </tr>\n",
       "    <tr>\n",
       "      <th>77</th>\n",
       "      <td>tired</td>\n",
       "      <td>11</td>\n",
       "    </tr>\n",
       "    <tr>\n",
       "      <th>78</th>\n",
       "      <td>third</td>\n",
       "      <td>10</td>\n",
       "    </tr>\n",
       "    <tr>\n",
       "      <th>79</th>\n",
       "      <td>red</td>\n",
       "      <td>10</td>\n",
       "    </tr>\n",
       "    <tr>\n",
       "      <th>80</th>\n",
       "      <td>oldest</td>\n",
       "      <td>10</td>\n",
       "    </tr>\n",
       "    <tr>\n",
       "      <th>81</th>\n",
       "      <td>early</td>\n",
       "      <td>10</td>\n",
       "    </tr>\n",
       "    <tr>\n",
       "      <th>82</th>\n",
       "      <td>true</td>\n",
       "      <td>10</td>\n",
       "    </tr>\n",
       "    <tr>\n",
       "      <th>83</th>\n",
       "      <td>tall</td>\n",
       "      <td>10</td>\n",
       "    </tr>\n",
       "    <tr>\n",
       "      <th>84</th>\n",
       "      <td>entire</td>\n",
       "      <td>9</td>\n",
       "    </tr>\n",
       "    <tr>\n",
       "      <th>85</th>\n",
       "      <td>assistant</td>\n",
       "      <td>9</td>\n",
       "    </tr>\n",
       "    <tr>\n",
       "      <th>86</th>\n",
       "      <td>thin</td>\n",
       "      <td>9</td>\n",
       "    </tr>\n",
       "    <tr>\n",
       "      <th>87</th>\n",
       "      <td>foreign</td>\n",
       "      <td>9</td>\n",
       "    </tr>\n",
       "    <tr>\n",
       "      <th>88</th>\n",
       "      <td>skinned</td>\n",
       "      <td>9</td>\n",
       "    </tr>\n",
       "    <tr>\n",
       "      <th>89</th>\n",
       "      <td>sittin</td>\n",
       "      <td>9</td>\n",
       "    </tr>\n",
       "    <tr>\n",
       "      <th>90</th>\n",
       "      <td>clean</td>\n",
       "      <td>8</td>\n",
       "    </tr>\n",
       "    <tr>\n",
       "      <th>91</th>\n",
       "      <td>beautiful</td>\n",
       "      <td>8</td>\n",
       "    </tr>\n",
       "    <tr>\n",
       "      <th>92</th>\n",
       "      <td>final</td>\n",
       "      <td>8</td>\n",
       "    </tr>\n",
       "    <tr>\n",
       "      <th>93</th>\n",
       "      <td>cute</td>\n",
       "      <td>8</td>\n",
       "    </tr>\n",
       "    <tr>\n",
       "      <th>94</th>\n",
       "      <td>silent</td>\n",
       "      <td>8</td>\n",
       "    </tr>\n",
       "    <tr>\n",
       "      <th>95</th>\n",
       "      <td>wooden</td>\n",
       "      <td>7</td>\n",
       "    </tr>\n",
       "    <tr>\n",
       "      <th>96</th>\n",
       "      <td>brown</td>\n",
       "      <td>7</td>\n",
       "    </tr>\n",
       "    <tr>\n",
       "      <th>97</th>\n",
       "      <td>certain</td>\n",
       "      <td>7</td>\n",
       "    </tr>\n",
       "    <tr>\n",
       "      <th>98</th>\n",
       "      <td>clear</td>\n",
       "      <td>7</td>\n",
       "    </tr>\n",
       "    <tr>\n",
       "      <th>99</th>\n",
       "      <td>younger</td>\n",
       "      <td>7</td>\n",
       "    </tr>\n",
       "  </tbody>\n",
       "</table>\n",
       "</div>"
      ],
      "text/plain": [
       "    character  count\n",
       "0       other    150\n",
       "1         old    142\n",
       "2        more    131\n",
       "3       first    106\n",
       "4        good    103\n",
       "5         few    101\n",
       "6      little     94\n",
       "7        next     66\n",
       "8       small     65\n",
       "9        last     64\n",
       "10      white     57\n",
       "11       same     52\n",
       "12     second     50\n",
       "13       long     49\n",
       "14       much     49\n",
       "15        own     48\n",
       "16        new     46\n",
       "17      right     44\n",
       "18      whole     42\n",
       "19       dead     41\n",
       "20       most     36\n",
       "21      young     34\n",
       "22       only     34\n",
       "23       many     32\n",
       "24    several     31\n",
       "25        big     31\n",
       "26        bad     30\n",
       "27       such     28\n",
       "28      front     26\n",
       "29      black     26\n",
       "30   retarded     26\n",
       "31       dark     25\n",
       "32       late     22\n",
       "33       blue     21\n",
       "34       nice     21\n",
       "35      older     21\n",
       "36       high     21\n",
       "37      alone     21\n",
       "38      sorry     21\n",
       "39       best     20\n",
       "40      large     20\n",
       "41       back     20\n",
       "42       real     20\n",
       "43       able     20\n",
       "44      empty     19\n",
       "45     enough     18\n",
       "46      ready     18\n",
       "47       less     18\n",
       "48  surprised     18\n",
       "49     asleep     17\n",
       "50      green     17\n",
       "51     better     17\n",
       "52       loud     17\n",
       "53       damn     16\n",
       "54     afraid     16\n",
       "55       full     16\n",
       "56       open     15\n",
       "57       tiny     15\n",
       "58      happy     15\n",
       "59        5th     15\n",
       "60      least     14\n",
       "61      close     14\n",
       "62       easy     14\n",
       "63      quiet     14\n",
       "64      thick     13\n",
       "65  different     13\n",
       "66      wrong     13\n",
       "67      about     12\n",
       "68       left     12\n",
       "69       cold     12\n",
       "70      naked     12\n",
       "71     orange     12\n",
       "72       half     11\n",
       "73       glad     11\n",
       "74      light     11\n",
       "75       sure     11\n",
       "76       Most     11\n",
       "77      tired     11\n",
       "78      third     10\n",
       "79        red     10\n",
       "80     oldest     10\n",
       "81      early     10\n",
       "82       true     10\n",
       "83       tall     10\n",
       "84     entire      9\n",
       "85  assistant      9\n",
       "86       thin      9\n",
       "87    foreign      9\n",
       "88    skinned      9\n",
       "89     sittin      9\n",
       "90      clean      8\n",
       "91  beautiful      8\n",
       "92      final      8\n",
       "93       cute      8\n",
       "94     silent      8\n",
       "95     wooden      7\n",
       "96      brown      7\n",
       "97    certain      7\n",
       "98      clear      7\n",
       "99    younger      7"
      ]
     },
     "execution_count": 1476,
     "metadata": {},
     "output_type": "execute_result"
    }
   ],
   "source": [
    "df = pd.DataFrame(adjs_tally.most_common(), columns=['character', 'count'])\n",
    "df[:100]"
   ]
  },
  {
   "cell_type": "markdown",
   "metadata": {},
   "source": [
    "# Get Nouns"
   ]
  },
  {
   "cell_type": "markdown",
   "metadata": {},
   "source": [
    "| POS   | Description               | Examples                                      |\n",
    "|:-----:|:-------------------------:|:---------------------------------------------:|\n",
    "| NOUN  | noun                      | girl, cat, tree, air, beauty                  |"
   ]
  },
  {
   "cell_type": "markdown",
   "metadata": {},
   "source": [
    "To extract and count nouns, we can follow the same model as above, except we will change our `if` statement to check for POS labels that match \"NOUN\"."
   ]
  },
  {
   "cell_type": "code",
   "execution_count": 1475,
   "metadata": {
    "scrolled": true,
    "tags": [
     "output_scroll"
    ]
   },
   "outputs": [
    {
     "data": {
      "text/html": [
       "<div>\n",
       "<style scoped>\n",
       "    .dataframe tbody tr th:only-of-type {\n",
       "        vertical-align: middle;\n",
       "    }\n",
       "\n",
       "    .dataframe tbody tr th {\n",
       "        vertical-align: top;\n",
       "    }\n",
       "\n",
       "    .dataframe thead th {\n",
       "        text-align: right;\n",
       "    }\n",
       "</style>\n",
       "<table border=\"1\" class=\"dataframe\">\n",
       "  <thead>\n",
       "    <tr style=\"text-align: right;\">\n",
       "      <th></th>\n",
       "      <th>noun</th>\n",
       "      <th>count</th>\n",
       "    </tr>\n",
       "  </thead>\n",
       "  <tbody>\n",
       "    <tr>\n",
       "      <th>0</th>\n",
       "      <td>man</td>\n",
       "      <td>297</td>\n",
       "    </tr>\n",
       "    <tr>\n",
       "      <th>1</th>\n",
       "      <td>mother</td>\n",
       "      <td>258</td>\n",
       "    </tr>\n",
       "    <tr>\n",
       "      <th>2</th>\n",
       "      <td>woman</td>\n",
       "      <td>251</td>\n",
       "    </tr>\n",
       "    <tr>\n",
       "      <th>3</th>\n",
       "      <td>time</td>\n",
       "      <td>246</td>\n",
       "    </tr>\n",
       "    <tr>\n",
       "      <th>4</th>\n",
       "      <td>father</td>\n",
       "      <td>182</td>\n",
       "    </tr>\n",
       "    <tr>\n",
       "      <th>5</th>\n",
       "      <td>day</td>\n",
       "      <td>182</td>\n",
       "    </tr>\n",
       "    <tr>\n",
       "      <th>6</th>\n",
       "      <td>way</td>\n",
       "      <td>163</td>\n",
       "    </tr>\n",
       "    <tr>\n",
       "      <th>7</th>\n",
       "      <td>people</td>\n",
       "      <td>156</td>\n",
       "    </tr>\n",
       "    <tr>\n",
       "      <th>8</th>\n",
       "      <td>door</td>\n",
       "      <td>146</td>\n",
       "    </tr>\n",
       "    <tr>\n",
       "      <th>9</th>\n",
       "      <td>“</td>\n",
       "      <td>145</td>\n",
       "    </tr>\n",
       "    <tr>\n",
       "      <th>10</th>\n",
       "      <td>boy</td>\n",
       "      <td>129</td>\n",
       "    </tr>\n",
       "    <tr>\n",
       "      <th>11</th>\n",
       "      <td>house</td>\n",
       "      <td>124</td>\n",
       "    </tr>\n",
       "    <tr>\n",
       "      <th>12</th>\n",
       "      <td>world</td>\n",
       "      <td>122</td>\n",
       "    </tr>\n",
       "    <tr>\n",
       "      <th>13</th>\n",
       "      <td>car</td>\n",
       "      <td>117</td>\n",
       "    </tr>\n",
       "    <tr>\n",
       "      <th>14</th>\n",
       "      <td>night</td>\n",
       "      <td>111</td>\n",
       "    </tr>\n",
       "    <tr>\n",
       "      <th>15</th>\n",
       "      <td>hand</td>\n",
       "      <td>110</td>\n",
       "    </tr>\n",
       "    <tr>\n",
       "      <th>16</th>\n",
       "      <td>girl</td>\n",
       "      <td>106</td>\n",
       "    </tr>\n",
       "    <tr>\n",
       "      <th>17</th>\n",
       "      <td>room</td>\n",
       "      <td>106</td>\n",
       "    </tr>\n",
       "    <tr>\n",
       "      <th>18</th>\n",
       "      <td>place</td>\n",
       "      <td>102</td>\n",
       "    </tr>\n",
       "    <tr>\n",
       "      <th>19</th>\n",
       "      <td>children</td>\n",
       "      <td>101</td>\n",
       "    </tr>\n",
       "    <tr>\n",
       "      <th>20</th>\n",
       "      <td>morning</td>\n",
       "      <td>100</td>\n",
       "    </tr>\n",
       "    <tr>\n",
       "      <th>21</th>\n",
       "      <td>years</td>\n",
       "      <td>98</td>\n",
       "    </tr>\n",
       "    <tr>\n",
       "      <th>22</th>\n",
       "      <td>something</td>\n",
       "      <td>87</td>\n",
       "    </tr>\n",
       "    <tr>\n",
       "      <th>23</th>\n",
       "      <td>head</td>\n",
       "      <td>86</td>\n",
       "    </tr>\n",
       "    <tr>\n",
       "      <th>24</th>\n",
       "      <td>life</td>\n",
       "      <td>84</td>\n",
       "    </tr>\n",
       "    <tr>\n",
       "      <th>25</th>\n",
       "      <td>table</td>\n",
       "      <td>80</td>\n",
       "    </tr>\n",
       "    <tr>\n",
       "      <th>26</th>\n",
       "      <td>street</td>\n",
       "      <td>77</td>\n",
       "    </tr>\n",
       "    <tr>\n",
       "      <th>27</th>\n",
       "      <td>store</td>\n",
       "      <td>75</td>\n",
       "    </tr>\n",
       "    <tr>\n",
       "      <th>28</th>\n",
       "      <td>child</td>\n",
       "      <td>69</td>\n",
       "    </tr>\n",
       "    <tr>\n",
       "      <th>29</th>\n",
       "      <td>week</td>\n",
       "      <td>69</td>\n",
       "    </tr>\n",
       "    <tr>\n",
       "      <th>30</th>\n",
       "      <td>things</td>\n",
       "      <td>68</td>\n",
       "    </tr>\n",
       "    <tr>\n",
       "      <th>31</th>\n",
       "      <td>women</td>\n",
       "      <td>68</td>\n",
       "    </tr>\n",
       "    <tr>\n",
       "      <th>32</th>\n",
       "      <td>apartment</td>\n",
       "      <td>68</td>\n",
       "    </tr>\n",
       "    <tr>\n",
       "      <th>33</th>\n",
       "      <td>thing</td>\n",
       "      <td>66</td>\n",
       "    </tr>\n",
       "    <tr>\n",
       "      <th>34</th>\n",
       "      <td>window</td>\n",
       "      <td>62</td>\n",
       "    </tr>\n",
       "    <tr>\n",
       "      <th>35</th>\n",
       "      <td>one</td>\n",
       "      <td>60</td>\n",
       "    </tr>\n",
       "    <tr>\n",
       "      <th>36</th>\n",
       "      <td>bed</td>\n",
       "      <td>58</td>\n",
       "    </tr>\n",
       "    <tr>\n",
       "      <th>37</th>\n",
       "      <td>nothing</td>\n",
       "      <td>57</td>\n",
       "    </tr>\n",
       "    <tr>\n",
       "      <th>38</th>\n",
       "      <td>front</td>\n",
       "      <td>57</td>\n",
       "    </tr>\n",
       "    <tr>\n",
       "      <th>39</th>\n",
       "      <td>money</td>\n",
       "      <td>57</td>\n",
       "    </tr>\n",
       "    <tr>\n",
       "      <th>40</th>\n",
       "      <td>everything</td>\n",
       "      <td>56</td>\n",
       "    </tr>\n",
       "    <tr>\n",
       "      <th>41</th>\n",
       "      <td>anything</td>\n",
       "      <td>55</td>\n",
       "    </tr>\n",
       "    <tr>\n",
       "      <th>42</th>\n",
       "      <td>words</td>\n",
       "      <td>53</td>\n",
       "    </tr>\n",
       "    <tr>\n",
       "      <th>43</th>\n",
       "      <td>light</td>\n",
       "      <td>51</td>\n",
       "    </tr>\n",
       "    <tr>\n",
       "      <th>44</th>\n",
       "      <td>eyes</td>\n",
       "      <td>51</td>\n",
       "    </tr>\n",
       "    <tr>\n",
       "      <th>45</th>\n",
       "      <td>days</td>\n",
       "      <td>51</td>\n",
       "    </tr>\n",
       "    <tr>\n",
       "      <th>46</th>\n",
       "      <td>son</td>\n",
       "      <td>51</td>\n",
       "    </tr>\n",
       "    <tr>\n",
       "      <th>47</th>\n",
       "      <td>daughter</td>\n",
       "      <td>50</td>\n",
       "    </tr>\n",
       "    <tr>\n",
       "      <th>48</th>\n",
       "      <td>side</td>\n",
       "      <td>50</td>\n",
       "    </tr>\n",
       "    <tr>\n",
       "      <th>49</th>\n",
       "      <td>floor</td>\n",
       "      <td>50</td>\n",
       "    </tr>\n",
       "    <tr>\n",
       "      <th>50</th>\n",
       "      <td>family</td>\n",
       "      <td>50</td>\n",
       "    </tr>\n",
       "    <tr>\n",
       "      <th>51</th>\n",
       "      <td>school</td>\n",
       "      <td>50</td>\n",
       "    </tr>\n",
       "    <tr>\n",
       "      <th>52</th>\n",
       "      <td>work</td>\n",
       "      <td>49</td>\n",
       "    </tr>\n",
       "    <tr>\n",
       "      <th>53</th>\n",
       "      <td>chair</td>\n",
       "      <td>49</td>\n",
       "    </tr>\n",
       "    <tr>\n",
       "      <th>54</th>\n",
       "      <td>men</td>\n",
       "      <td>48</td>\n",
       "    </tr>\n",
       "    <tr>\n",
       "      <th>55</th>\n",
       "      <td>face</td>\n",
       "      <td>48</td>\n",
       "    </tr>\n",
       "    <tr>\n",
       "      <th>56</th>\n",
       "      <td>name</td>\n",
       "      <td>48</td>\n",
       "    </tr>\n",
       "    <tr>\n",
       "      <th>57</th>\n",
       "      <td>baby</td>\n",
       "      <td>47</td>\n",
       "    </tr>\n",
       "    <tr>\n",
       "      <th>58</th>\n",
       "      <td>times</td>\n",
       "      <td>47</td>\n",
       "    </tr>\n",
       "    <tr>\n",
       "      <th>59</th>\n",
       "      <td>corner</td>\n",
       "      <td>46</td>\n",
       "    </tr>\n",
       "    <tr>\n",
       "      <th>60</th>\n",
       "      <td>arm</td>\n",
       "      <td>46</td>\n",
       "    </tr>\n",
       "    <tr>\n",
       "      <th>61</th>\n",
       "      <td>evening</td>\n",
       "      <td>46</td>\n",
       "    </tr>\n",
       "    <tr>\n",
       "      <th>62</th>\n",
       "      <td>home</td>\n",
       "      <td>46</td>\n",
       "    </tr>\n",
       "    <tr>\n",
       "      <th>63</th>\n",
       "      <td>church</td>\n",
       "      <td>45</td>\n",
       "    </tr>\n",
       "    <tr>\n",
       "      <th>64</th>\n",
       "      <td>months</td>\n",
       "      <td>44</td>\n",
       "    </tr>\n",
       "    <tr>\n",
       "      <th>65</th>\n",
       "      <td>line</td>\n",
       "      <td>44</td>\n",
       "    </tr>\n",
       "    <tr>\n",
       "      <th>66</th>\n",
       "      <td>year</td>\n",
       "      <td>44</td>\n",
       "    </tr>\n",
       "    <tr>\n",
       "      <th>67</th>\n",
       "      <td>pictures</td>\n",
       "      <td>44</td>\n",
       "    </tr>\n",
       "    <tr>\n",
       "      <th>68</th>\n",
       "      <td>kitchen</td>\n",
       "      <td>42</td>\n",
       "    </tr>\n",
       "    <tr>\n",
       "      <th>69</th>\n",
       "      <td>word</td>\n",
       "      <td>42</td>\n",
       "    </tr>\n",
       "    <tr>\n",
       "      <th>70</th>\n",
       "      <td>hands</td>\n",
       "      <td>41</td>\n",
       "    </tr>\n",
       "    <tr>\n",
       "      <th>71</th>\n",
       "      <td>heart</td>\n",
       "      <td>41</td>\n",
       "    </tr>\n",
       "    <tr>\n",
       "      <th>72</th>\n",
       "      <td>weeks</td>\n",
       "      <td>41</td>\n",
       "    </tr>\n",
       "    <tr>\n",
       "      <th>73</th>\n",
       "      <td>arms</td>\n",
       "      <td>40</td>\n",
       "    </tr>\n",
       "    <tr>\n",
       "      <th>74</th>\n",
       "      <td>brother</td>\n",
       "      <td>40</td>\n",
       "    </tr>\n",
       "    <tr>\n",
       "      <th>75</th>\n",
       "      <td>picture</td>\n",
       "      <td>40</td>\n",
       "    </tr>\n",
       "    <tr>\n",
       "      <th>76</th>\n",
       "      <td>back</td>\n",
       "      <td>39</td>\n",
       "    </tr>\n",
       "    <tr>\n",
       "      <th>77</th>\n",
       "      <td>boys</td>\n",
       "      <td>38</td>\n",
       "    </tr>\n",
       "    <tr>\n",
       "      <th>78</th>\n",
       "      <td>telephone</td>\n",
       "      <td>38</td>\n",
       "    </tr>\n",
       "    <tr>\n",
       "      <th>79</th>\n",
       "      <td>end</td>\n",
       "      <td>36</td>\n",
       "    </tr>\n",
       "    <tr>\n",
       "      <th>80</th>\n",
       "      <td>mind</td>\n",
       "      <td>35</td>\n",
       "    </tr>\n",
       "    <tr>\n",
       "      <th>81</th>\n",
       "      <td>friends</td>\n",
       "      <td>35</td>\n",
       "    </tr>\n",
       "    <tr>\n",
       "      <th>82</th>\n",
       "      <td>husband</td>\n",
       "      <td>35</td>\n",
       "    </tr>\n",
       "    <tr>\n",
       "      <th>83</th>\n",
       "      <td>hair</td>\n",
       "      <td>35</td>\n",
       "    </tr>\n",
       "    <tr>\n",
       "      <th>84</th>\n",
       "      <td>birds</td>\n",
       "      <td>34</td>\n",
       "    </tr>\n",
       "    <tr>\n",
       "      <th>85</th>\n",
       "      <td>group</td>\n",
       "      <td>34</td>\n",
       "    </tr>\n",
       "    <tr>\n",
       "      <th>86</th>\n",
       "      <td>someone</td>\n",
       "      <td>33</td>\n",
       "    </tr>\n",
       "    <tr>\n",
       "      <th>87</th>\n",
       "      <td>train</td>\n",
       "      <td>32</td>\n",
       "    </tr>\n",
       "    <tr>\n",
       "      <th>88</th>\n",
       "      <td>wife</td>\n",
       "      <td>31</td>\n",
       "    </tr>\n",
       "    <tr>\n",
       "      <th>89</th>\n",
       "      <td>feet</td>\n",
       "      <td>31</td>\n",
       "    </tr>\n",
       "    <tr>\n",
       "      <th>90</th>\n",
       "      <td>stuff</td>\n",
       "      <td>31</td>\n",
       "    </tr>\n",
       "    <tr>\n",
       "      <th>91</th>\n",
       "      <td>girls</td>\n",
       "      <td>31</td>\n",
       "    </tr>\n",
       "    <tr>\n",
       "      <th>92</th>\n",
       "      <td>hall</td>\n",
       "      <td>31</td>\n",
       "    </tr>\n",
       "    <tr>\n",
       "      <th>93</th>\n",
       "      <td>pigeons</td>\n",
       "      <td>30</td>\n",
       "    </tr>\n",
       "    <tr>\n",
       "      <th>94</th>\n",
       "      <td>job</td>\n",
       "      <td>30</td>\n",
       "    </tr>\n",
       "    <tr>\n",
       "      <th>95</th>\n",
       "      <td>daddy</td>\n",
       "      <td>29</td>\n",
       "    </tr>\n",
       "    <tr>\n",
       "      <th>96</th>\n",
       "      <td>month</td>\n",
       "      <td>29</td>\n",
       "    </tr>\n",
       "    <tr>\n",
       "      <th>97</th>\n",
       "      <td>city</td>\n",
       "      <td>29</td>\n",
       "    </tr>\n",
       "    <tr>\n",
       "      <th>98</th>\n",
       "      <td>coop</td>\n",
       "      <td>28</td>\n",
       "    </tr>\n",
       "    <tr>\n",
       "      <th>99</th>\n",
       "      <td>sound</td>\n",
       "      <td>26</td>\n",
       "    </tr>\n",
       "  </tbody>\n",
       "</table>\n",
       "</div>"
      ],
      "text/plain": [
       "          noun  count\n",
       "0          man    297\n",
       "1       mother    258\n",
       "2        woman    251\n",
       "3         time    246\n",
       "4       father    182\n",
       "5          day    182\n",
       "6          way    163\n",
       "7       people    156\n",
       "8         door    146\n",
       "9            “    145\n",
       "10         boy    129\n",
       "11       house    124\n",
       "12       world    122\n",
       "13         car    117\n",
       "14       night    111\n",
       "15        hand    110\n",
       "16        girl    106\n",
       "17        room    106\n",
       "18       place    102\n",
       "19    children    101\n",
       "20     morning    100\n",
       "21       years     98\n",
       "22   something     87\n",
       "23        head     86\n",
       "24        life     84\n",
       "25       table     80\n",
       "26      street     77\n",
       "27       store     75\n",
       "28       child     69\n",
       "29        week     69\n",
       "30      things     68\n",
       "31       women     68\n",
       "32   apartment     68\n",
       "33       thing     66\n",
       "34      window     62\n",
       "35         one     60\n",
       "36         bed     58\n",
       "37     nothing     57\n",
       "38       front     57\n",
       "39       money     57\n",
       "40  everything     56\n",
       "41    anything     55\n",
       "42       words     53\n",
       "43       light     51\n",
       "44        eyes     51\n",
       "45        days     51\n",
       "46         son     51\n",
       "47    daughter     50\n",
       "48        side     50\n",
       "49       floor     50\n",
       "50      family     50\n",
       "51      school     50\n",
       "52        work     49\n",
       "53       chair     49\n",
       "54         men     48\n",
       "55        face     48\n",
       "56        name     48\n",
       "57        baby     47\n",
       "58       times     47\n",
       "59      corner     46\n",
       "60         arm     46\n",
       "61     evening     46\n",
       "62        home     46\n",
       "63      church     45\n",
       "64      months     44\n",
       "65        line     44\n",
       "66        year     44\n",
       "67    pictures     44\n",
       "68     kitchen     42\n",
       "69        word     42\n",
       "70       hands     41\n",
       "71       heart     41\n",
       "72       weeks     41\n",
       "73        arms     40\n",
       "74     brother     40\n",
       "75     picture     40\n",
       "76        back     39\n",
       "77        boys     38\n",
       "78   telephone     38\n",
       "79         end     36\n",
       "80        mind     35\n",
       "81     friends     35\n",
       "82     husband     35\n",
       "83        hair     35\n",
       "84       birds     34\n",
       "85       group     34\n",
       "86     someone     33\n",
       "87       train     32\n",
       "88        wife     31\n",
       "89        feet     31\n",
       "90       stuff     31\n",
       "91       girls     31\n",
       "92        hall     31\n",
       "93     pigeons     30\n",
       "94         job     30\n",
       "95       daddy     29\n",
       "96       month     29\n",
       "97        city     29\n",
       "98        coop     28\n",
       "99       sound     26"
      ]
     },
     "execution_count": 1475,
     "metadata": {},
     "output_type": "execute_result"
    }
   ],
   "source": [
    "nouns = []\n",
    "for token in document:\n",
    "    if token.pos_ == 'NOUN':\n",
    "        nouns.append(token.text)\n",
    "\n",
    "nouns_tally = Counter(nouns)\n",
    "\n",
    "df = pd.DataFrame(nouns_tally.most_common(), columns=['noun', 'count'])\n",
    "df[:100]"
   ]
  },
  {
   "cell_type": "markdown",
   "metadata": {},
   "source": [
    "# Get Verbs"
   ]
  },
  {
   "cell_type": "markdown",
   "metadata": {},
   "source": [
    "| POS   | Description               | Examples                                      |\n",
    "|:-----:|:-------------------------:|:---------------------------------------------:|\n",
    "| VERB  | verb                      | run, runs, running, eat, ate, eating          |"
   ]
  },
  {
   "cell_type": "markdown",
   "metadata": {},
   "source": [
    "To extract and count works of art, we can follow a similar-ish model to the examples above. This time, however, we're going to make our code even more economical and efficient (while still changing our `if` statement to match the POS label \"VERB\")."
   ]
  },
  {
   "cell_type": "markdown",
   "metadata": {},
   "source": [
    "> 🐍 **Python Review** 🐍\n",
    "\n",
    ">We can use a [*list comprehension*](https://melaniewalsh.github.io/Intro-Cultural-Analytics/Python/More-Lists-Loops.html#List-Comprehensions) to get our list of verbs in a single line of code! Closely examine the first line of code below:"
   ]
  },
  {
   "cell_type": "code",
   "execution_count": 1474,
   "metadata": {
    "scrolled": true,
    "tags": [
     "output_scroll"
    ]
   },
   "outputs": [
    {
     "data": {
      "text/html": [
       "<div>\n",
       "<style scoped>\n",
       "    .dataframe tbody tr th:only-of-type {\n",
       "        vertical-align: middle;\n",
       "    }\n",
       "\n",
       "    .dataframe tbody tr th {\n",
       "        vertical-align: top;\n",
       "    }\n",
       "\n",
       "    .dataframe thead th {\n",
       "        text-align: right;\n",
       "    }\n",
       "</style>\n",
       "<table border=\"1\" class=\"dataframe\">\n",
       "  <thead>\n",
       "    <tr style=\"text-align: right;\">\n",
       "      <th></th>\n",
       "      <th>verb</th>\n",
       "      <th>count</th>\n",
       "    </tr>\n",
       "  </thead>\n",
       "  <tbody>\n",
       "    <tr>\n",
       "      <th>0</th>\n",
       "      <td>was</td>\n",
       "      <td>1377</td>\n",
       "    </tr>\n",
       "    <tr>\n",
       "      <th>1</th>\n",
       "      <td>had</td>\n",
       "      <td>1119</td>\n",
       "    </tr>\n",
       "    <tr>\n",
       "      <th>2</th>\n",
       "      <td>said</td>\n",
       "      <td>822</td>\n",
       "    </tr>\n",
       "    <tr>\n",
       "      <th>3</th>\n",
       "      <td>would</td>\n",
       "      <td>511</td>\n",
       "    </tr>\n",
       "    <tr>\n",
       "      <th>4</th>\n",
       "      <td>did</td>\n",
       "      <td>306</td>\n",
       "    </tr>\n",
       "    <tr>\n",
       "      <th>5</th>\n",
       "      <td>be</td>\n",
       "      <td>288</td>\n",
       "    </tr>\n",
       "    <tr>\n",
       "      <th>6</th>\n",
       "      <td>were</td>\n",
       "      <td>281</td>\n",
       "    </tr>\n",
       "    <tr>\n",
       "      <th>7</th>\n",
       "      <td>do</td>\n",
       "      <td>273</td>\n",
       "    </tr>\n",
       "    <tr>\n",
       "      <th>8</th>\n",
       "      <td>could</td>\n",
       "      <td>255</td>\n",
       "    </tr>\n",
       "    <tr>\n",
       "      <th>9</th>\n",
       "      <td>been</td>\n",
       "      <td>252</td>\n",
       "    </tr>\n",
       "    <tr>\n",
       "      <th>10</th>\n",
       "      <td>have</td>\n",
       "      <td>219</td>\n",
       "    </tr>\n",
       "    <tr>\n",
       "      <th>11</th>\n",
       "      <td>told</td>\n",
       "      <td>192</td>\n",
       "    </tr>\n",
       "    <tr>\n",
       "      <th>12</th>\n",
       "      <td>know</td>\n",
       "      <td>190</td>\n",
       "    </tr>\n",
       "    <tr>\n",
       "      <th>13</th>\n",
       "      <td>see</td>\n",
       "      <td>186</td>\n",
       "    </tr>\n",
       "    <tr>\n",
       "      <th>14</th>\n",
       "      <td>got</td>\n",
       "      <td>177</td>\n",
       "    </tr>\n",
       "    <tr>\n",
       "      <th>15</th>\n",
       "      <td>get</td>\n",
       "      <td>172</td>\n",
       "    </tr>\n",
       "    <tr>\n",
       "      <th>16</th>\n",
       "      <td>took</td>\n",
       "      <td>165</td>\n",
       "    </tr>\n",
       "    <tr>\n",
       "      <th>17</th>\n",
       "      <td>come</td>\n",
       "      <td>153</td>\n",
       "    </tr>\n",
       "    <tr>\n",
       "      <th>18</th>\n",
       "      <td>went</td>\n",
       "      <td>148</td>\n",
       "    </tr>\n",
       "    <tr>\n",
       "      <th>19</th>\n",
       "      <td>go</td>\n",
       "      <td>142</td>\n",
       "    </tr>\n",
       "    <tr>\n",
       "      <th>20</th>\n",
       "      <td>came</td>\n",
       "      <td>140</td>\n",
       "    </tr>\n",
       "    <tr>\n",
       "      <th>21</th>\n",
       "      <td>is</td>\n",
       "      <td>138</td>\n",
       "    </tr>\n",
       "    <tr>\n",
       "      <th>22</th>\n",
       "      <td>put</td>\n",
       "      <td>116</td>\n",
       "    </tr>\n",
       "    <tr>\n",
       "      <th>23</th>\n",
       "      <td>say</td>\n",
       "      <td>110</td>\n",
       "    </tr>\n",
       "    <tr>\n",
       "      <th>24</th>\n",
       "      <td>began</td>\n",
       "      <td>105</td>\n",
       "    </tr>\n",
       "    <tr>\n",
       "      <th>25</th>\n",
       "      <td>looked</td>\n",
       "      <td>105</td>\n",
       "    </tr>\n",
       "    <tr>\n",
       "      <th>26</th>\n",
       "      <td>knew</td>\n",
       "      <td>101</td>\n",
       "    </tr>\n",
       "    <tr>\n",
       "      <th>27</th>\n",
       "      <td>made</td>\n",
       "      <td>100</td>\n",
       "    </tr>\n",
       "    <tr>\n",
       "      <th>28</th>\n",
       "      <td>tell</td>\n",
       "      <td>100</td>\n",
       "    </tr>\n",
       "    <tr>\n",
       "      <th>29</th>\n",
       "      <td>thought</td>\n",
       "      <td>96</td>\n",
       "    </tr>\n",
       "    <tr>\n",
       "      <th>30</th>\n",
       "      <td>take</td>\n",
       "      <td>90</td>\n",
       "    </tr>\n",
       "    <tr>\n",
       "      <th>31</th>\n",
       "      <td>asked</td>\n",
       "      <td>90</td>\n",
       "    </tr>\n",
       "    <tr>\n",
       "      <th>32</th>\n",
       "      <td>wanted</td>\n",
       "      <td>85</td>\n",
       "    </tr>\n",
       "    <tr>\n",
       "      <th>33</th>\n",
       "      <td>can</td>\n",
       "      <td>83</td>\n",
       "    </tr>\n",
       "    <tr>\n",
       "      <th>34</th>\n",
       "      <td>saw</td>\n",
       "      <td>80</td>\n",
       "    </tr>\n",
       "    <tr>\n",
       "      <th>35</th>\n",
       "      <td>stood</td>\n",
       "      <td>79</td>\n",
       "    </tr>\n",
       "    <tr>\n",
       "      <th>36</th>\n",
       "      <td>make</td>\n",
       "      <td>78</td>\n",
       "    </tr>\n",
       "    <tr>\n",
       "      <th>37</th>\n",
       "      <td>turned</td>\n",
       "      <td>78</td>\n",
       "    </tr>\n",
       "    <tr>\n",
       "      <th>38</th>\n",
       "      <td>want</td>\n",
       "      <td>77</td>\n",
       "    </tr>\n",
       "    <tr>\n",
       "      <th>39</th>\n",
       "      <td>’m</td>\n",
       "      <td>76</td>\n",
       "    </tr>\n",
       "    <tr>\n",
       "      <th>40</th>\n",
       "      <td>ai</td>\n",
       "      <td>73</td>\n",
       "    </tr>\n",
       "    <tr>\n",
       "      <th>41</th>\n",
       "      <td>think</td>\n",
       "      <td>70</td>\n",
       "    </tr>\n",
       "    <tr>\n",
       "      <th>42</th>\n",
       "      <td>called</td>\n",
       "      <td>69</td>\n",
       "    </tr>\n",
       "    <tr>\n",
       "      <th>43</th>\n",
       "      <td>look</td>\n",
       "      <td>67</td>\n",
       "    </tr>\n",
       "    <tr>\n",
       "      <th>44</th>\n",
       "      <td>found</td>\n",
       "      <td>64</td>\n",
       "    </tr>\n",
       "    <tr>\n",
       "      <th>45</th>\n",
       "      <td>left</td>\n",
       "      <td>64</td>\n",
       "    </tr>\n",
       "    <tr>\n",
       "      <th>46</th>\n",
       "      <td>seemed</td>\n",
       "      <td>62</td>\n",
       "    </tr>\n",
       "    <tr>\n",
       "      <th>47</th>\n",
       "      <td>sat</td>\n",
       "      <td>62</td>\n",
       "    </tr>\n",
       "    <tr>\n",
       "      <th>48</th>\n",
       "      <td>gone</td>\n",
       "      <td>59</td>\n",
       "    </tr>\n",
       "    <tr>\n",
       "      <th>49</th>\n",
       "      <td>done</td>\n",
       "      <td>57</td>\n",
       "    </tr>\n",
       "    <tr>\n",
       "      <th>50</th>\n",
       "      <td>going</td>\n",
       "      <td>57</td>\n",
       "    </tr>\n",
       "    <tr>\n",
       "      <th>51</th>\n",
       "      <td>give</td>\n",
       "      <td>54</td>\n",
       "    </tr>\n",
       "    <tr>\n",
       "      <th>52</th>\n",
       "      <td>standing</td>\n",
       "      <td>53</td>\n",
       "    </tr>\n",
       "    <tr>\n",
       "      <th>53</th>\n",
       "      <td>gave</td>\n",
       "      <td>52</td>\n",
       "    </tr>\n",
       "    <tr>\n",
       "      <th>54</th>\n",
       "      <td>lived</td>\n",
       "      <td>51</td>\n",
       "    </tr>\n",
       "    <tr>\n",
       "      <th>55</th>\n",
       "      <td>gon</td>\n",
       "      <td>51</td>\n",
       "    </tr>\n",
       "    <tr>\n",
       "      <th>56</th>\n",
       "      <td>heard</td>\n",
       "      <td>51</td>\n",
       "    </tr>\n",
       "    <tr>\n",
       "      <th>57</th>\n",
       "      <td>kept</td>\n",
       "      <td>50</td>\n",
       "    </tr>\n",
       "    <tr>\n",
       "      <th>58</th>\n",
       "      <td>looking</td>\n",
       "      <td>50</td>\n",
       "    </tr>\n",
       "    <tr>\n",
       "      <th>59</th>\n",
       "      <td>let</td>\n",
       "      <td>49</td>\n",
       "    </tr>\n",
       "    <tr>\n",
       "      <th>60</th>\n",
       "      <td>are</td>\n",
       "      <td>49</td>\n",
       "    </tr>\n",
       "    <tr>\n",
       "      <th>61</th>\n",
       "      <td>’s</td>\n",
       "      <td>48</td>\n",
       "    </tr>\n",
       "    <tr>\n",
       "      <th>62</th>\n",
       "      <td>set</td>\n",
       "      <td>43</td>\n",
       "    </tr>\n",
       "    <tr>\n",
       "      <th>63</th>\n",
       "      <td>sitting</td>\n",
       "      <td>43</td>\n",
       "    </tr>\n",
       "    <tr>\n",
       "      <th>64</th>\n",
       "      <td>hear</td>\n",
       "      <td>43</td>\n",
       "    </tr>\n",
       "    <tr>\n",
       "      <th>65</th>\n",
       "      <td>find</td>\n",
       "      <td>43</td>\n",
       "    </tr>\n",
       "    <tr>\n",
       "      <th>66</th>\n",
       "      <td>being</td>\n",
       "      <td>42</td>\n",
       "    </tr>\n",
       "    <tr>\n",
       "      <th>67</th>\n",
       "      <td>call</td>\n",
       "      <td>40</td>\n",
       "    </tr>\n",
       "    <tr>\n",
       "      <th>68</th>\n",
       "      <td>opened</td>\n",
       "      <td>40</td>\n",
       "    </tr>\n",
       "    <tr>\n",
       "      <th>69</th>\n",
       "      <td>seen</td>\n",
       "      <td>40</td>\n",
       "    </tr>\n",
       "    <tr>\n",
       "      <th>70</th>\n",
       "      <td>taken</td>\n",
       "      <td>39</td>\n",
       "    </tr>\n",
       "    <tr>\n",
       "      <th>71</th>\n",
       "      <td>remember</td>\n",
       "      <td>39</td>\n",
       "    </tr>\n",
       "    <tr>\n",
       "      <th>72</th>\n",
       "      <td>watched</td>\n",
       "      <td>39</td>\n",
       "    </tr>\n",
       "    <tr>\n",
       "      <th>73</th>\n",
       "      <td>walked</td>\n",
       "      <td>38</td>\n",
       "    </tr>\n",
       "    <tr>\n",
       "      <th>74</th>\n",
       "      <td>might</td>\n",
       "      <td>38</td>\n",
       "    </tr>\n",
       "    <tr>\n",
       "      <th>75</th>\n",
       "      <td>moved</td>\n",
       "      <td>38</td>\n",
       "    </tr>\n",
       "    <tr>\n",
       "      <th>76</th>\n",
       "      <td>should</td>\n",
       "      <td>37</td>\n",
       "    </tr>\n",
       "    <tr>\n",
       "      <th>77</th>\n",
       "      <td>continued</td>\n",
       "      <td>36</td>\n",
       "    </tr>\n",
       "    <tr>\n",
       "      <th>78</th>\n",
       "      <td>work</td>\n",
       "      <td>35</td>\n",
       "    </tr>\n",
       "    <tr>\n",
       "      <th>79</th>\n",
       "      <td>held</td>\n",
       "      <td>35</td>\n",
       "    </tr>\n",
       "    <tr>\n",
       "      <th>80</th>\n",
       "      <td>stopped</td>\n",
       "      <td>35</td>\n",
       "    </tr>\n",
       "    <tr>\n",
       "      <th>81</th>\n",
       "      <td>used</td>\n",
       "      <td>34</td>\n",
       "    </tr>\n",
       "    <tr>\n",
       "      <th>82</th>\n",
       "      <td>pulled</td>\n",
       "      <td>34</td>\n",
       "    </tr>\n",
       "    <tr>\n",
       "      <th>83</th>\n",
       "      <td>waited</td>\n",
       "      <td>34</td>\n",
       "    </tr>\n",
       "    <tr>\n",
       "      <th>84</th>\n",
       "      <td>felt</td>\n",
       "      <td>33</td>\n",
       "    </tr>\n",
       "    <tr>\n",
       "      <th>85</th>\n",
       "      <td>happened</td>\n",
       "      <td>32</td>\n",
       "    </tr>\n",
       "    <tr>\n",
       "      <th>86</th>\n",
       "      <td>saying</td>\n",
       "      <td>32</td>\n",
       "    </tr>\n",
       "    <tr>\n",
       "      <th>87</th>\n",
       "      <td>live</td>\n",
       "      <td>32</td>\n",
       "    </tr>\n",
       "    <tr>\n",
       "      <th>88</th>\n",
       "      <td>waiting</td>\n",
       "      <td>31</td>\n",
       "    </tr>\n",
       "    <tr>\n",
       "      <th>89</th>\n",
       "      <td>leave</td>\n",
       "      <td>31</td>\n",
       "    </tr>\n",
       "    <tr>\n",
       "      <th>90</th>\n",
       "      <td>coming</td>\n",
       "      <td>31</td>\n",
       "    </tr>\n",
       "    <tr>\n",
       "      <th>91</th>\n",
       "      <td>read</td>\n",
       "      <td>30</td>\n",
       "    </tr>\n",
       "    <tr>\n",
       "      <th>92</th>\n",
       "      <td>Do</td>\n",
       "      <td>29</td>\n",
       "    </tr>\n",
       "    <tr>\n",
       "      <th>93</th>\n",
       "      <td>became</td>\n",
       "      <td>29</td>\n",
       "    </tr>\n",
       "    <tr>\n",
       "      <th>94</th>\n",
       "      <td>reached</td>\n",
       "      <td>29</td>\n",
       "    </tr>\n",
       "    <tr>\n",
       "      <th>95</th>\n",
       "      <td>returned</td>\n",
       "      <td>28</td>\n",
       "    </tr>\n",
       "    <tr>\n",
       "      <th>96</th>\n",
       "      <td>ask</td>\n",
       "      <td>28</td>\n",
       "    </tr>\n",
       "    <tr>\n",
       "      <th>97</th>\n",
       "      <td>sing</td>\n",
       "      <td>28</td>\n",
       "    </tr>\n",
       "    <tr>\n",
       "      <th>98</th>\n",
       "      <td>walk</td>\n",
       "      <td>27</td>\n",
       "    </tr>\n",
       "    <tr>\n",
       "      <th>99</th>\n",
       "      <td>crossed</td>\n",
       "      <td>27</td>\n",
       "    </tr>\n",
       "  </tbody>\n",
       "</table>\n",
       "</div>"
      ],
      "text/plain": [
       "         verb  count\n",
       "0         was   1377\n",
       "1         had   1119\n",
       "2        said    822\n",
       "3       would    511\n",
       "4         did    306\n",
       "5          be    288\n",
       "6        were    281\n",
       "7          do    273\n",
       "8       could    255\n",
       "9        been    252\n",
       "10       have    219\n",
       "11       told    192\n",
       "12       know    190\n",
       "13        see    186\n",
       "14        got    177\n",
       "15        get    172\n",
       "16       took    165\n",
       "17       come    153\n",
       "18       went    148\n",
       "19         go    142\n",
       "20       came    140\n",
       "21         is    138\n",
       "22        put    116\n",
       "23        say    110\n",
       "24      began    105\n",
       "25     looked    105\n",
       "26       knew    101\n",
       "27       made    100\n",
       "28       tell    100\n",
       "29    thought     96\n",
       "30       take     90\n",
       "31      asked     90\n",
       "32     wanted     85\n",
       "33        can     83\n",
       "34        saw     80\n",
       "35      stood     79\n",
       "36       make     78\n",
       "37     turned     78\n",
       "38       want     77\n",
       "39         ’m     76\n",
       "40         ai     73\n",
       "41      think     70\n",
       "42     called     69\n",
       "43       look     67\n",
       "44      found     64\n",
       "45       left     64\n",
       "46     seemed     62\n",
       "47        sat     62\n",
       "48       gone     59\n",
       "49       done     57\n",
       "50      going     57\n",
       "51       give     54\n",
       "52   standing     53\n",
       "53       gave     52\n",
       "54      lived     51\n",
       "55        gon     51\n",
       "56      heard     51\n",
       "57       kept     50\n",
       "58    looking     50\n",
       "59        let     49\n",
       "60        are     49\n",
       "61         ’s     48\n",
       "62        set     43\n",
       "63    sitting     43\n",
       "64       hear     43\n",
       "65       find     43\n",
       "66      being     42\n",
       "67       call     40\n",
       "68     opened     40\n",
       "69       seen     40\n",
       "70      taken     39\n",
       "71   remember     39\n",
       "72    watched     39\n",
       "73     walked     38\n",
       "74      might     38\n",
       "75      moved     38\n",
       "76     should     37\n",
       "77  continued     36\n",
       "78       work     35\n",
       "79       held     35\n",
       "80    stopped     35\n",
       "81       used     34\n",
       "82     pulled     34\n",
       "83     waited     34\n",
       "84       felt     33\n",
       "85   happened     32\n",
       "86     saying     32\n",
       "87       live     32\n",
       "88    waiting     31\n",
       "89      leave     31\n",
       "90     coming     31\n",
       "91       read     30\n",
       "92         Do     29\n",
       "93     became     29\n",
       "94    reached     29\n",
       "95   returned     28\n",
       "96        ask     28\n",
       "97       sing     28\n",
       "98       walk     27\n",
       "99    crossed     27"
      ]
     },
     "execution_count": 1474,
     "metadata": {},
     "output_type": "execute_result"
    }
   ],
   "source": [
    "verbs = [token.text for token in document if token.pos_ == 'VERB']\n",
    "\n",
    "verbs_tally = Counter(verbs)\n",
    "\n",
    "df = pd.DataFrame(verbs_tally.most_common(), columns=['verb', 'count'])\n",
    "df[:100]"
   ]
  },
  {
   "cell_type": "markdown",
   "metadata": {},
   "source": [
    "# Get Sentences with Keyword"
   ]
  },
  {
   "cell_type": "markdown",
   "metadata": {},
   "source": [
    "spaCy can also identify sentences in a document. To access sentences, we can iterate through `document.sents` and pull out the `.text` of each sentence."
   ]
  },
  {
   "cell_type": "markdown",
   "metadata": {},
   "source": [
    "We can use spaCy's sentence-parsing capabilities to extract sentences that contain particular keywords, such as in the function below.\n",
    "\n",
    "With the function `find_sentences_with_keyword()`, we will iterate through `document.sents` and pull out any sentence that contains a particular \"keyword.\" Then we will display these sentence with the keywords bolded."
   ]
  },
  {
   "cell_type": "code",
   "execution_count": 1089,
   "metadata": {},
   "outputs": [],
   "source": [
    "import regex"
   ]
  },
  {
   "cell_type": "code",
   "execution_count": 1678,
   "metadata": {},
   "outputs": [],
   "source": [
    "def find_sentences_with_keyword(keyword, document):\n",
    "    \n",
    "    #Iterate through all the sentences in the document and pull out the text of each sentence\n",
    "    for sentence in document.sents:\n",
    "        sentence = sentence.text\n",
    "        \n",
    "        #Check to see if the keyword is in the sentence (and ignore capitalization by making both lowercase)\n",
    "        if keyword.lower() in sentence.lower():\n",
    "            \n",
    "            #Use the regex library to replace linebreaks and to make the keyword bolded, again ignoring capitalization\n",
    "            sentence = re.sub('\\n', ' ', sentence)\n",
    "            sentence = re.sub(f\"{keyword}\", f\"**{keyword}**\", sentence, flags=re.IGNORECASE)\n",
    "            \n",
    "            display(Markdown(sentence))"
   ]
  },
  {
   "cell_type": "code",
   "execution_count": 1679,
   "metadata": {
    "scrolled": true,
    "tags": [
     "output_scroll"
    ]
   },
   "outputs": [
    {
     "data": {
      "text/markdown": [
       "Her father had known Miles long before the girl was born, before the thought to marry her **mother** had even crossed his mind."
      ],
      "text/plain": [
       "<IPython.core.display.Markdown object>"
      ]
     },
     "metadata": {},
     "output_type": "display_data"
    },
    {
     "data": {
      "text/markdown": [
       "The men found her in the kitchen, her head buried in the lap of Miles’s **mother**, her arms tight around the waist of the old woman, who had been sitting at the table having Sunday lunch with her husband.  "
      ],
      "text/plain": [
       "<IPython.core.display.Markdown object>"
      ]
     },
     "metadata": {},
     "output_type": "display_data"
    },
    {
     "data": {
      "text/markdown": [
       "Buster,” Miles’s **mother** said to him,"
      ],
      "text/plain": [
       "<IPython.core.display.Markdown object>"
      ]
     },
     "metadata": {},
     "output_type": "display_data"
    },
    {
     "data": {
      "text/markdown": [
       "One morning, toward four o’clock, they cut open her stomach and pulled out the child only moments after Clara died, **mother** and daughter passing each other as if along a corridor, one into death, the other into life.  "
      ],
      "text/plain": [
       "<IPython.core.display.Markdown object>"
      ]
     },
     "metadata": {},
     "output_type": "display_data"
    },
    {
     "data": {
      "text/markdown": [
       "There was a song about trains that kept rumbling in his head as the night wore on, a song his **mother** would sing when he was a boy.  "
      ],
      "text/plain": [
       "<IPython.core.display.Markdown object>"
      ]
     },
     "metadata": {},
     "output_type": "display_data"
    },
    {
     "data": {
      "text/markdown": [
       "The girl had never had an overwhelming curiosity about her **mother**, but it fascinated her to see the face of the lady in all the pictures on a woman who moved and laughed and did **mother** things.  "
      ],
      "text/plain": [
       "<IPython.core.display.Markdown object>"
      ]
     },
     "metadata": {},
     "output_type": "display_data"
    },
    {
     "data": {
      "text/markdown": [
       "On an otherwise unremarkable September morning, long before I learned to be ashamed of my **mother**, she takes my hand and we set off down New Jersey Avenue to begin my very first day of school."
      ],
      "text/plain": [
       "<IPython.core.display.Markdown object>"
      ]
     },
     "metadata": {},
     "output_type": "display_data"
    },
    {
     "data": {
      "text/markdown": [
       "My **mother** has uncharacteristically spent nearly an hour on my hair that morning, plaiting and replaiting so that now my scalp tingles."
      ],
      "text/plain": [
       "<IPython.core.display.Markdown object>"
      ]
     },
     "metadata": {},
     "output_type": "display_data"
    },
    {
     "data": {
      "text/markdown": [
       "Behind my ears, my **mother**, to stop my whining, has dabbed the stingiest bit of her gardenia perfume, the last present my father gave her before he disappeared into memory."
      ],
      "text/plain": [
       "<IPython.core.display.Markdown object>"
      ]
     },
     "metadata": {},
     "output_type": "display_data"
    },
    {
     "data": {
      "text/markdown": [
       "My **mother** does not believe that a girl in kindergarten needs such things, so I am taking them only because of my insistent whining and because they are presents from our neighbors, Mary Keith and Blondelle Harris."
      ],
      "text/plain": [
       "<IPython.core.display.Markdown object>"
      ]
     },
     "metadata": {},
     "output_type": "display_data"
    },
    {
     "data": {
      "text/markdown": [
       "Miss Mary and Miss Blondelle are watching my two younger sisters until my **mother** returns."
      ],
      "text/plain": [
       "<IPython.core.display.Markdown object>"
      ]
     },
     "metadata": {},
     "output_type": "display_data"
    },
    {
     "data": {
      "text/markdown": [
       "The women are as precious to me as my **mother** and sisters."
      ],
      "text/plain": [
       "<IPython.core.display.Markdown object>"
      ]
     },
     "metadata": {},
     "output_type": "display_data"
    },
    {
     "data": {
      "text/markdown": [
       "This is my **mother**:"
      ],
      "text/plain": [
       "<IPython.core.display.Markdown object>"
      ]
     },
     "metadata": {},
     "output_type": "display_data"
    },
    {
     "data": {
      "text/markdown": [
       "When I say the word in fun to one of my sisters, my **mother** slaps me across the mouth and the word is lost for years and years.  "
      ],
      "text/plain": [
       "<IPython.core.display.Markdown object>"
      ]
     },
     "metadata": {},
     "output_type": "display_data"
    },
    {
     "data": {
      "text/markdown": [
       "In my neighborhood, I have many friends, but I see none of them as my **mother**"
      ],
      "text/plain": [
       "<IPython.core.display.Markdown object>"
      ]
     },
     "metadata": {},
     "output_type": "display_data"
    },
    {
     "data": {
      "text/markdown": [
       "At I Street, between New Jersey Avenue and Third Street, we enter Seaton Elementary School, a timeworn, sad-faced building across the street from my **mother**"
      ],
      "text/plain": [
       "<IPython.core.display.Markdown object>"
      ]
     },
     "metadata": {},
     "output_type": "display_data"
    },
    {
     "data": {
      "text/markdown": [
       "When, in answer to her question, my **mother** tells her that we live at 1227 New Jersey Avenue, the woman first seems to be picturing in her head where we live."
      ],
      "text/plain": [
       "<IPython.core.display.Markdown object>"
      ]
     },
     "metadata": {},
     "output_type": "display_data"
    },
    {
     "data": {
      "text/markdown": [
       "My **mother** shakes her head vigorously."
      ],
      "text/plain": [
       "<IPython.core.display.Markdown object>"
      ]
     },
     "metadata": {},
     "output_type": "display_data"
    },
    {
     "data": {
      "text/markdown": [
       "I want her to go here,” my **mother** says."
      ],
      "text/plain": [
       "<IPython.core.display.Markdown object>"
      ]
     },
     "metadata": {},
     "output_type": "display_data"
    },
    {
     "data": {
      "text/markdown": [
       "The woman continues to act as if she has known me all my life, but she tells my **mother** that we live beyond the area that Seaton serves."
      ],
      "text/plain": [
       "<IPython.core.display.Markdown object>"
      ]
     },
     "metadata": {},
     "output_type": "display_data"
    },
    {
     "data": {
      "text/markdown": [
       "My **mother** is not convinced and for several more minutes she questions the woman about why I cannot attend Seaton."
      ],
      "text/plain": [
       "<IPython.core.display.Markdown object>"
      ]
     },
     "metadata": {},
     "output_type": "display_data"
    },
    {
     "data": {
      "text/markdown": [
       "For as many Sundays as I can remember, perhaps even Sundays when I was in her womb, my **mother** has pointed across I Street to Seaton as we come and go to Mt. Carmel."
      ],
      "text/plain": [
       "<IPython.core.display.Markdown object>"
      ]
     },
     "metadata": {},
     "output_type": "display_data"
    },
    {
     "data": {
      "text/markdown": [
       "I am learning this about my **mother**: The higher up on the scale of respectability a person is—and teachers are rather high up in her eyes"
      ],
      "text/plain": [
       "<IPython.core.display.Markdown object>"
      ]
     },
     "metadata": {},
     "output_type": "display_data"
    },
    {
     "data": {
      "text/markdown": [
       "This is my **mother**: She says, “"
      ],
      "text/plain": [
       "<IPython.core.display.Markdown object>"
      ]
     },
     "metadata": {},
     "output_type": "display_data"
    },
    {
     "data": {
      "text/markdown": [
       "But it is not across the street from my **mother**’s church, her rock, one of her connections to God, and I sense her doubts as she absently rubs her thumb over the back of her hand."
      ],
      "text/plain": [
       "<IPython.core.display.Markdown object>"
      ]
     },
     "metadata": {},
     "output_type": "display_data"
    },
    {
     "data": {
      "text/markdown": [
       "” my **mother** asks a woman at one of the tables.  "
      ],
      "text/plain": [
       "<IPython.core.display.Markdown object>"
      ]
     },
     "metadata": {},
     "output_type": "display_data"
    },
    {
     "data": {
      "text/markdown": [
       "” my **mother** asks the woman, picking up a few pieces of the paper from the table."
      ],
      "text/plain": [
       "<IPython.core.display.Markdown object>"
      ]
     },
     "metadata": {},
     "output_type": "display_data"
    },
    {
     "data": {
      "text/markdown": [
       "I see,” my **mother** says, looking about the room."
      ],
      "text/plain": [
       "<IPython.core.display.Markdown object>"
      ]
     },
     "metadata": {},
     "output_type": "display_data"
    },
    {
     "data": {
      "text/markdown": [
       "The woman asks my **mother** what she means.  "
      ],
      "text/plain": [
       "<IPython.core.display.Markdown object>"
      ]
     },
     "metadata": {},
     "output_type": "display_data"
    },
    {
     "data": {
      "text/markdown": [
       "My **mother** looks at me, then looks away."
      ],
      "text/plain": [
       "<IPython.core.display.Markdown object>"
      ]
     },
     "metadata": {},
     "output_type": "display_data"
    },
    {
     "data": {
      "text/markdown": [
       "She finishes the form for her daughter and my **mother**"
      ],
      "text/plain": [
       "<IPython.core.display.Markdown object>"
      ]
     },
     "metadata": {},
     "output_type": "display_data"
    },
    {
     "data": {
      "text/markdown": [
       "My **mother** is now diseased, according to the girl"
      ],
      "text/plain": [
       "<IPython.core.display.Markdown object>"
      ]
     },
     "metadata": {},
     "output_type": "display_data"
    },
    {
     "data": {
      "text/markdown": [
       "’s eyes, and until the moment her **mother** takes her and the form to the front of the auditorium"
      ],
      "text/plain": [
       "<IPython.core.display.Markdown object>"
      ]
     },
     "metadata": {},
     "output_type": "display_data"
    },
    {
     "data": {
      "text/markdown": [
       ", the girl never stops looking at my **mother**."
      ],
      "text/plain": [
       "<IPython.core.display.Markdown object>"
      ]
     },
     "metadata": {},
     "output_type": "display_data"
    },
    {
     "data": {
      "text/markdown": [
       "Don’t stare,” my **mother** says to me."
      ],
      "text/plain": [
       "<IPython.core.display.Markdown object>"
      ]
     },
     "metadata": {},
     "output_type": "display_data"
    },
    {
     "data": {
      "text/markdown": [
       "My **mother** answers the questions the woman reads off the form."
      ],
      "text/plain": [
       "<IPython.core.display.Markdown object>"
      ]
     },
     "metadata": {},
     "output_type": "display_data"
    },
    {
     "data": {
      "text/markdown": [
       "My **mother** slowly enunciates each word of my name."
      ],
      "text/plain": [
       "<IPython.core.display.Markdown object>"
      ]
     },
     "metadata": {},
     "output_type": "display_data"
    },
    {
     "data": {
      "text/markdown": [
       "This is my **mother**: As the questions go on, she takes from her pocketbook document after document, as if they will support my right to attend school, as if she has been saving them up for just this moment."
      ],
      "text/plain": [
       "<IPython.core.display.Markdown object>"
      ]
     },
     "metadata": {},
     "output_type": "display_data"
    },
    {
     "data": {
      "text/markdown": [
       "Few of the papers are needed here, but it does not matter and my **mother** continues to pull out the documents with the purposefulness of a magician pulling out a long string of scarves."
      ],
      "text/plain": [
       "<IPython.core.display.Markdown object>"
      ]
     },
     "metadata": {},
     "output_type": "display_data"
    },
    {
     "data": {
      "text/markdown": [
       "She has learned that money is the beginning and end of everything in this world, and when the woman finishes, my **mother** offers her fifty cents, and the woman accepts it without hesitation."
      ],
      "text/plain": [
       "<IPython.core.display.Markdown object>"
      ]
     },
     "metadata": {},
     "output_type": "display_data"
    },
    {
     "data": {
      "text/markdown": [
       "My **mother** and I are just about the last parent and child in the room.  "
      ],
      "text/plain": [
       "<IPython.core.display.Markdown object>"
      ]
     },
     "metadata": {},
     "output_type": "display_data"
    },
    {
     "data": {
      "text/markdown": [
       "My **mother** presents the form to a woman sitting in front of the stage, and the woman looks at it and writes something on a white card, which she gives to my **mother**."
      ],
      "text/plain": [
       "<IPython.core.display.Markdown object>"
      ]
     },
     "metadata": {},
     "output_type": "display_data"
    },
    {
     "data": {
      "text/markdown": [
       "Before long, the woman who has taken the girl with the drooping curls appears from behind us, speaks to the sitting woman, and introduces herself to my **mother** and me."
      ],
      "text/plain": [
       "<IPython.core.display.Markdown object>"
      ]
     },
     "metadata": {},
     "output_type": "display_data"
    },
    {
     "data": {
      "text/markdown": [
       "She’s to be my teacher, she tells my **mother**."
      ],
      "text/plain": [
       "<IPython.core.display.Markdown object>"
      ]
     },
     "metadata": {},
     "output_type": "display_data"
    },
    {
     "data": {
      "text/markdown": [
       "My **mother** stares.  "
      ],
      "text/plain": [
       "<IPython.core.display.Markdown object>"
      ]
     },
     "metadata": {},
     "output_type": "display_data"
    },
    {
     "data": {
      "text/markdown": [
       "We go into the hall, where my **mother** kneels down to me."
      ],
      "text/plain": [
       "<IPython.core.display.Markdown object>"
      ]
     },
     "metadata": {},
     "output_type": "display_data"
    },
    {
     "data": {
      "text/markdown": [
       "And even when the teacher turns me toward the classrooms and I hear what must be the singing and talking of all the children in the world, I can still hear my **mother**"
      ],
      "text/plain": [
       "<IPython.core.display.Markdown object>"
      ]
     },
     "metadata": {},
     "output_type": "display_data"
    },
    {
     "data": {
      "text/markdown": [
       "But lately, for no reason at all, the teacher seemed to be in her face all the time, and that morning the teacher had made the death mistake of bringing up Cassandra’s father and **mother**."
      ],
      "text/plain": [
       "<IPython.core.display.Markdown object>"
      ]
     },
     "metadata": {},
     "output_type": "display_data"
    },
    {
     "data": {
      "text/markdown": [
       "On the other side of Rhonda was her **mother**, and behind Rhonda were two older brothers and her father, who peered out through thick glasses."
      ],
      "text/plain": [
       "<IPython.core.display.Markdown object>"
      ]
     },
     "metadata": {},
     "output_type": "display_data"
    },
    {
     "data": {
      "text/markdown": [
       "**mother**’ll pay twenty dollars."
      ],
      "text/plain": [
       "<IPython.core.display.Markdown object>"
      ]
     },
     "metadata": {},
     "output_type": "display_data"
    },
    {
     "data": {
      "text/markdown": [
       "Gladys explained that her **mother** wanted a few small boxes of stuff taken to Gladys’s father in Anacostia."
      ],
      "text/plain": [
       "<IPython.core.display.Markdown object>"
      ]
     },
     "metadata": {},
     "output_type": "display_data"
    },
    {
     "data": {
      "text/markdown": [
       "Taking boxes from the **mother** to the father all the way in Anacostia seemed strange to Cassandra, but being an orphan set adrift in the world she had learned that unless it could involve a death mistake, it was best to ask as few questions as possible."
      ],
      "text/plain": [
       "<IPython.core.display.Markdown object>"
      ]
     },
     "metadata": {},
     "output_type": "display_data"
    },
    {
     "data": {
      "text/markdown": [
       "Anita and Melanie must have heard it before, because they didn’t seem surprised at what the **mother** was saying."
      ],
      "text/plain": [
       "<IPython.core.display.Markdown object>"
      ]
     },
     "metadata": {},
     "output_type": "display_data"
    },
    {
     "data": {
      "text/markdown": [
       ": What does this little bitch have that my **mother** doesn’t have?"
      ],
      "text/plain": [
       "<IPython.core.display.Markdown object>"
      ]
     },
     "metadata": {},
     "output_type": "display_data"
    },
    {
     "data": {
      "text/markdown": [
       "Besides, we still drivin on gas my **mother** paid for.”  "
      ],
      "text/plain": [
       "<IPython.core.display.Markdown object>"
      ]
     },
     "metadata": {},
     "output_type": "display_data"
    },
    {
     "data": {
      "text/markdown": [
       "The boys’ **mother**, waiting for a bus, ignored the drunk."
      ],
      "text/plain": [
       "<IPython.core.display.Markdown object>"
      ]
     },
     "metadata": {},
     "output_type": "display_data"
    },
    {
     "data": {
      "text/markdown": [
       "But Cassandra did not leave, and when the bus came and took the **mother** and her boys away, she began to worry that the drunk would spot her and come over and dance and make her the center of attention.  "
      ],
      "text/plain": [
       "<IPython.core.display.Markdown object>"
      ]
     },
     "metadata": {},
     "output_type": "display_data"
    },
    {
     "data": {
      "text/markdown": [
       "He was followed by his **mother**, who carried a switch as long as the boy."
      ],
      "text/plain": [
       "<IPython.core.display.Markdown object>"
      ]
     },
     "metadata": {},
     "output_type": "display_data"
    },
    {
     "data": {
      "text/markdown": [
       "” the **mother** hollered."
      ],
      "text/plain": [
       "<IPython.core.display.Markdown object>"
      ]
     },
     "metadata": {},
     "output_type": "display_data"
    },
    {
     "data": {
      "text/markdown": [
       "Anita’s **mother** was standing a few feet from the front of Rhonda’s house where two policemen, unsmiling, arms folded, stood as if they would never again do anything as important."
      ],
      "text/plain": [
       "<IPython.core.display.Markdown object>"
      ]
     },
     "metadata": {},
     "output_type": "display_data"
    },
    {
     "data": {
      "text/markdown": [
       "“Jeffrey shot Rhonda,” her **mother** said."
      ],
      "text/plain": [
       "<IPython.core.display.Markdown object>"
      ]
     },
     "metadata": {},
     "output_type": "display_data"
    },
    {
     "data": {
      "text/markdown": [
       "“Honey, it’s true,” Anita’s **mother** said to Cassandra and took the girl by the arm."
      ],
      "text/plain": [
       "<IPython.core.display.Markdown object>"
      ]
     },
     "metadata": {},
     "output_type": "display_data"
    },
    {
     "data": {
      "text/markdown": [
       "Anita’s **mother** said, “"
      ],
      "text/plain": [
       "<IPython.core.display.Markdown object>"
      ]
     },
     "metadata": {},
     "output_type": "display_data"
    },
    {
     "data": {
      "text/markdown": [
       "Anita and her **mother** took Cassandra into the girl’s room."
      ],
      "text/plain": [
       "<IPython.core.display.Markdown object>"
      ]
     },
     "metadata": {},
     "output_type": "display_data"
    },
    {
     "data": {
      "text/markdown": [
       "Anita’s **mother** came in and gave Cassandra a cup of cocoa sitting in a saucer.  "
      ],
      "text/plain": [
       "<IPython.core.display.Markdown object>"
      ]
     },
     "metadata": {},
     "output_type": "display_data"
    },
    {
     "data": {
      "text/markdown": [
       "Anita watched as her **mother** helped Cassandra off with her clothes and into one of her **mother**’s nightgowns.  "
      ],
      "text/plain": [
       "<IPython.core.display.Markdown object>"
      ]
     },
     "metadata": {},
     "output_type": "display_data"
    },
    {
     "data": {
      "text/markdown": [
       "These are the times,” Carol would have joked, “when we miss our **mother**s most.”  Manny, on the telephone, asked if he wanted to tend bar that evening and make some change."
      ],
      "text/plain": [
       "<IPython.core.display.Markdown object>"
      ]
     },
     "metadata": {},
     "output_type": "display_data"
    },
    {
     "data": {
      "text/markdown": [
       "The old man took the family’s picture, and when the **mother** raised one finger, the old man advanced the film and snapped again.  "
      ],
      "text/plain": [
       "<IPython.core.display.Markdown object>"
      ]
     },
     "metadata": {},
     "output_type": "display_data"
    },
    {
     "data": {
      "text/markdown": [
       "She smelled of garlic and, beneath that, of a soap that reminded him of the halls in the hospital where his **mother** had died.    "
      ],
      "text/plain": [
       "<IPython.core.display.Markdown object>"
      ]
     },
     "metadata": {},
     "output_type": "display_data"
    },
    {
     "data": {
      "text/markdown": [
       "His **mother** and father would bring everyone down to see the Washington they put on postcards and in the pages of expensive coffee-table books."
      ],
      "text/plain": [
       "<IPython.core.display.Markdown object>"
      ]
     },
     "metadata": {},
     "output_type": "display_data"
    },
    {
     "data": {
      "text/markdown": [
       "Never mind, they said, that he loved Caesar’s **mother** as much as he loved anyone and that stealing the flowers was his way of showing that love."
      ],
      "text/plain": [
       "<IPython.core.display.Markdown object>"
      ]
     },
     "metadata": {},
     "output_type": "display_data"
    },
    {
     "data": {
      "text/markdown": [
       "Caesar, though, was moved, and they grew closer after his **mother**’s funeral."
      ],
      "text/plain": [
       "<IPython.core.display.Markdown object>"
      ]
     },
     "metadata": {},
     "output_type": "display_data"
    },
    {
     "data": {
      "text/markdown": [
       "—a lace piece made by his grand**mother** that was on the back of the easy chair in the living room; a drawing of the house signed and dated by his sister"
      ],
      "text/plain": [
       "<IPython.core.display.Markdown object>"
      ]
     },
     "metadata": {},
     "output_type": "display_data"
    },
    {
     "data": {
      "text/markdown": [
       "taped to the refrigerator; the kitchen curtains he had helped his **mother** put up."
      ],
      "text/plain": [
       "<IPython.core.display.Markdown object>"
      ]
     },
     "metadata": {},
     "output_type": "display_data"
    },
    {
     "data": {
      "text/markdown": [
       "Must be your **mother**, too."
      ],
      "text/plain": [
       "<IPython.core.display.Markdown object>"
      ]
     },
     "metadata": {},
     "output_type": "display_data"
    },
    {
     "data": {
      "text/markdown": [
       "The boy in the picture, dressed in green swimming trunks with his back to some ocean, could well be a grown man by now, or he could be in his grave, Caesar thought, but today, on that street, his **mother** was saying he needed five thousand dollars for an operation or he would die as sure as anything."
      ],
      "text/plain": [
       "<IPython.core.display.Markdown object>"
      ]
     },
     "metadata": {},
     "output_type": "display_data"
    },
    {
     "data": {
      "text/markdown": [
       "I lived with my **mother**, so rent and food weren’t a problem, though my brother, when he came around with that family of his, liked to get in my shit and tell me I should be looking for another job."
      ],
      "text/plain": [
       "<IPython.core.display.Markdown object>"
      ]
     },
     "metadata": {},
     "output_type": "display_data"
    },
    {
     "data": {
      "text/markdown": [
       "Usually, my **mother** was okay, but I could tell when my brother and his flat-butt wife had been around when I wasn’t there, because for days after that my **mother** would talk that same shit about me getting a job, like I’d never slaved a day before in my life.  "
      ],
      "text/plain": [
       "<IPython.core.display.Markdown object>"
      ]
     },
     "metadata": {},
     "output_type": "display_data"
    },
    {
     "data": {
      "text/markdown": [
       "My **mother** always said that every bullfrog praises his own poem, but I know for a natural fact that I was an excellent worker."
      ],
      "text/plain": [
       "<IPython.core.display.Markdown object>"
      ]
     },
     "metadata": {},
     "output_type": "display_data"
    },
    {
     "data": {
      "text/markdown": [
       "When my brother and I were in our early teens, my **mother** said this to us with the most seriousness she had ever said anything:"
      ],
      "text/plain": [
       "<IPython.core.display.Markdown object>"
      ]
     },
     "metadata": {},
     "output_type": "display_data"
    },
    {
     "data": {
      "text/markdown": [
       "The worst that my **mother** feared didn’t happen to her baby boy that day."
      ],
      "text/plain": [
       "<IPython.core.display.Markdown object>"
      ]
     },
     "metadata": {},
     "output_type": "display_data"
    },
    {
     "data": {
      "text/markdown": [
       "Had he told me to deny my **mother** and father, I think I would have done that too.  "
      ],
      "text/plain": [
       "<IPython.core.display.Markdown object>"
      ]
     },
     "metadata": {},
     "output_type": "display_data"
    },
    {
     "data": {
      "text/markdown": [
       "My **mother** believed that a day had the best foundation if you had breakfast, so after she fixed our breakfast, and went off to work, I went back to bed and slept to about noon.  "
      ],
      "text/plain": [
       "<IPython.core.display.Markdown object>"
      ]
     },
     "metadata": {},
     "output_type": "display_data"
    },
    {
     "data": {
      "text/markdown": [
       "One night, all of us—me and Lonney and his **mother** and Brenda and her parents"
      ],
      "text/plain": [
       "<IPython.core.display.Markdown object>"
      ]
     },
     "metadata": {},
     "output_type": "display_data"
    },
    {
     "data": {
      "text/markdown": [
       "Lonney’s **mother** stood up, in that eager, happy way women do when they want to greet their husbands home from a foreign land."
      ],
      "text/plain": [
       "<IPython.core.display.Markdown object>"
      ]
     },
     "metadata": {},
     "output_type": "display_data"
    },
    {
     "data": {
      "text/markdown": [
       "I think that he wanted to make things work with Brenda, if only to push the whole thing in his father’s face, but the foundation, as my **mother** would have said, was built on shifting sand."
      ],
      "text/plain": [
       "<IPython.core.display.Markdown object>"
      ]
     },
     "metadata": {},
     "output_type": "display_data"
    },
    {
     "data": {
      "text/markdown": [
       "In about a year or so he had separated from her, though he continued to be a good father to the child, a chubby little girl they named after his **mother**."
      ],
      "text/plain": [
       "<IPython.core.display.Markdown object>"
      ]
     },
     "metadata": {},
     "output_type": "display_data"
    },
    {
     "data": {
      "text/markdown": [
       "The next morning I forced myself to stay awake after my **mother** had left, then went off about eight o’clock to see what the place was about."
      ],
      "text/plain": [
       "<IPython.core.display.Markdown object>"
      ]
     },
     "metadata": {},
     "output_type": "display_data"
    },
    {
     "data": {
      "text/markdown": [
       "And so for a change I was up when my **mother** rose and I fixed our breakfast."
      ],
      "text/plain": [
       "<IPython.core.display.Markdown object>"
      ]
     },
     "metadata": {},
     "output_type": "display_data"
    },
    {
     "data": {
      "text/markdown": [
       "My **mother** would have sold me back into slavery for a good cup of coffee, and no one made it to her satisfaction the way she did.  "
      ],
      "text/plain": [
       "<IPython.core.display.Markdown object>"
      ]
     },
     "metadata": {},
     "output_type": "display_data"
    },
    {
     "data": {
      "text/markdown": [
       "My **mother** would fix me dinner"
      ],
      "text/plain": [
       "<IPython.core.display.Markdown object>"
      ]
     },
     "metadata": {},
     "output_type": "display_data"
    },
    {
     "data": {
      "text/markdown": [
       "Then, before I could fall asleep in the chair, my **mother** would run water for me to take a bath, the same thing I had seen her do for my father so often when I was a child that I didn’t notice it anymore.  "
      ],
      "text/plain": [
       "<IPython.core.display.Markdown object>"
      ]
     },
     "metadata": {},
     "output_type": "display_data"
    },
    {
     "data": {
      "text/markdown": [
       "I just said yeah and good night and thanks, because my **mother** had always taught me and my brother that the currency of manners didn’t cost anything."
      ],
      "text/plain": [
       "<IPython.core.display.Markdown object>"
      ]
     },
     "metadata": {},
     "output_type": "display_data"
    },
    {
     "data": {
      "text/markdown": [
       "In the dark apartment, I could see that slice of light along the bottom of my **mother**’s closed door.    "
      ],
      "text/plain": [
       "<IPython.core.display.Markdown object>"
      ]
     },
     "metadata": {},
     "output_type": "display_data"
    },
    {
     "data": {
      "text/markdown": [
       "I learned in bits and pieces over time that she lived in an apartment on Neal Place a few doors from 5th Street, was a year out of Dunbar, was a secretary with the government people, that her family lived in a house on N Street that her **mother**’s parents had bought….    "
      ],
      "text/plain": [
       "<IPython.core.display.Markdown object>"
      ]
     },
     "metadata": {},
     "output_type": "display_data"
    },
    {
     "data": {
      "text/markdown": [
       "The **mother** seemed to live and die for her stories on television, and I rarely saw her either."
      ],
      "text/plain": [
       "<IPython.core.display.Markdown object>"
      ]
     },
     "metadata": {},
     "output_type": "display_data"
    },
    {
     "data": {
      "text/markdown": [
       "Gimme” meant the **mother** wanted it on credit."
      ],
      "text/plain": [
       "<IPython.core.display.Markdown object>"
      ]
     },
     "metadata": {},
     "output_type": "display_data"
    },
    {
     "data": {
      "text/markdown": [
       "I came back to Washington and dropped his **mother** off at her house and then went back to work, though Penny had said I could take the day off."
      ],
      "text/plain": [
       "<IPython.core.display.Markdown object>"
      ]
     },
     "metadata": {},
     "output_type": "display_data"
    },
    {
     "data": {
      "text/markdown": [
       "I waited until we were across O Street and asked with words that would have done my **mother** proud if I could take her to Howard Theater to see Dinah Washington that Saturday night.  "
      ],
      "text/plain": [
       "<IPython.core.display.Markdown object>"
      ]
     },
     "metadata": {},
     "output_type": "display_data"
    },
    {
     "data": {
      "text/markdown": [
       "Kentucky’s **mother** was the first Negro supervisor at some office in the Department of Commerce."
      ],
      "text/plain": [
       "<IPython.core.display.Markdown object>"
      ]
     },
     "metadata": {},
     "output_type": "display_data"
    },
    {
     "data": {
      "text/markdown": [
       "The second time I realized my allegiances were expanding, that I was making room in my soul for more than one neighborhood, was when I was asked to be godfather to two babies within one month; Penny got to be the god**mother**"
      ],
      "text/plain": [
       "<IPython.core.display.Markdown object>"
      ]
     },
     "metadata": {},
     "output_type": "display_data"
    },
    {
     "data": {
      "text/markdown": [
       "One picture showed Joy Lambert, the **mother** of Patricia and Tommy Turner."
      ],
      "text/plain": [
       "<IPython.core.display.Markdown object>"
      ]
     },
     "metadata": {},
     "output_type": "display_data"
    },
    {
     "data": {
      "text/markdown": [
       "More and more I got to staying at her place, sleeping at my **mother**’s only a few times a month."
      ],
      "text/plain": [
       "<IPython.core.display.Markdown object>"
      ]
     },
     "metadata": {},
     "output_type": "display_data"
    },
    {
     "data": {
      "text/markdown": [
       "I hope you know what you doin,” my **mother** would say sometimes."
      ],
      "text/plain": [
       "<IPython.core.display.Markdown object>"
      ]
     },
     "metadata": {},
     "output_type": "display_data"
    },
    {
     "data": {
      "text/markdown": [
       "In fact, my **mother** said those very words that August Thursday night when I went to get clean clothes from her place."
      ],
      "text/plain": [
       "<IPython.core.display.Markdown object>"
      ]
     },
     "metadata": {},
     "output_type": "display_data"
    },
    {
     "data": {
      "text/markdown": [
       "my **mother** said her parents always made when she was a little girl.  "
      ],
      "text/plain": [
       "<IPython.core.display.Markdown object>"
      ]
     },
     "metadata": {},
     "output_type": "display_data"
    },
    {
     "data": {
      "text/markdown": [
       "’s **mother**, was there."
      ],
      "text/plain": [
       "<IPython.core.display.Markdown object>"
      ]
     },
     "metadata": {},
     "output_type": "display_data"
    },
    {
     "data": {
      "text/markdown": [
       "Then the ambulance arrived and in little or no time they took the girl and her **mother** away, the flashing light on the roof shining on all the houses as it moved down 5th Street."
      ],
      "text/plain": [
       "<IPython.core.display.Markdown object>"
      ]
     },
     "metadata": {},
     "output_type": "display_data"
    },
    {
     "data": {
      "text/markdown": [
       "Her **mother**,” Penny said, “wouldn’t let me come by to apologize."
      ],
      "text/plain": [
       "<IPython.core.display.Markdown object>"
      ]
     },
     "metadata": {},
     "output_type": "display_data"
    },
    {
     "data": {
      "text/markdown": [
       "All that month, and for some months after, that was the heart of the phone conversation, that the **mother** wouldn’t allow her to come to see her and the family.  "
      ],
      "text/plain": [
       "<IPython.core.display.Markdown object>"
      ]
     },
     "metadata": {},
     "output_type": "display_data"
    },
    {
     "data": {
      "text/markdown": [
       "Tommy came with her, and all the time they were in the store, the boy held his **mother**’s hand.  "
      ],
      "text/plain": [
       "<IPython.core.display.Markdown object>"
      ]
     },
     "metadata": {},
     "output_type": "display_data"
    },
    {
     "data": {
      "text/markdown": [
       "The boy never said a word the whole time, just stood there close to his **mother**, with his thumb in his mouth and blinking very, very slowly as if he were about to fall asleep on his feet.    "
      ],
      "text/plain": [
       "<IPython.core.display.Markdown object>"
      ]
     },
     "metadata": {},
     "output_type": "display_data"
    },
    {
     "data": {
      "text/markdown": [
       "Since Penny had told me to wipe the slate clean for Patricia’s **mother**, Old Lady Baxter became the biggest deadbeat."
      ],
      "text/plain": [
       "<IPython.core.display.Markdown object>"
      ]
     },
     "metadata": {},
     "output_type": "display_data"
    },
    {
     "data": {
      "text/markdown": [
       "My **mother** once told me that in place of muscles God gave women the ability to cry on a moment’s notice.  "
      ],
      "text/plain": [
       "<IPython.core.display.Markdown object>"
      ]
     },
     "metadata": {},
     "output_type": "display_data"
    },
    {
     "data": {
      "text/markdown": [
       "I could see that she did not approve, but she only had this look that my **mother** had the day my brother came home with the first piece of clothing my parents allowed him to buy on his own."
      ],
      "text/plain": [
       "<IPython.core.display.Markdown object>"
      ]
     },
     "metadata": {},
     "output_type": "display_data"
    },
    {
     "data": {
      "text/markdown": [
       "After a while I went to my **mother**’s place."
      ],
      "text/plain": [
       "<IPython.core.display.Markdown object>"
      ]
     },
     "metadata": {},
     "output_type": "display_data"
    },
    {
     "data": {
      "text/markdown": [
       "I found my **mother** at the kitchen table, listening to gospel on the radio."
      ],
      "text/plain": [
       "<IPython.core.display.Markdown object>"
      ]
     },
     "metadata": {},
     "output_type": "display_data"
    },
    {
     "data": {
      "text/markdown": [
       "I was twenty-seven years old, the age my **mother** was when she married."
      ],
      "text/plain": [
       "<IPython.core.display.Markdown object>"
      ]
     },
     "metadata": {},
     "output_type": "display_data"
    },
    {
     "data": {
      "text/markdown": [
       "On the crowded Stadium-Armory subway platform, she held Avis, the baby, by the hand, lest the girl wander off, and Marvin, the oldest, stood on his **mother**’s other side."
      ],
      "text/plain": [
       "<IPython.core.display.Markdown object>"
      ]
     },
     "metadata": {},
     "output_type": "display_data"
    },
    {
     "data": {
      "text/markdown": [
       "” he asked his **mother**.  "
      ],
      "text/plain": [
       "<IPython.core.display.Markdown object>"
      ]
     },
     "metadata": {},
     "output_type": "display_data"
    },
    {
     "data": {
      "text/markdown": [
       "My son the engineer, his **mother** thought.  "
      ],
      "text/plain": [
       "<IPython.core.display.Markdown object>"
      ]
     },
     "metadata": {},
     "output_type": "display_data"
    },
    {
     "data": {
      "text/markdown": [
       "Marcus and Avis managed to find seats just in front of their **mother**, and she was surprised when the dreadlock man sat down beside her."
      ],
      "text/plain": [
       "<IPython.core.display.Markdown object>"
      ]
     },
     "metadata": {},
     "output_type": "display_data"
    },
    {
     "data": {
      "text/markdown": [
       "Beside the boy was a woman as old as Marvella’s **mother**, asleep, her head leaning against the window."
      ],
      "text/plain": [
       "<IPython.core.display.Markdown object>"
      ]
     },
     "metadata": {},
     "output_type": "display_data"
    },
    {
     "data": {
      "text/markdown": [
       "I should tell him to turn around, his **mother** thought, but this might be one time when he’s justified."
      ],
      "text/plain": [
       "<IPython.core.display.Markdown object>"
      ]
     },
     "metadata": {},
     "output_type": "display_data"
    },
    {
     "data": {
      "text/markdown": [
       "She wrapped the strap of her pocketbook around her shoulder and held her daughter’s hand as they made their way two blocks up 12th Street to Horizon House, where Marvella’s **mother** lived."
      ],
      "text/plain": [
       "<IPython.core.display.Markdown object>"
      ]
     },
     "metadata": {},
     "output_type": "display_data"
    },
    {
     "data": {
      "text/markdown": [
       "They took the elevator up to her **mother**"
      ],
      "text/plain": [
       "<IPython.core.display.Markdown object>"
      ]
     },
     "metadata": {},
     "output_type": "display_data"
    },
    {
     "data": {
      "text/markdown": [
       "”  Avis, interested, leaned across her **mother**’s lap."
      ],
      "text/plain": [
       "<IPython.core.display.Markdown object>"
      ]
     },
     "metadata": {},
     "output_type": "display_data"
    },
    {
     "data": {
      "text/markdown": [
       "Marcus…” his **mother** said.  "
      ],
      "text/plain": [
       "<IPython.core.display.Markdown object>"
      ]
     },
     "metadata": {},
     "output_type": "display_data"
    },
    {
     "data": {
      "text/markdown": [
       "“Marcus,” his **mother** said.  "
      ],
      "text/plain": [
       "<IPython.core.display.Markdown object>"
      ]
     },
     "metadata": {},
     "output_type": "display_data"
    },
    {
     "data": {
      "text/markdown": [
       "My son the old man, his **mother** thought."
      ],
      "text/plain": [
       "<IPython.core.display.Markdown object>"
      ]
     },
     "metadata": {},
     "output_type": "display_data"
    },
    {
     "data": {
      "text/markdown": [
       "Well, it doesn’t matter,” his **mother** said.  "
      ],
      "text/plain": [
       "<IPython.core.display.Markdown object>"
      ]
     },
     "metadata": {},
     "output_type": "display_data"
    },
    {
     "data": {
      "text/markdown": [
       "She was in her **mother**"
      ],
      "text/plain": [
       "<IPython.core.display.Markdown object>"
      ]
     },
     "metadata": {},
     "output_type": "display_data"
    },
    {
     "data": {
      "text/markdown": [
       "She closed her eyes and leaned back against her **mother**.  "
      ],
      "text/plain": [
       "<IPython.core.display.Markdown object>"
      ]
     },
     "metadata": {},
     "output_type": "display_data"
    },
    {
     "data": {
      "text/markdown": [
       "The boy looked at the man as if for help from his **mother**’s order."
      ],
      "text/plain": [
       "<IPython.core.display.Markdown object>"
      ]
     },
     "metadata": {},
     "output_type": "display_data"
    },
    {
     "data": {
      "text/markdown": [
       "By keeping the boys at Thompson School in Northwest two blocks from her **mother**, she worried less when the school day ended.  "
      ],
      "text/plain": [
       "<IPython.core.display.Markdown object>"
      ]
     },
     "metadata": {},
     "output_type": "display_data"
    },
    {
     "data": {
      "text/markdown": [
       "” his **mother** said just as Avis was about to take up the chant.    "
      ],
      "text/plain": [
       "<IPython.core.display.Markdown object>"
      ]
     },
     "metadata": {},
     "output_type": "display_data"
    },
    {
     "data": {
      "text/markdown": [
       "THE SUNDAY FOLLOWING **mother**’S DAY     "
      ],
      "text/plain": [
       "<IPython.core.display.Markdown object>"
      ]
     },
     "metadata": {},
     "output_type": "display_data"
    },
    {
     "data": {
      "text/markdown": [
       "When Madeleine Williams was four years old and her brother Sam was ten, their father killed their **mother** one night in early April."
      ],
      "text/plain": [
       "<IPython.core.display.Markdown object>"
      ]
     },
     "metadata": {},
     "output_type": "display_data"
    },
    {
     "data": {
      "text/markdown": [
       "If their **mother** sent forth to her children a cry of help, or of good-bye, they did not hear it, at least not on any conscious level, and they slept clear through to morning."
      ],
      "text/plain": [
       "<IPython.core.display.Markdown object>"
      ]
     },
     "metadata": {},
     "output_type": "display_data"
    },
    {
     "data": {
      "text/markdown": [
       "Judge John Tellingford chose to sentence Samuel Williams to twenty-five years at Lorton and, Madeleine found on page 164 of the transcript, the judge noted that for whatever demented reason the father had stabbed to death the **mother** of his children, he had seen fit to spare his children an equally horrendous fate."
      ],
      "text/plain": [
       "<IPython.core.display.Markdown object>"
      ]
     },
     "metadata": {},
     "output_type": "display_data"
    },
    {
     "data": {
      "text/markdown": [
       "In all the times she and Curtis took the girl home, she had seen the **mother** only a few times, and each time the **mother** had stood in her bathrobe in the entrance to the kitchen smoking a cigarette and watching as Madeleine said good-bye to the girl."
      ],
      "text/plain": [
       "<IPython.core.display.Markdown object>"
      ]
     },
     "metadata": {},
     "output_type": "display_data"
    },
    {
     "data": {
      "text/markdown": [
       "Whatcha takin up?” the **mother** asked each time."
      ],
      "text/plain": [
       "<IPython.core.display.Markdown object>"
      ]
     },
     "metadata": {},
     "output_type": "display_data"
    },
    {
     "data": {
      "text/markdown": [
       "In Madeleine’s junior year, Clarine’s father killed the **mother** with four pistol shots into the heart."
      ],
      "text/plain": [
       "<IPython.core.display.Markdown object>"
      ]
     },
     "metadata": {},
     "output_type": "display_data"
    },
    {
     "data": {
      "text/markdown": [
       "Madeleine could not remember what the **mother** looked like, and even when she looked down at the woman in her coffin, she could not connect the dead woman with the woman standing in her bathrobe."
      ],
      "text/plain": [
       "<IPython.core.display.Markdown object>"
      ]
     },
     "metadata": {},
     "output_type": "display_data"
    },
    {
     "data": {
      "text/markdown": [
       "The girl, along with the other children, had seen her father shoot her **mother**."
      ],
      "text/plain": [
       "<IPython.core.display.Markdown object>"
      ]
     },
     "metadata": {},
     "output_type": "display_data"
    },
    {
     "data": {
      "text/markdown": [
       "He named the place after his **mother** and aunt."
      ],
      "text/plain": [
       "<IPython.core.display.Markdown object>"
      ]
     },
     "metadata": {},
     "output_type": "display_data"
    },
    {
     "data": {
      "text/markdown": [
       "20 years of happy living isn’t long enough for a **mother**fucker like you,” Sam finally wrote his father."
      ],
      "text/plain": [
       "<IPython.core.display.Markdown object>"
      ]
     },
     "metadata": {},
     "output_type": "display_data"
    },
    {
     "data": {
      "text/markdown": [
       "A reconciliation was arranged by Hazel and Maddie on the Sunday before **mother**’s Day, which happened to be Maddie’s birthday."
      ],
      "text/plain": [
       "<IPython.core.display.Markdown object>"
      ]
     },
     "metadata": {},
     "output_type": "display_data"
    },
    {
     "data": {
      "text/markdown": [
       "Why would anyone in the world write to the man who killed their own **mother**?"
      ],
      "text/plain": [
       "<IPython.core.display.Markdown object>"
      ]
     },
     "metadata": {},
     "output_type": "display_data"
    },
    {
     "data": {
      "text/markdown": [
       "She hugged him, clung to him, and for those moments they were no more or less than a boy and girl without a **mother** and father.    "
      ],
      "text/plain": [
       "<IPython.core.display.Markdown object>"
      ]
     },
     "metadata": {},
     "output_type": "display_data"
    },
    {
     "data": {
      "text/markdown": [
       "Madeleine and Curtis had planned to spend **mother**’s Day at the Children’s Center with their child, but Curtis’s father became ill during the week and Curtis went to Norfolk."
      ],
      "text/plain": [
       "<IPython.core.display.Markdown object>"
      ]
     },
     "metadata": {},
     "output_type": "display_data"
    },
    {
     "data": {
      "text/markdown": [
       "Madeleine would have waited until he returned to visit the center, but she did not want too much time to pass after **mother**’s Day before she saw her son.  "
      ],
      "text/plain": [
       "<IPython.core.display.Markdown object>"
      ]
     },
     "metadata": {},
     "output_type": "display_data"
    },
    {
     "data": {
      "text/markdown": [
       "On the Sunday morning following **mother**’s Day, she was ready to leave her apartment when the chime on her door rang."
      ],
      "text/plain": [
       "<IPython.core.display.Markdown object>"
      ]
     },
     "metadata": {},
     "output_type": "display_data"
    },
    {
     "data": {
      "text/markdown": [
       "I wanted to wish you a happy **mother**’s Day."
      ],
      "text/plain": [
       "<IPython.core.display.Markdown object>"
      ]
     },
     "metadata": {},
     "output_type": "display_data"
    },
    {
     "data": {
      "text/markdown": [
       "**mother**’s Day was last Sunday."
      ],
      "text/plain": [
       "<IPython.core.display.Markdown object>"
      ]
     },
     "metadata": {},
     "output_type": "display_data"
    },
    {
     "data": {
      "text/markdown": [
       "Happy **mother**’s Day."
      ],
      "text/plain": [
       "<IPython.core.display.Markdown object>"
      ]
     },
     "metadata": {},
     "output_type": "display_data"
    },
    {
     "data": {
      "text/markdown": [
       "On the lawn there was a family fussing over a fellow who could have been five or in his teens or a man of thirty or so, and who was sitting in the lap of a woman who may have been his **mother**."
      ],
      "text/plain": [
       "<IPython.core.display.Markdown object>"
      ]
     },
     "metadata": {},
     "output_type": "display_data"
    },
    {
     "data": {
      "text/markdown": [
       "the woman’s daughter, who stood beside an older brother, just behind their **mother**."
      ],
      "text/plain": [
       "<IPython.core.display.Markdown object>"
      ]
     },
     "metadata": {},
     "output_type": "display_data"
    },
    {
     "data": {
      "text/markdown": [
       "All right now,” their **mother** said, “Thas anough a that.”"
      ],
      "text/plain": [
       "<IPython.core.display.Markdown object>"
      ]
     },
     "metadata": {},
     "output_type": "display_data"
    },
    {
     "data": {
      "text/markdown": [
       "If it was true what her **mother** had once told her, then nothing rang the telephone like death in the middle of the night.  "
      ],
      "text/plain": [
       "<IPython.core.display.Markdown object>"
      ]
     },
     "metadata": {},
     "output_type": "display_data"
    },
    {
     "data": {
      "text/markdown": [
       "We are very sorry to call at such a time, but your **mother** died twenty minutes ago."
      ],
      "text/plain": [
       "<IPython.core.display.Markdown object>"
      ]
     },
     "metadata": {},
     "output_type": "display_data"
    },
    {
     "data": {
      "text/markdown": [
       "Your **mother** was an exemplary patient,” the woman said."
      ],
      "text/plain": [
       "<IPython.core.display.Markdown object>"
      ]
     },
     "metadata": {},
     "output_type": "display_data"
    },
    {
     "data": {
      "text/markdown": [
       "Try to remember, she told herself, for all of it must go in the diary: On the night of June 29th, I was dreaming such-and-such and such-and-such when my **mother** passed away."
      ],
      "text/plain": [
       "<IPython.core.display.Markdown object>"
      ]
     },
     "metadata": {},
     "output_type": "display_data"
    },
    {
     "data": {
      "text/markdown": [
       "She thought she had been dreaming of Antibes and the naked Texan on the beach when her **mother** died, but the more she thought the more it seemed that Antibes had actually been on her mind when she came the first time hours ago.  "
      ],
      "text/plain": [
       "<IPython.core.display.Markdown object>"
      ]
     },
     "metadata": {},
     "output_type": "display_data"
    },
    {
     "data": {
      "text/markdown": [
       "her **mother** had said of the first boy she had ever slept with, though all her **mother** knew at that time was that the boy had taken her to a movie and Mile Long for a steak sandwich."
      ],
      "text/plain": [
       "<IPython.core.display.Markdown object>"
      ]
     },
     "metadata": {},
     "output_type": "display_data"
    },
    {
     "data": {
      "text/markdown": [
       "her **mother** had asked."
      ],
      "text/plain": [
       "<IPython.core.display.Markdown object>"
      ]
     },
     "metadata": {},
     "output_type": "display_data"
    },
    {
     "data": {
      "text/markdown": [
       "My **mother** has died and I have to go to her.”  "
      ],
      "text/plain": [
       "<IPython.core.display.Markdown object>"
      ]
     },
     "metadata": {},
     "output_type": "display_data"
    },
    {
     "data": {
      "text/markdown": [
       "He does not even know my name on the very night my **mother** has died, she thought, wanting him out of her bed and out of her house."
      ],
      "text/plain": [
       "<IPython.core.display.Markdown object>"
      ]
     },
     "metadata": {},
     "output_type": "display_data"
    },
    {
     "data": {
      "text/markdown": [
       "I can’t believe I’m walkin the same paths that my Lord walked,” her **mother** had said that second day in Israel, standing at the Church of Gethsemane."
      ],
      "text/plain": [
       "<IPython.core.display.Markdown object>"
      ]
     },
     "metadata": {},
     "output_type": "display_data"
    },
    {
     "data": {
      "text/markdown": [
       "Lydia had presented the trip to her **mother** on her sixty-fifth birthday and had even paid the way for Georgia Evans, her **mother**’s best friend."
      ],
      "text/plain": [
       "<IPython.core.display.Markdown object>"
      ]
     },
     "metadata": {},
     "output_type": "display_data"
    },
    {
     "data": {
      "text/markdown": [
       "Lydia had not wanted to go, but her **mother** had insisted."
      ],
      "text/plain": [
       "<IPython.core.display.Markdown object>"
      ]
     },
     "metadata": {},
     "output_type": "display_data"
    },
    {
     "data": {
      "text/markdown": [
       "Oh, Lydia,” her **mother** had said, “what would the Holy Land mean to me without you bein there with me?”  Georgia, lazy, far less religious that her **mother**, had complained about all the hills."
      ],
      "text/plain": [
       "<IPython.core.display.Markdown object>"
      ]
     },
     "metadata": {},
     "output_type": "display_data"
    },
    {
     "data": {
      "text/markdown": [
       "Georgia would drink all the water she carried, then want more from Lydia and her **mother**."
      ],
      "text/plain": [
       "<IPython.core.display.Markdown object>"
      ]
     },
     "metadata": {},
     "output_type": "display_data"
    },
    {
     "data": {
      "text/markdown": [
       "My **mother** lies moldering"
      ],
      "text/plain": [
       "<IPython.core.display.Markdown object>"
      ]
     },
     "metadata": {},
     "output_type": "display_data"
    },
    {
     "data": {
      "text/markdown": [
       "Why, Ms. Walsh, your **mother** lies moldering and you’ve been fucking."
      ],
      "text/plain": [
       "<IPython.core.display.Markdown object>"
      ]
     },
     "metadata": {},
     "output_type": "display_data"
    },
    {
     "data": {
      "text/markdown": [
       "She called a Capitol cab, because that was the company her **mother** had always used."
      ],
      "text/plain": [
       "<IPython.core.display.Markdown object>"
      ]
     },
     "metadata": {},
     "output_type": "display_data"
    },
    {
     "data": {
      "text/markdown": [
       "Trust Capitol to get you there and back in one piece,” her **mother** had said."
      ],
      "text/plain": [
       "<IPython.core.display.Markdown object>"
      ]
     },
     "metadata": {},
     "output_type": "display_data"
    },
    {
     "data": {
      "text/markdown": [
       "Once, as a girl, she had traveled with her **mother**"
      ],
      "text/plain": [
       "<IPython.core.display.Markdown object>"
      ]
     },
     "metadata": {},
     "output_type": "display_data"
    },
    {
     "data": {
      "text/markdown": [
       "On that sixth morning in Israel, Georgia had gone back to her bed after breakfast and seemed unable to move, but she had insisted that Lydia and her **mother** go on without her."
      ],
      "text/plain": [
       "<IPython.core.display.Markdown object>"
      ]
     },
     "metadata": {},
     "output_type": "display_data"
    },
    {
     "data": {
      "text/markdown": [
       "When **mother** and daughter returned from floating on the Dead Sea, they found Georgia in a lounge chair at the swimming pool, descending into drunkenness, not quite certain who they were or where she was."
      ],
      "text/plain": [
       "<IPython.core.display.Markdown object>"
      ]
     },
     "metadata": {},
     "output_type": "display_data"
    },
    {
     "data": {
      "text/markdown": [
       "When Lydia’s **mother** told her that she was in the Holy Land, the land of Jesus, Georgia said, “Yes."
      ],
      "text/plain": [
       "<IPython.core.display.Markdown object>"
      ]
     },
     "metadata": {},
     "output_type": "display_data"
    },
    {
     "data": {
      "text/markdown": [
       "Then, after Lydia’s **mother** slapped her, Georgia asked her friend for forgiveness.  "
      ],
      "text/plain": [
       "<IPython.core.display.Markdown object>"
      ]
     },
     "metadata": {},
     "output_type": "display_data"
    },
    {
     "data": {
      "text/markdown": [
       "Her **mother** refused to say anything more to Georgia."
      ],
      "text/plain": [
       "<IPython.core.display.Markdown object>"
      ]
     },
     "metadata": {},
     "output_type": "display_data"
    },
    {
     "data": {
      "text/markdown": [
       "They left her and had dinner in the hotel dining room, but her **mother** only picked at her food.  "
      ],
      "text/plain": [
       "<IPython.core.display.Markdown object>"
      ]
     },
     "metadata": {},
     "output_type": "display_data"
    },
    {
     "data": {
      "text/markdown": [
       "Each place along the way, in Jericho, in Bethany, in Nazareth, she stayed close to Lydia’s **mother**, but Cornelia paid her no mind, and it showed on Georgia’s face.  "
      ],
      "text/plain": [
       "<IPython.core.display.Markdown object>"
      ]
     },
     "metadata": {},
     "output_type": "display_data"
    },
    {
     "data": {
      "text/markdown": [
       "On the living-room wall in Lydia’s town house, among the photographs of places she had visited around the world, between the pictures of her standing before the Kremlin on a winter day and of her in a cavernous room in a Danish castle the guide said was haunted, there was the picture of Lydia and Cornelia and Georgia standing where the tourist bureau said Joseph’s carpentry shop had been, Georgia in her hideous wig standing on one side and her **mother** in the middle."
      ],
      "text/plain": [
       "<IPython.core.display.Markdown object>"
      ]
     },
     "metadata": {},
     "output_type": "display_data"
    },
    {
     "data": {
      "text/markdown": [
       "My **mother** has died."
      ],
      "text/plain": [
       "<IPython.core.display.Markdown object>"
      ]
     },
     "metadata": {},
     "output_type": "display_data"
    },
    {
     "data": {
      "text/markdown": [
       "I know what it’s like to lose a **mother**."
      ],
      "text/plain": [
       "<IPython.core.display.Markdown object>"
      ]
     },
     "metadata": {},
     "output_type": "display_data"
    },
    {
     "data": {
      "text/markdown": [
       "She had wanted to buy a second town house in the area as another investment and have her **mother** and Georgia live there, but her **mother** told her that she did not know if she could live among so many white people."
      ],
      "text/plain": [
       "<IPython.core.display.Markdown object>"
      ]
     },
     "metadata": {},
     "output_type": "display_data"
    },
    {
     "data": {
      "text/markdown": [
       "I knew folks who lived in Southwest before they threw the colored out and made it for the wealthy,” her **mother** had said when Lydia told her she had bought a town house there.  "
      ],
      "text/plain": [
       "<IPython.core.display.Markdown object>"
      ]
     },
     "metadata": {},
     "output_type": "display_data"
    },
    {
     "data": {
      "text/markdown": [
       "You know, your **mother**…."
      ],
      "text/plain": [
       "<IPython.core.display.Markdown object>"
      ]
     },
     "metadata": {},
     "output_type": "display_data"
    },
    {
     "data": {
      "text/markdown": [
       "Had she remembered to finally write down her **mother**’s recipe for that wondrous beef stew somewhere in one of the appointment books?"
      ],
      "text/plain": [
       "<IPython.core.display.Markdown object>"
      ]
     },
     "metadata": {},
     "output_type": "display_data"
    },
    {
     "data": {
      "text/markdown": [
       "I’m sorry for all this,” her father had said on his death bed to her **mother**."
      ],
      "text/plain": [
       "<IPython.core.display.Markdown object>"
      ]
     },
     "metadata": {},
     "output_type": "display_data"
    },
    {
     "data": {
      "text/markdown": [
       "” her **mother** said to her father."
      ],
      "text/plain": [
       "<IPython.core.display.Markdown object>"
      ]
     },
     "metadata": {},
     "output_type": "display_data"
    },
    {
     "data": {
      "text/markdown": [
       "In one of the houses on that street her **mother** lived until Lydia’s last year of law school."
      ],
      "text/plain": [
       "<IPython.core.display.Markdown object>"
      ]
     },
     "metadata": {},
     "output_type": "display_data"
    },
    {
     "data": {
      "text/markdown": [
       "her **mother** had asked while the man was in the bathroom.  "
      ],
      "text/plain": [
       "<IPython.core.display.Markdown object>"
      ]
     },
     "metadata": {},
     "output_type": "display_data"
    },
    {
     "data": {
      "text/markdown": [
       "” John Brown lies molderin where my **mother** lies molderin…."
      ],
      "text/plain": [
       "<IPython.core.display.Markdown object>"
      ]
     },
     "metadata": {},
     "output_type": "display_data"
    },
    {
     "data": {
      "text/markdown": [
       "The cab driver thought that her crying meant that maybe it had finally hit her that her **mother** had died and that soon his passenger would be coming to herself.  "
      ],
      "text/plain": [
       "<IPython.core.display.Markdown object>"
      ]
     },
     "metadata": {},
     "output_type": "display_data"
    },
    {
     "data": {
      "text/markdown": [
       ",” her **mother** told Lydia years later when she thought her daughter was old enough to understand, “she just became his slave."
      ],
      "text/plain": [
       "<IPython.core.display.Markdown object>"
      ]
     },
     "metadata": {},
     "output_type": "display_data"
    },
    {
     "data": {
      "text/markdown": [
       "”      HIS **mother**’S HOUSE     "
      ],
      "text/plain": [
       "<IPython.core.display.Markdown object>"
      ]
     },
     "metadata": {},
     "output_type": "display_data"
    },
    {
     "data": {
      "text/markdown": [
       "When his **mother** moved into that 10th Street house Santiago Moses bought for her, one of the few things she brought from the place she left behind was the coffee table made of see-through glass and false wood."
      ],
      "text/plain": [
       "<IPython.core.display.Markdown object>"
      ]
     },
     "metadata": {},
     "output_type": "display_data"
    },
    {
     "data": {
      "text/markdown": [
       "Santiago Moses watched his **mother**, then he gave the table another playful tap."
      ],
      "text/plain": [
       "<IPython.core.display.Markdown object>"
      ]
     },
     "metadata": {},
     "output_type": "display_data"
    },
    {
     "data": {
      "text/markdown": [
       "My **mother**’s old anough to know what she want."
      ],
      "text/plain": [
       "<IPython.core.display.Markdown object>"
      ]
     },
     "metadata": {},
     "output_type": "display_data"
    },
    {
     "data": {
      "text/markdown": [
       "She and Humphrey’s **mother**, Pearl Malone, had been like sisters since they were ten years old."
      ],
      "text/plain": [
       "<IPython.core.display.Markdown object>"
      ]
     },
     "metadata": {},
     "output_type": "display_data"
    },
    {
     "data": {
      "text/markdown": [
       "She was on the second floor, in the room she had furnished with such care and set aside for her **mother**, who would not ever step foot in her daughter’s house."
      ],
      "text/plain": [
       "<IPython.core.display.Markdown object>"
      ]
     },
     "metadata": {},
     "output_type": "display_data"
    },
    {
     "data": {
      "text/markdown": [
       "The pictures of her **mother** started in the center of the coffee table display."
      ],
      "text/plain": [
       "<IPython.core.display.Markdown object>"
      ]
     },
     "metadata": {},
     "output_type": "display_data"
    },
    {
     "data": {
      "text/markdown": [
       "Her **mother** rarely smiled in the photographs and she often looked into the camera as if the eye had caught her doing something God would not approve of."
      ],
      "text/plain": [
       "<IPython.core.display.Markdown object>"
      ]
     },
     "metadata": {},
     "output_type": "display_data"
    },
    {
     "data": {
      "text/markdown": [
       "I just don’t take the good pictures,” her **mother** had said when she saw the display at the apartment Joyce had left behind.  "
      ],
      "text/plain": [
       "<IPython.core.display.Markdown object>"
      ]
     },
     "metadata": {},
     "output_type": "display_data"
    },
    {
     "data": {
      "text/markdown": [
       "The next time Joyce saw the boy and his **mother**, it was the day after they had delivered the pool table for the basement in the new house."
      ],
      "text/plain": [
       "<IPython.core.display.Markdown object>"
      ]
     },
     "metadata": {},
     "output_type": "display_data"
    },
    {
     "data": {
      "text/markdown": [
       "” he yelled to his **mother** as she turned the corner, and then he threw the car in her direction."
      ],
      "text/plain": [
       "<IPython.core.display.Markdown object>"
      ]
     },
     "metadata": {},
     "output_type": "display_data"
    },
    {
     "data": {
      "text/markdown": [
       "When Santiago called that afternoon, he told his **mother** it would be all right, that the boy would be gone by the evening."
      ],
      "text/plain": [
       "<IPython.core.display.Markdown object>"
      ]
     },
     "metadata": {},
     "output_type": "display_data"
    },
    {
     "data": {
      "text/markdown": [
       "But the boy, Adam, stayed three weeks, and no one ever again saw his **mother**."
      ],
      "text/plain": [
       "<IPython.core.display.Markdown object>"
      ]
     },
     "metadata": {},
     "output_type": "display_data"
    },
    {
     "data": {
      "text/markdown": [
       "The next day was Friday, and she put off going to see her **mother** because it was too nice an April day not to begin preparations for her backyard garden."
      ],
      "text/plain": [
       "<IPython.core.display.Markdown object>"
      ]
     },
     "metadata": {},
     "output_type": "display_data"
    },
    {
     "data": {
      "text/markdown": [
       "Three weeks after she had promised to come by the next day, Joyce finally got up the courage to visit her **mother**."
      ],
      "text/plain": [
       "<IPython.core.display.Markdown object>"
      ]
     },
     "metadata": {},
     "output_type": "display_data"
    },
    {
     "data": {
      "text/markdown": [
       "Her **mother** had not called back to remind her of the promise, which was her **mother**’s way."
      ],
      "text/plain": [
       "<IPython.core.display.Markdown object>"
      ]
     },
     "metadata": {},
     "output_type": "display_data"
    },
    {
     "data": {
      "text/markdown": [
       "As always, Joyce tried to anticipate all that her **mother** would throw at her and spent the walk down to her **mother**"
      ],
      "text/plain": [
       "<IPython.core.display.Markdown object>"
      ]
     },
     "metadata": {},
     "output_type": "display_data"
    },
    {
     "data": {
      "text/markdown": [
       "Her **mother** lived in the Judiciary House, an H Street apartment building for senior citizens and the disabled."
      ],
      "text/plain": [
       "<IPython.core.display.Markdown object>"
      ]
     },
     "metadata": {},
     "output_type": "display_data"
    },
    {
     "data": {
      "text/markdown": [
       "Joyce let herself into the apartment with her own key and found her **mother** in the living room."
      ],
      "text/plain": [
       "<IPython.core.display.Markdown object>"
      ]
     },
     "metadata": {},
     "output_type": "display_data"
    },
    {
     "data": {
      "text/markdown": [
       "The small black-and-white television Joyce’s father had bought on credit twelve years ago was on, but her **mother** was reading a paperback book and paid no attention to the television."
      ],
      "text/plain": [
       "<IPython.core.display.Markdown object>"
      ]
     },
     "metadata": {},
     "output_type": "display_data"
    },
    {
     "data": {
      "text/markdown": [
       "Her **mother**, who did not look up when her daughter entered, was wearing, as usual when she was inside, one of her dead husband’s shirts and a pair of his checkered socks."
      ],
      "text/plain": [
       "<IPython.core.display.Markdown object>"
      ]
     },
     "metadata": {},
     "output_type": "display_data"
    },
    {
     "data": {
      "text/markdown": [
       "And as Joyce bent down to give her **mother** the kind of kiss on the cheek that Santiago would give Joyce, she smelled her father’s cheap musky aftershave.  "
      ],
      "text/plain": [
       "<IPython.core.display.Markdown object>"
      ]
     },
     "metadata": {},
     "output_type": "display_data"
    },
    {
     "data": {
      "text/markdown": [
       "I want you to give Sandy a message,” her **mother** said, taking off the eyeglasses she kept on a string around her neck."
      ],
      "text/plain": [
       "<IPython.core.display.Markdown object>"
      ]
     },
     "metadata": {},
     "output_type": "display_data"
    },
    {
     "data": {
      "text/markdown": [
       "In that second-floor bedroom in her 10th Street house she had set aside for her **mother**, there was a telephone with giant numbers so her **mother** would not have trouble dialing her friends."
      ],
      "text/plain": [
       "<IPython.core.display.Markdown object>"
      ]
     },
     "metadata": {},
     "output_type": "display_data"
    },
    {
     "data": {
      "text/markdown": [
       "“Santiago been comin by some nights and sleepin sida my bed like he did when he was young,” her **mother** said.  "
      ],
      "text/plain": [
       "<IPython.core.display.Markdown object>"
      ]
     },
     "metadata": {},
     "output_type": "display_data"
    },
    {
     "data": {
      "text/markdown": [
       "She sat across from her **mother** in a cheap metal chair that was part of the dinette set."
      ],
      "text/plain": [
       "<IPython.core.display.Markdown object>"
      ]
     },
     "metadata": {},
     "output_type": "display_data"
    },
    {
     "data": {
      "text/markdown": [
       "Well, maybe he’ll listen if the words come from his own **mother**."
      ],
      "text/plain": [
       "<IPython.core.display.Markdown object>"
      ]
     },
     "metadata": {},
     "output_type": "display_data"
    },
    {
     "data": {
      "text/markdown": [
       "I just this moment changed my mind,” her **mother** said."
      ],
      "text/plain": [
       "<IPython.core.display.Markdown object>"
      ]
     },
     "metadata": {},
     "output_type": "display_data"
    },
    {
     "data": {
      "text/markdown": [
       "Her **mother** put on her glasses and opened the book.  "
      ],
      "text/plain": [
       "<IPython.core.display.Markdown object>"
      ]
     },
     "metadata": {},
     "output_type": "display_data"
    },
    {
     "data": {
      "text/markdown": [
       "Joyce stood and went to the door, and her **mother** told her not to forget the money.    "
      ],
      "text/plain": [
       "<IPython.core.display.Markdown object>"
      ]
     },
     "metadata": {},
     "output_type": "display_data"
    },
    {
     "data": {
      "text/markdown": [
       "At a shoe store near 13th Street, she abandoned once and for all any hope she ever had that her **mother** would come to live with her and spend the rest of her life in the room on the second floor."
      ],
      "text/plain": [
       "<IPython.core.display.Markdown object>"
      ]
     },
     "metadata": {},
     "output_type": "display_data"
    },
    {
     "data": {
      "text/markdown": [
       "In one, taken months after his **mother** married, Humphrey was sleeping in a chair by a window."
      ],
      "text/plain": [
       "<IPython.core.display.Markdown object>"
      ]
     },
     "metadata": {},
     "output_type": "display_data"
    },
    {
     "data": {
      "text/markdown": [
       "Everyone said good morning except for the little boy, who sat beside his **mother** at the table, playing with a truck that was as big as his head."
      ],
      "text/plain": [
       "<IPython.core.display.Markdown object>"
      ]
     },
     "metadata": {},
     "output_type": "display_data"
    },
    {
     "data": {
      "text/markdown": [
       "She was, like her **mother**, a very plain and charming woman who could immediately put the world at ease."
      ],
      "text/plain": [
       "<IPython.core.display.Markdown object>"
      ]
     },
     "metadata": {},
     "output_type": "display_data"
    },
    {
     "data": {
      "text/markdown": [
       "And usually after the worst fights, she ran away to stay with Diane, until her husband came and knocked contritely at his **mother**-in-law"
      ],
      "text/plain": [
       "<IPython.core.display.Markdown object>"
      ]
     },
     "metadata": {},
     "output_type": "display_data"
    },
    {
     "data": {
      "text/markdown": [
       "So it was often difficult for him to collect himself on Sunday morning, to pull himself away from a willing woman and clear his head of alcohol, and to go off to be with four other women, one of whom was old enough to be his grand**mother**, two of whom were old enough to be his **mother**, and one of whom had a ring through her nose about another man.  "
      ],
      "text/plain": [
       "<IPython.core.display.Markdown object>"
      ]
     },
     "metadata": {},
     "output_type": "display_data"
    },
    {
     "data": {
      "text/markdown": [
       "’s grand**mother** was Maude Townsend, a blind woman who lived at Claridge Towers on M Street Northwest, an apartment house for old people and the disabled."
      ],
      "text/plain": [
       "<IPython.core.display.Markdown object>"
      ]
     },
     "metadata": {},
     "output_type": "display_data"
    },
    {
     "data": {
      "text/markdown": [
       "Then he said, “**mother**,” which was what he called his wife.  "
      ],
      "text/plain": [
       "<IPython.core.display.Markdown object>"
      ]
     },
     "metadata": {},
     "output_type": "display_data"
    },
    {
     "data": {
      "text/markdown": [
       "He said “**mother**” once more, took up the Bible, walked to the edge of the pulpit, and extended his hand, as if for help, to his wife."
      ],
      "text/plain": [
       "<IPython.core.display.Markdown object>"
      ]
     },
     "metadata": {},
     "output_type": "display_data"
    },
    {
     "data": {
      "text/markdown": [
       "Only those near him could hear him say “**mother**” yet again."
      ],
      "text/plain": [
       "<IPython.core.display.Markdown object>"
      ]
     },
     "metadata": {},
     "output_type": "display_data"
    },
    {
     "data": {
      "text/markdown": [
       "The old man’s son had come to help his father as well, but his **mother** shook her head and pointed to the pulpit."
      ],
      "text/plain": [
       "<IPython.core.display.Markdown object>"
      ]
     },
     "metadata": {},
     "output_type": "display_data"
    },
    {
     "data": {
      "text/markdown": [
       "Once, as she was singing at the Virgin **mother** Baptist Church on Kentucky Avenue, Jesus had come down the aisle and sat down in a pew near the front."
      ],
      "text/plain": [
       "<IPython.core.display.Markdown object>"
      ]
     },
     "metadata": {},
     "output_type": "display_data"
    },
    {
     "data": {
      "text/markdown": [
       "I don’t wanna hear another word outta your mouth till your **mother** get home."
      ],
      "text/plain": [
       "<IPython.core.display.Markdown object>"
      ]
     },
     "metadata": {},
     "output_type": "display_data"
    },
    {
     "data": {
      "text/markdown": [
       "Then he would pass the newspaper among his children and tell them to read him the headlines, and each one would hold it uncomfortably and repeat what their **mother** had said.    "
      ],
      "text/plain": [
       "<IPython.core.display.Markdown object>"
      ]
     },
     "metadata": {},
     "output_type": "display_data"
    },
    {
     "data": {
      "text/markdown": [
       "they did not know about, that the friend’s **mother**, like any good **mother**, would soon send their daughter home."
      ],
      "text/plain": [
       "<IPython.core.display.Markdown object>"
      ]
     },
     "metadata": {},
     "output_type": "display_data"
    },
    {
     "data": {
      "text/markdown": [
       "Of the eight children he had had with Woodrow’s **mother** and the five he had had with other women, only Woodrow, Alice, and a half-brother who lived down the road from the old man came to the funeral."
      ],
      "text/plain": [
       "<IPython.core.display.Markdown object>"
      ]
     },
     "metadata": {},
     "output_type": "display_data"
    },
    {
     "data": {
      "text/markdown": [
       "In a wooden trunk in one of the back rooms, Woodrow found several pictures of his **mother**."
      ],
      "text/plain": [
       "<IPython.core.display.Markdown object>"
      ]
     },
     "metadata": {},
     "output_type": "display_data"
    },
    {
     "data": {
      "text/markdown": [
       "He had not seen his **mother**’s face in more than forty years, had thought his father had destroyed all the pictures of her."
      ],
      "text/plain": [
       "<IPython.core.display.Markdown object>"
      ]
     },
     "metadata": {},
     "output_type": "display_data"
    },
    {
     "data": {
      "text/markdown": [
       "Woodrow’s **mother** sat at the far end of the table, between two of her daughters."
      ],
      "text/plain": [
       "<IPython.core.display.Markdown object>"
      ]
     },
     "metadata": {},
     "output_type": "display_data"
    },
    {
     "data": {
      "text/markdown": [
       "Maybe a half hour or more into that storm, I started seein this figure, this thing, that kinda just stood in that corn patch in my **mother**’s garden."
      ],
      "text/plain": [
       "<IPython.core.display.Markdown object>"
      ]
     },
     "metadata": {},
     "output_type": "display_data"
    },
    {
     "data": {
      "text/markdown": [
       "My Uncle Joe, his wife Ebbie, her **mother**, and my Uncle Ray."
      ],
      "text/plain": [
       "<IPython.core.display.Markdown object>"
      ]
     },
     "metadata": {},
     "output_type": "display_data"
    },
    {
     "data": {
      "text/markdown": [
       "You could see where Aunt Ebbie’s **mother** had been rockin the crib with Aunt Ebbie’s baby in it."
      ],
      "text/plain": [
       "<IPython.core.display.Markdown object>"
      ]
     },
     "metadata": {},
     "output_type": "display_data"
    },
    {
     "data": {
      "text/markdown": [
       "A wind was coming down the chimney and through the door, and it was rockin the crib, rockin Aunt Ebbie’s **mother**’s hand"
      ],
      "text/plain": [
       "<IPython.core.display.Markdown object>"
      ]
     },
     "metadata": {},
     "output_type": "display_data"
    },
    {
     "data": {
      "text/markdown": [
       "I put Aunt Ebbie’s **mother**’s hand in her lap."
      ],
      "text/plain": [
       "<IPython.core.display.Markdown object>"
      ]
     },
     "metadata": {},
     "output_type": "display_data"
    },
    {
     "data": {
      "text/markdown": [
       "They do the job your **mother** and father used to do, huh?"
      ],
      "text/plain": [
       "<IPython.core.display.Markdown object>"
      ]
     },
     "metadata": {},
     "output_type": "display_data"
    },
    {
     "data": {
      "text/markdown": [
       "But when the other receptionist said it was the old lady in the blue coat, the guard held back for the longest time, as if to grab her would be like arresting his own grand**mother**."
      ],
      "text/plain": [
       "<IPython.core.display.Markdown object>"
      ]
     },
     "metadata": {},
     "output_type": "display_data"
    },
    {
     "data": {
      "text/markdown": [
       "But I was born right here in D.C. Born, bred, and buttered, my **mother** used to say."
      ],
      "text/plain": [
       "<IPython.core.display.Markdown object>"
      ]
     },
     "metadata": {},
     "output_type": "display_data"
    },
    {
     "data": {
      "text/markdown": [
       "Maybe thas what I got from listenin to my father readin and to my **mother**"
      ],
      "text/plain": [
       "<IPython.core.display.Markdown object>"
      ]
     },
     "metadata": {},
     "output_type": "display_data"
    },
    {
     "data": {
      "text/markdown": [
       "My **mother** had this idea that everything could be done in Washington, that a human bein could take all they troubles to Washington and things would be set right."
      ],
      "text/plain": [
       "<IPython.core.display.Markdown object>"
      ]
     },
     "metadata": {},
     "output_type": "display_data"
    },
    {
     "data": {
      "text/markdown": [
       "When I went back home to visit that first time and told my **mother** all about my livin in Washington, she fell into such a cry, like maybe I had managed to make it to heaven without dyin."
      ],
      "text/plain": [
       "<IPython.core.display.Markdown object>"
      ]
     },
     "metadata": {},
     "output_type": "display_data"
    },
    {
     "data": {
      "text/markdown": [
       "She had not played another tape since the one about her **mother**"
      ],
      "text/plain": [
       "<IPython.core.display.Markdown object>"
      ]
     },
     "metadata": {},
     "output_type": "display_data"
    },
    {
     "data": {
      "text/markdown": [
       "This white family my **mother** worked for, they had a son married and gone to live in Baltimore."
      ],
      "text/plain": [
       "<IPython.core.display.Markdown object>"
      ]
     },
     "metadata": {},
     "output_type": "display_data"
    },
    {
     "data": {
      "text/markdown": [
       "So he wrote to his **mother** and she asked my **mother** and my **mother** asked me about goin to live in Baltimore."
      ],
      "text/plain": [
       "<IPython.core.display.Markdown object>"
      ]
     },
     "metadata": {},
     "output_type": "display_data"
    },
    {
     "data": {
      "text/markdown": [
       "Hadn’t ever been kissed, hadn’t ever been anything, but here I was goin farther from home than my **mother** and father put together…."
      ],
      "text/plain": [
       "<IPython.core.display.Markdown object>"
      ]
     },
     "metadata": {},
     "output_type": "display_data"
    }
   ],
   "source": [
    "find_sentences_with_keyword(keyword=\"mother\", document=document)"
   ]
  },
  {
   "cell_type": "markdown",
   "metadata": {},
   "source": [
    "# Get Keyword in Context"
   ]
  },
  {
   "cell_type": "markdown",
   "metadata": {},
   "source": [
    "We can also find out about a keyword's more immediate context — its neighboring words to the left and right — and we can fine-tune our search with POS tagging.\n",
    "\n",
    "To do so, we will first create a list of what's called *ngrams*. \"Ngrams\" are any sequence of *n* tokens in a text. They're an important concept in computational linguistics and NLP. (Have you ever played with [Google's *Ngram* Viewer](https://books.google.com/ngrams)?)\n",
    "\n",
    "Below we're going to make a list of *bigrams*, that is, all the two-word combinations from *Lost in the City*. We're going to use these bigrams to find the neighboring words that appear alongside particular keywords."
   ]
  },
  {
   "cell_type": "code",
   "execution_count": 1680,
   "metadata": {},
   "outputs": [],
   "source": [
    "#Make a list of tokens and POS labels from document if the token is a word \n",
    "tokens_and_labels = [(token.text, token.pos_) for token in document if token.is_alpha]"
   ]
  },
  {
   "cell_type": "code",
   "execution_count": 1687,
   "metadata": {},
   "outputs": [],
   "source": [
    "#Make a function to get all two-word combinations\n",
    "def get_bigrams(word_list, number_consecutive_words=2):\n",
    "    \n",
    "    ngrams = []\n",
    "    adj_length_of_word_list = len(word_list) - (number_consecutive_words - 1)\n",
    "    \n",
    "    #Loop through numbers from 0 to the (slightly adjusted) length of your word list\n",
    "    for word_index in range(adj_length_of_word_list):\n",
    "        \n",
    "        #Index the list at each number, grabbing the word at that number index as well as N number of words after it\n",
    "        ngram = word_list[word_index : word_index + number_consecutive_words]\n",
    "        \n",
    "        #Append this word combo to the master list \"ngrams\"\n",
    "        ngrams.append(ngram)\n",
    "        \n",
    "    return ngrams"
   ]
  },
  {
   "cell_type": "code",
   "execution_count": 1682,
   "metadata": {},
   "outputs": [],
   "source": [
    "bigrams = get_bigrams(tokens_and_labels)"
   ]
  },
  {
   "cell_type": "markdown",
   "metadata": {},
   "source": [
    "Let's take a peek at the bigrams:"
   ]
  },
  {
   "cell_type": "code",
   "execution_count": 1686,
   "metadata": {
    "scrolled": true,
    "tags": [
     "output_scroll"
    ]
   },
   "outputs": [
    {
     "data": {
      "text/plain": [
       "[[('Her', 'DET'), ('father', 'NOUN')],\n",
       " [('father', 'NOUN'), ('would', 'VERB')],\n",
       " [('would', 'VERB'), ('say', 'VERB')],\n",
       " [('say', 'VERB'), ('years', 'NOUN')],\n",
       " [('years', 'NOUN'), ('later', 'ADV')],\n",
       " [('later', 'ADV'), ('that', 'ADP')],\n",
       " [('that', 'ADP'), ('she', 'PRON')],\n",
       " [('she', 'PRON'), ('had', 'VERB')],\n",
       " [('had', 'VERB'), ('dreamed', 'VERB')],\n",
       " [('dreamed', 'VERB'), ('that', 'DET')],\n",
       " [('that', 'DET'), ('part', 'NOUN')],\n",
       " [('part', 'NOUN'), ('of', 'ADP')],\n",
       " [('of', 'ADP'), ('it', 'PRON')],\n",
       " [('it', 'PRON'), ('that', 'ADP')],\n",
       " [('that', 'ADP'), ('she', 'PRON')]]"
      ]
     },
     "execution_count": 1686,
     "metadata": {},
     "output_type": "execute_result"
    }
   ],
   "source": [
    "bigrams[5:20]"
   ]
  },
  {
   "cell_type": "markdown",
   "metadata": {},
   "source": [
    "Now that we have our list of bigrams, we're going to make a function `get_neighbor_words()`. This function will return the most frequent words that appear next to a particular keyword. The function can also be fine-tuned to return neighbor words that match a certain part of speech by changing the `pos_label` parameter."
   ]
  },
  {
   "cell_type": "code",
   "execution_count": 1688,
   "metadata": {},
   "outputs": [],
   "source": [
    "def get_neighbor_words(keyword, bigrams, pos_label = None):\n",
    "    \n",
    "    neighbor_words = []\n",
    "    keyword = keyword.lower()\n",
    "    \n",
    "    for bigram in bigrams:\n",
    "        \n",
    "        #Extract just the lowercased words (not the labels) for each bigram\n",
    "        words = [word.lower() for word, label in bigram]        \n",
    "        \n",
    "        #Check to see if keyword is in the bigram\n",
    "        if keyword in words:\n",
    "            \n",
    "            for word, label in bigram:\n",
    "                \n",
    "                #Now focus on the neighbor word, not the keyword\n",
    "                if word.lower() != keyword:\n",
    "                    #If the neighbor word matches the right pos_label, append it to the master list\n",
    "                    if label == pos_label or pos_label == None:\n",
    "                        neighbor_words.append(word.lower())\n",
    "    \n",
    "    return Counter(neighbor_words).most_common()"
   ]
  },
  {
   "cell_type": "code",
   "execution_count": 1689,
   "metadata": {
    "scrolled": true,
    "tags": [
     "output_scroll"
    ]
   },
   "outputs": [
    {
     "data": {
      "text/plain": [
       "[('my', 86),\n",
       " ('her', 75),\n",
       " ('his', 39),\n",
       " ('and', 27),\n",
       " ('had', 24),\n",
       " ('said', 18),\n",
       " ('the', 18),\n",
       " ('would', 12),\n",
       " ('was', 9),\n",
       " ('day', 8),\n",
       " ('your', 7),\n",
       " ('she', 6),\n",
       " ('their', 6),\n",
       " ('has', 5),\n",
       " ('anita', 4),\n",
       " ('told', 4),\n",
       " ('in', 4),\n",
       " ('died', 3),\n",
       " ('church', 3),\n",
       " ('says', 3),\n",
       " ('i', 3),\n",
       " ('as', 3),\n",
       " ('who', 3),\n",
       " ('only', 3),\n",
       " ('hand', 3),\n",
       " ('thought', 3),\n",
       " ('lived', 3),\n",
       " ('he', 3),\n",
       " ('a', 3),\n",
       " ('lies', 3),\n",
       " ('lydia', 3),\n",
       " ('ebbie', 3),\n",
       " ('miles', 2),\n",
       " ('but', 2),\n",
       " ('to', 2),\n",
       " ('does', 2),\n",
       " ('when', 2),\n",
       " ('is', 2),\n",
       " ('asks', 2),\n",
       " ('before', 2),\n",
       " ('wanted', 2),\n",
       " ('put', 2),\n",
       " ('of', 2),\n",
       " ('with', 2),\n",
       " ('old', 2),\n",
       " ('once', 2),\n",
       " ('at', 2),\n",
       " ('marvella', 2),\n",
       " ('lap', 2),\n",
       " ('following', 2),\n",
       " ('asked', 2),\n",
       " ('own', 2),\n",
       " ('happy', 2),\n",
       " ('it', 2),\n",
       " ('woodrow', 2),\n",
       " ('did', 1),\n",
       " ('things', 1),\n",
       " ('returns', 1),\n",
       " ('slaps', 1),\n",
       " ('tells', 1),\n",
       " ('shakes', 1),\n",
       " ('that', 1),\n",
       " ('what', 1),\n",
       " ('looks', 1),\n",
       " ('takes', 1),\n",
       " ('answers', 1),\n",
       " ('slowly', 1),\n",
       " ('continues', 1),\n",
       " ('offers', 1),\n",
       " ('presents', 1),\n",
       " ('stares', 1),\n",
       " ('kneels', 1),\n",
       " ('footsteps', 1),\n",
       " ('paid', 1),\n",
       " ('boys', 1),\n",
       " ('waiting', 1),\n",
       " ('hollered', 1),\n",
       " ('took', 1),\n",
       " ('came', 1),\n",
       " ('helped', 1),\n",
       " ('nightgowns', 1),\n",
       " ('raised', 1),\n",
       " ('caesar', 1),\n",
       " ('funeral', 1),\n",
       " ('too', 1),\n",
       " ('so', 1),\n",
       " ('always', 1),\n",
       " ('feared', 1),\n",
       " ('believed', 1),\n",
       " ('lonney', 1),\n",
       " ('stood', 1),\n",
       " ('rose', 1),\n",
       " ('closed', 1),\n",
       " ('parents', 1),\n",
       " ('seemed', 1),\n",
       " ('off', 1),\n",
       " ('proud', 1),\n",
       " ('kentucky', 1),\n",
       " ('girl', 1),\n",
       " ('away', 1),\n",
       " ('penny', 1),\n",
       " ('patricia', 1),\n",
       " ('place', 1),\n",
       " ('other', 1),\n",
       " ('this', 1),\n",
       " ('asleep', 1),\n",
       " ('apartment', 1),\n",
       " ('kinda', 1),\n",
       " ('order', 1),\n",
       " ('one', 1),\n",
       " ('sent', 1),\n",
       " ('looked', 1),\n",
       " ('spend', 1),\n",
       " ('after', 1),\n",
       " ('such', 1),\n",
       " ('two', 1),\n",
       " ('passed', 1),\n",
       " ('knew', 1),\n",
       " ('on', 1),\n",
       " ('best', 1),\n",
       " ('go', 1),\n",
       " ('slapped', 1),\n",
       " ('refused', 1),\n",
       " ('recipe', 1),\n",
       " ('house', 1),\n",
       " ('moved', 1),\n",
       " ('then', 1),\n",
       " ('humphrey', 1),\n",
       " ('pearl', 1),\n",
       " ('started', 1),\n",
       " ('rarely', 1),\n",
       " ('because', 1),\n",
       " ('way', 1),\n",
       " ('thinking', 1),\n",
       " ('there', 1),\n",
       " ('married', 1),\n",
       " ('which', 1),\n",
       " ('say', 1),\n",
       " ('yet', 1),\n",
       " ('shook', 1),\n",
       " ('virgin', 1),\n",
       " ('baptist', 1),\n",
       " ('get', 1),\n",
       " ('friend', 1),\n",
       " ('like', 1),\n",
       " ('good', 1),\n",
       " ('face', 1),\n",
       " ('sat', 1),\n",
       " ('garden', 1),\n",
       " ('used', 1),\n",
       " ('askin', 1),\n",
       " ('all', 1),\n",
       " ('idea', 1),\n",
       " ('worked', 1)]"
      ]
     },
     "execution_count": 1689,
     "metadata": {},
     "output_type": "execute_result"
    }
   ],
   "source": [
    "get_neighbor_words(\"mother\", bigrams)"
   ]
  },
  {
   "cell_type": "code",
   "execution_count": 1691,
   "metadata": {},
   "outputs": [
    {
     "data": {
      "text/plain": [
       "[('own', 2),\n",
       " ('closed', 1),\n",
       " ('proud', 1),\n",
       " ('other', 1),\n",
       " ('asleep', 1),\n",
       " ('happy', 1),\n",
       " ('such', 1),\n",
       " ('best', 1),\n",
       " ('old', 1),\n",
       " ('good', 1)]"
      ]
     },
     "execution_count": 1691,
     "metadata": {},
     "output_type": "execute_result"
    }
   ],
   "source": [
    "get_neighbor_words(\"mother\", bigrams, pos_label='ADJ')"
   ]
  },
  {
   "cell_type": "markdown",
   "metadata": {},
   "source": [
    "# Your Turn!"
   ]
  },
  {
   "cell_type": "markdown",
   "metadata": {},
   "source": [
    "Try out `find_sentences_with_keyword()` and `get_neighbor_words` with your own keywords of interest."
   ]
  },
  {
   "cell_type": "code",
   "execution_count": null,
   "metadata": {},
   "outputs": [],
   "source": [
    "find_sentences_with_keyword(keyword=\"YOUR KEY WORD\", document=document)"
   ]
  },
  {
   "cell_type": "code",
   "execution_count": null,
   "metadata": {},
   "outputs": [],
   "source": [
    "get_neighbor_words(keyword=\"YOUR KEY WORD\", bigrams, pos_label=None)"
   ]
  }
 ],
 "metadata": {
  "kernelspec": {
   "display_name": "Python 3",
   "language": "python",
   "name": "python3"
  },
  "language_info": {
   "codemirror_mode": {
    "name": "ipython",
    "version": 3
   },
   "file_extension": ".py",
   "mimetype": "text/x-python",
   "name": "python",
   "nbconvert_exporter": "python",
   "pygments_lexer": "ipython3",
   "version": "3.7.5"
  }
 },
 "nbformat": 4,
 "nbformat_minor": 4
}
